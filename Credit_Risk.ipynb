{
  "nbformat": 4,
  "nbformat_minor": 0,
  "metadata": {
    "colab": {
      "name": "Credit_Risk.ipynb",
      "provenance": [],
      "collapsed_sections": [
        "3Ht8XKYv5L7z"
      ]
    },
    "kernelspec": {
      "name": "python3",
      "display_name": "Python 3"
    },
    "language_info": {
      "name": "python"
    }
  },
  "cells": [
    {
      "cell_type": "markdown",
      "source": [
        "# Run All"
      ],
      "metadata": {
        "id": "aXnZ-YGsrlLH"
      }
    },
    {
      "cell_type": "markdown",
      "source": [
        "## Import and Load"
      ],
      "metadata": {
        "id": "f5YY_Ip1rm7B"
      }
    },
    {
      "cell_type": "code",
      "execution_count": 179,
      "metadata": {
        "id": "1XMQF2gOrCmd"
      },
      "outputs": [],
      "source": [
        "import pandas as pd\n",
        "import numpy as np\n",
        "\n",
        "import matplotlib as mpl\n",
        "import matplotlib.pyplot as plt\n",
        "%matplotlib inline\n",
        "\n",
        "import seaborn as sns\n",
        "from matplotlib import rcParams\n",
        "\n",
        "import datetime as dt\n",
        "import warnings\n",
        "\n",
        "from sklearn.preprocessing import LabelEncoder\n",
        "from sklearn.ensemble import HistGradientBoostingClassifier, ExtraTreesClassifier\n",
        "from sklearn.model_selection import train_test_split, GridSearchCV, cross_val_score\n",
        "from sklearn.metrics import classification_report, confusion_matrix"
      ]
    },
    {
      "cell_type": "code",
      "source": [
        "rcParams['figure.figsize'] = 15, 8\n",
        "mpl.style.use(['ggplot'])\n",
        "warnings.filterwarnings(\"ignore\")"
      ],
      "metadata": {
        "id": "d-iFmADMy7NX"
      },
      "execution_count": 180,
      "outputs": []
    },
    {
      "cell_type": "code",
      "source": [
        "df_loan = pd.read_csv('https://drive.google.com/uc?id=18dZ1xq3950S7IoCm1MBZsGa99WfJKT7R&confirm=t', low_memory=False)"
      ],
      "metadata": {
        "id": "TCy-l6jHrzCC"
      },
      "execution_count": 3,
      "outputs": []
    },
    {
      "cell_type": "code",
      "source": [
        "df_loan.head()"
      ],
      "metadata": {
        "colab": {
          "base_uri": "https://localhost:8080/",
          "height": 404
        },
        "id": "k6HYT_VwsWmS",
        "outputId": "67d4dd27-0397-413d-8652-01ff7954d415"
      },
      "execution_count": 4,
      "outputs": [
        {
          "output_type": "execute_result",
          "data": {
            "text/plain": [
              "   Unnamed: 0       id  member_id  loan_amnt  funded_amnt  funded_amnt_inv  \\\n",
              "0           0  1077501    1296599       5000         5000           4975.0   \n",
              "1           1  1077430    1314167       2500         2500           2500.0   \n",
              "2           2  1077175    1313524       2400         2400           2400.0   \n",
              "3           3  1076863    1277178      10000        10000          10000.0   \n",
              "4           4  1075358    1311748       3000         3000           3000.0   \n",
              "\n",
              "         term  int_rate  installment grade  ... total_bal_il il_util  \\\n",
              "0   36 months     10.65       162.87     B  ...          NaN     NaN   \n",
              "1   60 months     15.27        59.83     C  ...          NaN     NaN   \n",
              "2   36 months     15.96        84.33     C  ...          NaN     NaN   \n",
              "3   36 months     13.49       339.31     C  ...          NaN     NaN   \n",
              "4   60 months     12.69        67.79     B  ...          NaN     NaN   \n",
              "\n",
              "  open_rv_12m open_rv_24m  max_bal_bc all_util total_rev_hi_lim inq_fi  \\\n",
              "0         NaN         NaN         NaN      NaN              NaN    NaN   \n",
              "1         NaN         NaN         NaN      NaN              NaN    NaN   \n",
              "2         NaN         NaN         NaN      NaN              NaN    NaN   \n",
              "3         NaN         NaN         NaN      NaN              NaN    NaN   \n",
              "4         NaN         NaN         NaN      NaN              NaN    NaN   \n",
              "\n",
              "  total_cu_tl inq_last_12m  \n",
              "0         NaN          NaN  \n",
              "1         NaN          NaN  \n",
              "2         NaN          NaN  \n",
              "3         NaN          NaN  \n",
              "4         NaN          NaN  \n",
              "\n",
              "[5 rows x 75 columns]"
            ],
            "text/html": [
              "\n",
              "  <div id=\"df-8fe2f8ff-a8c4-446c-83e4-0d5244525719\">\n",
              "    <div class=\"colab-df-container\">\n",
              "      <div>\n",
              "<style scoped>\n",
              "    .dataframe tbody tr th:only-of-type {\n",
              "        vertical-align: middle;\n",
              "    }\n",
              "\n",
              "    .dataframe tbody tr th {\n",
              "        vertical-align: top;\n",
              "    }\n",
              "\n",
              "    .dataframe thead th {\n",
              "        text-align: right;\n",
              "    }\n",
              "</style>\n",
              "<table border=\"1\" class=\"dataframe\">\n",
              "  <thead>\n",
              "    <tr style=\"text-align: right;\">\n",
              "      <th></th>\n",
              "      <th>Unnamed: 0</th>\n",
              "      <th>id</th>\n",
              "      <th>member_id</th>\n",
              "      <th>loan_amnt</th>\n",
              "      <th>funded_amnt</th>\n",
              "      <th>funded_amnt_inv</th>\n",
              "      <th>term</th>\n",
              "      <th>int_rate</th>\n",
              "      <th>installment</th>\n",
              "      <th>grade</th>\n",
              "      <th>...</th>\n",
              "      <th>total_bal_il</th>\n",
              "      <th>il_util</th>\n",
              "      <th>open_rv_12m</th>\n",
              "      <th>open_rv_24m</th>\n",
              "      <th>max_bal_bc</th>\n",
              "      <th>all_util</th>\n",
              "      <th>total_rev_hi_lim</th>\n",
              "      <th>inq_fi</th>\n",
              "      <th>total_cu_tl</th>\n",
              "      <th>inq_last_12m</th>\n",
              "    </tr>\n",
              "  </thead>\n",
              "  <tbody>\n",
              "    <tr>\n",
              "      <th>0</th>\n",
              "      <td>0</td>\n",
              "      <td>1077501</td>\n",
              "      <td>1296599</td>\n",
              "      <td>5000</td>\n",
              "      <td>5000</td>\n",
              "      <td>4975.0</td>\n",
              "      <td>36 months</td>\n",
              "      <td>10.65</td>\n",
              "      <td>162.87</td>\n",
              "      <td>B</td>\n",
              "      <td>...</td>\n",
              "      <td>NaN</td>\n",
              "      <td>NaN</td>\n",
              "      <td>NaN</td>\n",
              "      <td>NaN</td>\n",
              "      <td>NaN</td>\n",
              "      <td>NaN</td>\n",
              "      <td>NaN</td>\n",
              "      <td>NaN</td>\n",
              "      <td>NaN</td>\n",
              "      <td>NaN</td>\n",
              "    </tr>\n",
              "    <tr>\n",
              "      <th>1</th>\n",
              "      <td>1</td>\n",
              "      <td>1077430</td>\n",
              "      <td>1314167</td>\n",
              "      <td>2500</td>\n",
              "      <td>2500</td>\n",
              "      <td>2500.0</td>\n",
              "      <td>60 months</td>\n",
              "      <td>15.27</td>\n",
              "      <td>59.83</td>\n",
              "      <td>C</td>\n",
              "      <td>...</td>\n",
              "      <td>NaN</td>\n",
              "      <td>NaN</td>\n",
              "      <td>NaN</td>\n",
              "      <td>NaN</td>\n",
              "      <td>NaN</td>\n",
              "      <td>NaN</td>\n",
              "      <td>NaN</td>\n",
              "      <td>NaN</td>\n",
              "      <td>NaN</td>\n",
              "      <td>NaN</td>\n",
              "    </tr>\n",
              "    <tr>\n",
              "      <th>2</th>\n",
              "      <td>2</td>\n",
              "      <td>1077175</td>\n",
              "      <td>1313524</td>\n",
              "      <td>2400</td>\n",
              "      <td>2400</td>\n",
              "      <td>2400.0</td>\n",
              "      <td>36 months</td>\n",
              "      <td>15.96</td>\n",
              "      <td>84.33</td>\n",
              "      <td>C</td>\n",
              "      <td>...</td>\n",
              "      <td>NaN</td>\n",
              "      <td>NaN</td>\n",
              "      <td>NaN</td>\n",
              "      <td>NaN</td>\n",
              "      <td>NaN</td>\n",
              "      <td>NaN</td>\n",
              "      <td>NaN</td>\n",
              "      <td>NaN</td>\n",
              "      <td>NaN</td>\n",
              "      <td>NaN</td>\n",
              "    </tr>\n",
              "    <tr>\n",
              "      <th>3</th>\n",
              "      <td>3</td>\n",
              "      <td>1076863</td>\n",
              "      <td>1277178</td>\n",
              "      <td>10000</td>\n",
              "      <td>10000</td>\n",
              "      <td>10000.0</td>\n",
              "      <td>36 months</td>\n",
              "      <td>13.49</td>\n",
              "      <td>339.31</td>\n",
              "      <td>C</td>\n",
              "      <td>...</td>\n",
              "      <td>NaN</td>\n",
              "      <td>NaN</td>\n",
              "      <td>NaN</td>\n",
              "      <td>NaN</td>\n",
              "      <td>NaN</td>\n",
              "      <td>NaN</td>\n",
              "      <td>NaN</td>\n",
              "      <td>NaN</td>\n",
              "      <td>NaN</td>\n",
              "      <td>NaN</td>\n",
              "    </tr>\n",
              "    <tr>\n",
              "      <th>4</th>\n",
              "      <td>4</td>\n",
              "      <td>1075358</td>\n",
              "      <td>1311748</td>\n",
              "      <td>3000</td>\n",
              "      <td>3000</td>\n",
              "      <td>3000.0</td>\n",
              "      <td>60 months</td>\n",
              "      <td>12.69</td>\n",
              "      <td>67.79</td>\n",
              "      <td>B</td>\n",
              "      <td>...</td>\n",
              "      <td>NaN</td>\n",
              "      <td>NaN</td>\n",
              "      <td>NaN</td>\n",
              "      <td>NaN</td>\n",
              "      <td>NaN</td>\n",
              "      <td>NaN</td>\n",
              "      <td>NaN</td>\n",
              "      <td>NaN</td>\n",
              "      <td>NaN</td>\n",
              "      <td>NaN</td>\n",
              "    </tr>\n",
              "  </tbody>\n",
              "</table>\n",
              "<p>5 rows × 75 columns</p>\n",
              "</div>\n",
              "      <button class=\"colab-df-convert\" onclick=\"convertToInteractive('df-8fe2f8ff-a8c4-446c-83e4-0d5244525719')\"\n",
              "              title=\"Convert this dataframe to an interactive table.\"\n",
              "              style=\"display:none;\">\n",
              "        \n",
              "  <svg xmlns=\"http://www.w3.org/2000/svg\" height=\"24px\"viewBox=\"0 0 24 24\"\n",
              "       width=\"24px\">\n",
              "    <path d=\"M0 0h24v24H0V0z\" fill=\"none\"/>\n",
              "    <path d=\"M18.56 5.44l.94 2.06.94-2.06 2.06-.94-2.06-.94-.94-2.06-.94 2.06-2.06.94zm-11 1L8.5 8.5l.94-2.06 2.06-.94-2.06-.94L8.5 2.5l-.94 2.06-2.06.94zm10 10l.94 2.06.94-2.06 2.06-.94-2.06-.94-.94-2.06-.94 2.06-2.06.94z\"/><path d=\"M17.41 7.96l-1.37-1.37c-.4-.4-.92-.59-1.43-.59-.52 0-1.04.2-1.43.59L10.3 9.45l-7.72 7.72c-.78.78-.78 2.05 0 2.83L4 21.41c.39.39.9.59 1.41.59.51 0 1.02-.2 1.41-.59l7.78-7.78 2.81-2.81c.8-.78.8-2.07 0-2.86zM5.41 20L4 18.59l7.72-7.72 1.47 1.35L5.41 20z\"/>\n",
              "  </svg>\n",
              "      </button>\n",
              "      \n",
              "  <style>\n",
              "    .colab-df-container {\n",
              "      display:flex;\n",
              "      flex-wrap:wrap;\n",
              "      gap: 12px;\n",
              "    }\n",
              "\n",
              "    .colab-df-convert {\n",
              "      background-color: #E8F0FE;\n",
              "      border: none;\n",
              "      border-radius: 50%;\n",
              "      cursor: pointer;\n",
              "      display: none;\n",
              "      fill: #1967D2;\n",
              "      height: 32px;\n",
              "      padding: 0 0 0 0;\n",
              "      width: 32px;\n",
              "    }\n",
              "\n",
              "    .colab-df-convert:hover {\n",
              "      background-color: #E2EBFA;\n",
              "      box-shadow: 0px 1px 2px rgba(60, 64, 67, 0.3), 0px 1px 3px 1px rgba(60, 64, 67, 0.15);\n",
              "      fill: #174EA6;\n",
              "    }\n",
              "\n",
              "    [theme=dark] .colab-df-convert {\n",
              "      background-color: #3B4455;\n",
              "      fill: #D2E3FC;\n",
              "    }\n",
              "\n",
              "    [theme=dark] .colab-df-convert:hover {\n",
              "      background-color: #434B5C;\n",
              "      box-shadow: 0px 1px 3px 1px rgba(0, 0, 0, 0.15);\n",
              "      filter: drop-shadow(0px 1px 2px rgba(0, 0, 0, 0.3));\n",
              "      fill: #FFFFFF;\n",
              "    }\n",
              "  </style>\n",
              "\n",
              "      <script>\n",
              "        const buttonEl =\n",
              "          document.querySelector('#df-8fe2f8ff-a8c4-446c-83e4-0d5244525719 button.colab-df-convert');\n",
              "        buttonEl.style.display =\n",
              "          google.colab.kernel.accessAllowed ? 'block' : 'none';\n",
              "\n",
              "        async function convertToInteractive(key) {\n",
              "          const element = document.querySelector('#df-8fe2f8ff-a8c4-446c-83e4-0d5244525719');\n",
              "          const dataTable =\n",
              "            await google.colab.kernel.invokeFunction('convertToInteractive',\n",
              "                                                     [key], {});\n",
              "          if (!dataTable) return;\n",
              "\n",
              "          const docLinkHtml = 'Like what you see? Visit the ' +\n",
              "            '<a target=\"_blank\" href=https://colab.research.google.com/notebooks/data_table.ipynb>data table notebook</a>'\n",
              "            + ' to learn more about interactive tables.';\n",
              "          element.innerHTML = '';\n",
              "          dataTable['output_type'] = 'display_data';\n",
              "          await google.colab.output.renderOutput(dataTable, element);\n",
              "          const docLink = document.createElement('div');\n",
              "          docLink.innerHTML = docLinkHtml;\n",
              "          element.appendChild(docLink);\n",
              "        }\n",
              "      </script>\n",
              "    </div>\n",
              "  </div>\n",
              "  "
            ]
          },
          "metadata": {},
          "execution_count": 4
        }
      ]
    },
    {
      "cell_type": "code",
      "source": [
        "df_loan.shape"
      ],
      "metadata": {
        "colab": {
          "base_uri": "https://localhost:8080/"
        },
        "id": "t-febiRRt2LO",
        "outputId": "a1d6b2db-864b-4bfd-e19b-a382001c45fe"
      },
      "execution_count": 5,
      "outputs": [
        {
          "output_type": "execute_result",
          "data": {
            "text/plain": [
              "(466285, 75)"
            ]
          },
          "metadata": {},
          "execution_count": 5
        }
      ]
    },
    {
      "cell_type": "markdown",
      "source": [
        "## Data Preprocessing"
      ],
      "metadata": {
        "id": "R4ivT1Jxt4_K"
      }
    },
    {
      "cell_type": "markdown",
      "source": [
        "### Drop Kolom dengan Nilai NaN Banyak (>4.5%)"
      ],
      "metadata": {
        "id": "3Ht8XKYv5L7z"
      }
    },
    {
      "cell_type": "code",
      "source": [
        "kolom_kosong = df_loan.isnull().sum().sort_values(ascending=False)\n",
        "kolom_kosong"
      ],
      "metadata": {
        "colab": {
          "base_uri": "https://localhost:8080/"
        },
        "id": "Lu-z-_D9vqaz",
        "outputId": "b4131219-e7e7-422d-f3fc-5c3fe11b8a89"
      },
      "execution_count": 6,
      "outputs": [
        {
          "output_type": "execute_result",
          "data": {
            "text/plain": [
              "inq_last_12m                 466285\n",
              "total_bal_il                 466285\n",
              "dti_joint                    466285\n",
              "verification_status_joint    466285\n",
              "annual_inc_joint             466285\n",
              "                              ...  \n",
              "total_pymnt                       0\n",
              "total_pymnt_inv                   0\n",
              "total_rec_prncp                   0\n",
              "total_rec_int                     0\n",
              "out_prncp                         0\n",
              "Length: 75, dtype: int64"
            ]
          },
          "metadata": {},
          "execution_count": 6
        }
      ]
    },
    {
      "cell_type": "code",
      "source": [
        "for index, values in kolom_kosong.iteritems():\n",
        "  print(index, ' = ', values)"
      ],
      "metadata": {
        "colab": {
          "base_uri": "https://localhost:8080/"
        },
        "id": "WRnt0dCgvEJA",
        "outputId": "4df416b1-f60a-4148-f452-25a2946bf8b3"
      },
      "execution_count": 7,
      "outputs": [
        {
          "output_type": "stream",
          "name": "stdout",
          "text": [
            "inq_last_12m  =  466285\n",
            "total_bal_il  =  466285\n",
            "dti_joint  =  466285\n",
            "verification_status_joint  =  466285\n",
            "annual_inc_joint  =  466285\n",
            "open_acc_6m  =  466285\n",
            "open_il_6m  =  466285\n",
            "open_il_12m  =  466285\n",
            "open_il_24m  =  466285\n",
            "mths_since_rcnt_il  =  466285\n",
            "il_util  =  466285\n",
            "open_rv_24m  =  466285\n",
            "total_cu_tl  =  466285\n",
            "inq_fi  =  466285\n",
            "max_bal_bc  =  466285\n",
            "all_util  =  466285\n",
            "open_rv_12m  =  466285\n",
            "mths_since_last_record  =  403647\n",
            "mths_since_last_major_derog  =  367311\n",
            "desc  =  340302\n",
            "mths_since_last_delinq  =  250351\n",
            "next_pymnt_d  =  227214\n",
            "tot_cur_bal  =  70276\n",
            "tot_coll_amt  =  70276\n",
            "total_rev_hi_lim  =  70276\n",
            "emp_title  =  27588\n",
            "emp_length  =  21008\n",
            "last_pymnt_d  =  376\n",
            "revol_util  =  340\n",
            "collections_12_mths_ex_med  =  145\n",
            "last_credit_pull_d  =  42\n",
            "inq_last_6mths  =  29\n",
            "earliest_cr_line  =  29\n",
            "delinq_2yrs  =  29\n",
            "open_acc  =  29\n",
            "pub_rec  =  29\n",
            "acc_now_delinq  =  29\n",
            "total_acc  =  29\n",
            "title  =  20\n",
            "annual_inc  =  4\n",
            "application_type  =  0\n",
            "policy_code  =  0\n",
            "collection_recovery_fee  =  0\n",
            "last_pymnt_amnt  =  0\n",
            "Unnamed: 0  =  0\n",
            "recoveries  =  0\n",
            "total_rec_late_fee  =  0\n",
            "member_id  =  0\n",
            "loan_amnt  =  0\n",
            "funded_amnt  =  0\n",
            "funded_amnt_inv  =  0\n",
            "term  =  0\n",
            "int_rate  =  0\n",
            "installment  =  0\n",
            "grade  =  0\n",
            "sub_grade  =  0\n",
            "home_ownership  =  0\n",
            "verification_status  =  0\n",
            "issue_d  =  0\n",
            "loan_status  =  0\n",
            "pymnt_plan  =  0\n",
            "url  =  0\n",
            "purpose  =  0\n",
            "zip_code  =  0\n",
            "addr_state  =  0\n",
            "dti  =  0\n",
            "revol_bal  =  0\n",
            "initial_list_status  =  0\n",
            "id  =  0\n",
            "out_prncp_inv  =  0\n",
            "total_pymnt  =  0\n",
            "total_pymnt_inv  =  0\n",
            "total_rec_prncp  =  0\n",
            "total_rec_int  =  0\n",
            "out_prncp  =  0\n"
          ]
        }
      ]
    },
    {
      "cell_type": "code",
      "source": [
        "kolom_kosong = {x:y for x,y in kolom_kosong.items() if y!=0}\n",
        "kolom_kosong"
      ],
      "metadata": {
        "colab": {
          "base_uri": "https://localhost:8080/"
        },
        "id": "bN2pe7R5w_uh",
        "outputId": "c0a66617-778a-485a-f365-c01598f7807f"
      },
      "execution_count": 8,
      "outputs": [
        {
          "output_type": "execute_result",
          "data": {
            "text/plain": [
              "{'acc_now_delinq': 29,\n",
              " 'all_util': 466285,\n",
              " 'annual_inc': 4,\n",
              " 'annual_inc_joint': 466285,\n",
              " 'collections_12_mths_ex_med': 145,\n",
              " 'delinq_2yrs': 29,\n",
              " 'desc': 340302,\n",
              " 'dti_joint': 466285,\n",
              " 'earliest_cr_line': 29,\n",
              " 'emp_length': 21008,\n",
              " 'emp_title': 27588,\n",
              " 'il_util': 466285,\n",
              " 'inq_fi': 466285,\n",
              " 'inq_last_12m': 466285,\n",
              " 'inq_last_6mths': 29,\n",
              " 'last_credit_pull_d': 42,\n",
              " 'last_pymnt_d': 376,\n",
              " 'max_bal_bc': 466285,\n",
              " 'mths_since_last_delinq': 250351,\n",
              " 'mths_since_last_major_derog': 367311,\n",
              " 'mths_since_last_record': 403647,\n",
              " 'mths_since_rcnt_il': 466285,\n",
              " 'next_pymnt_d': 227214,\n",
              " 'open_acc': 29,\n",
              " 'open_acc_6m': 466285,\n",
              " 'open_il_12m': 466285,\n",
              " 'open_il_24m': 466285,\n",
              " 'open_il_6m': 466285,\n",
              " 'open_rv_12m': 466285,\n",
              " 'open_rv_24m': 466285,\n",
              " 'pub_rec': 29,\n",
              " 'revol_util': 340,\n",
              " 'title': 20,\n",
              " 'tot_coll_amt': 70276,\n",
              " 'tot_cur_bal': 70276,\n",
              " 'total_acc': 29,\n",
              " 'total_bal_il': 466285,\n",
              " 'total_cu_tl': 466285,\n",
              " 'total_rev_hi_lim': 70276,\n",
              " 'verification_status_joint': 466285}"
            ]
          },
          "metadata": {},
          "execution_count": 8
        }
      ]
    },
    {
      "cell_type": "code",
      "source": [
        "kolom_kosong = pd.Series(kolom_kosong)\n",
        "kolom_kosong.sort_values(ascending=False)"
      ],
      "metadata": {
        "colab": {
          "base_uri": "https://localhost:8080/"
        },
        "id": "Zct1_RcJzYIT",
        "outputId": "1e7d6dbd-4f37-46d6-a8cc-db764dd757a3"
      },
      "execution_count": 9,
      "outputs": [
        {
          "output_type": "execute_result",
          "data": {
            "text/plain": [
              "inq_last_12m                   466285\n",
              "mths_since_rcnt_il             466285\n",
              "open_rv_12m                    466285\n",
              "all_util                       466285\n",
              "max_bal_bc                     466285\n",
              "inq_fi                         466285\n",
              "total_cu_tl                    466285\n",
              "open_rv_24m                    466285\n",
              "total_bal_il                   466285\n",
              "il_util                        466285\n",
              "open_il_24m                    466285\n",
              "open_il_12m                    466285\n",
              "open_il_6m                     466285\n",
              "open_acc_6m                    466285\n",
              "annual_inc_joint               466285\n",
              "verification_status_joint      466285\n",
              "dti_joint                      466285\n",
              "mths_since_last_record         403647\n",
              "mths_since_last_major_derog    367311\n",
              "desc                           340302\n",
              "mths_since_last_delinq         250351\n",
              "next_pymnt_d                   227214\n",
              "tot_cur_bal                     70276\n",
              "tot_coll_amt                    70276\n",
              "total_rev_hi_lim                70276\n",
              "emp_title                       27588\n",
              "emp_length                      21008\n",
              "last_pymnt_d                      376\n",
              "revol_util                        340\n",
              "collections_12_mths_ex_med        145\n",
              "last_credit_pull_d                 42\n",
              "inq_last_6mths                     29\n",
              "earliest_cr_line                   29\n",
              "delinq_2yrs                        29\n",
              "open_acc                           29\n",
              "pub_rec                            29\n",
              "acc_now_delinq                     29\n",
              "total_acc                          29\n",
              "title                              20\n",
              "annual_inc                          4\n",
              "dtype: int64"
            ]
          },
          "metadata": {},
          "execution_count": 9
        }
      ]
    },
    {
      "cell_type": "code",
      "source": [
        "def addlabels(x):\n",
        "    for i in range(len(x)):\n",
        "      if ((x[i]/df_loan.shape[0]*100 != 100) or (i==0)):\n",
        "        plt.text(i, x[i]+10000, format(x[i]/df_loan.shape[0]*100, \".2f\") + '%', ha = 'center')"
      ],
      "metadata": {
        "id": "FcpaGNU51hP4"
      },
      "execution_count": 10,
      "outputs": []
    },
    {
      "cell_type": "code",
      "source": [
        "plt.bar(kolom_kosong.index, kolom_kosong.values, color='royalblue')\n",
        "addlabels(kolom_kosong.values)\n",
        "plt.title('Banyaknya Nilai Kosong Dalam Persen')\n",
        "plt.xlabel('Nama Kolom')\n",
        "plt.ylabel('Banyaknya')\n",
        "plt.show()"
      ],
      "metadata": {
        "colab": {
          "base_uri": "https://localhost:8080/",
          "height": 518
        },
        "id": "URB7doMayVuv",
        "outputId": "74d10f86-7329-4d21-d696-2360f0f16161"
      },
      "execution_count": 11,
      "outputs": [
        {
          "output_type": "display_data",
          "data": {
            "text/plain": [
              "<Figure size 1080x576 with 1 Axes>"
            ],
            "image/png": "[encoded data removed]"
          },
          "metadata": {}
        }
      ]
    },
    {
      "cell_type": "code",
      "source": [
        "kolom_null = list({x:y for x,y in kolom_kosong.items() if y/df_loan.shape[0]*100 < 4.5})\n",
        "kolom_null"
      ],
      "metadata": {
        "colab": {
          "base_uri": "https://localhost:8080/"
        },
        "id": "oHdHDJ8H3ePv",
        "outputId": "03231687-089e-4ca4-ec56-27a5838786ca"
      },
      "execution_count": 12,
      "outputs": [
        {
          "output_type": "execute_result",
          "data": {
            "text/plain": [
              "['last_pymnt_d',\n",
              " 'revol_util',\n",
              " 'collections_12_mths_ex_med',\n",
              " 'last_credit_pull_d',\n",
              " 'inq_last_6mths',\n",
              " 'earliest_cr_line',\n",
              " 'delinq_2yrs',\n",
              " 'open_acc',\n",
              " 'pub_rec',\n",
              " 'acc_now_delinq',\n",
              " 'total_acc',\n",
              " 'title',\n",
              " 'annual_inc']"
            ]
          },
          "metadata": {},
          "execution_count": 12
        }
      ]
    },
    {
      "cell_type": "code",
      "source": [
        "kolom_drop = list({x:y for x,y in kolom_kosong.items() if y/df_loan.shape[0]*100 > 4.5}.keys())\n",
        "kolom_drop"
      ],
      "metadata": {
        "colab": {
          "base_uri": "https://localhost:8080/"
        },
        "id": "Vi0CMLCr4CG_",
        "outputId": "217b56e9-9ad3-4d32-ae84-8ff6c8cc7f39"
      },
      "execution_count": 13,
      "outputs": [
        {
          "output_type": "execute_result",
          "data": {
            "text/plain": [
              "['inq_last_12m',\n",
              " 'total_bal_il',\n",
              " 'dti_joint',\n",
              " 'verification_status_joint',\n",
              " 'annual_inc_joint',\n",
              " 'open_acc_6m',\n",
              " 'open_il_6m',\n",
              " 'open_il_12m',\n",
              " 'open_il_24m',\n",
              " 'mths_since_rcnt_il',\n",
              " 'il_util',\n",
              " 'open_rv_24m',\n",
              " 'total_cu_tl',\n",
              " 'inq_fi',\n",
              " 'max_bal_bc',\n",
              " 'all_util',\n",
              " 'open_rv_12m',\n",
              " 'mths_since_last_record',\n",
              " 'mths_since_last_major_derog',\n",
              " 'desc',\n",
              " 'mths_since_last_delinq',\n",
              " 'next_pymnt_d',\n",
              " 'tot_cur_bal',\n",
              " 'tot_coll_amt',\n",
              " 'total_rev_hi_lim',\n",
              " 'emp_title',\n",
              " 'emp_length']"
            ]
          },
          "metadata": {},
          "execution_count": 13
        }
      ]
    },
    {
      "cell_type": "code",
      "source": [
        "df_loan_clean = df_loan.drop(columns=kolom_drop)\n",
        "df_loan_clean.shape"
      ],
      "metadata": {
        "colab": {
          "base_uri": "https://localhost:8080/"
        },
        "id": "YO3guNVZ4wWB",
        "outputId": "4f9b6973-e090-4fec-d07f-b91a55fc4803"
      },
      "execution_count": 14,
      "outputs": [
        {
          "output_type": "execute_result",
          "data": {
            "text/plain": [
              "(466285, 48)"
            ]
          },
          "metadata": {},
          "execution_count": 14
        }
      ]
    },
    {
      "cell_type": "markdown",
      "source": [
        "### Handling Missing Value Kolom yang Lain"
      ],
      "metadata": {
        "id": "5Hs7gj_D5R94"
      }
    },
    {
      "cell_type": "code",
      "source": [
        "df_loan_clean[kolom_null]"
      ],
      "metadata": {
        "colab": {
          "base_uri": "https://localhost:8080/",
          "height": 574
        },
        "id": "y0WnItn65XQK",
        "outputId": "a2364fc6-4128-4688-c515-7ab588eeea16"
      },
      "execution_count": 15,
      "outputs": [
        {
          "output_type": "execute_result",
          "data": {
            "text/plain": [
              "       last_pymnt_d  revol_util  collections_12_mths_ex_med  \\\n",
              "0            Jan-15        83.7                         0.0   \n",
              "1            Apr-13         9.4                         0.0   \n",
              "2            Jun-14        98.5                         0.0   \n",
              "3            Jan-15        21.0                         0.0   \n",
              "4            Jan-16        53.9                         0.0   \n",
              "...             ...         ...                         ...   \n",
              "466280       Jan-16        77.6                         0.0   \n",
              "466281       Dec-14        46.3                         0.0   \n",
              "466282       Jan-16        51.1                         0.0   \n",
              "466283       Dec-14        21.5                         0.0   \n",
              "466284       Jan-16        70.8                         0.0   \n",
              "\n",
              "       last_credit_pull_d  inq_last_6mths earliest_cr_line  delinq_2yrs  \\\n",
              "0                  Jan-16             1.0           Jan-85          0.0   \n",
              "1                  Sep-13             5.0           Apr-99          0.0   \n",
              "2                  Jan-16             2.0           Nov-01          0.0   \n",
              "3                  Jan-15             1.0           Feb-96          0.0   \n",
              "4                  Jan-16             0.0           Jan-96          0.0   \n",
              "...                   ...             ...              ...          ...   \n",
              "466280             Jan-16             2.0           Apr-03          0.0   \n",
              "466281             Jan-16             5.0           Jun-97          0.0   \n",
              "466282             Dec-15             2.0           Dec-01          0.0   \n",
              "466283             Apr-15             1.0           Feb-03          3.0   \n",
              "466284             Jan-16             0.0           Feb-00          1.0   \n",
              "\n",
              "        open_acc  pub_rec  acc_now_delinq  total_acc                    title  \\\n",
              "0            3.0      0.0             0.0        9.0                 Computer   \n",
              "1            3.0      0.0             0.0        4.0                     bike   \n",
              "2            2.0      0.0             0.0       10.0     real estate business   \n",
              "3           10.0      0.0             0.0       37.0                 personel   \n",
              "4           15.0      0.0             0.0       38.0                 Personal   \n",
              "...          ...      ...             ...        ...                      ...   \n",
              "466280      18.0      0.0             0.0       36.0       Debt consolidation   \n",
              "466281      18.0      1.0             0.0       30.0       Debt consolidation   \n",
              "466282      18.0      0.0             0.0       43.0       Debt consolidation   \n",
              "466283      21.0      0.0             0.0       27.0  Credit card refinancing   \n",
              "466284       6.0      0.0             0.0       22.0                    Other   \n",
              "\n",
              "        annual_inc  \n",
              "0          24000.0  \n",
              "1          30000.0  \n",
              "2          12252.0  \n",
              "3          49200.0  \n",
              "4          80000.0  \n",
              "...            ...  \n",
              "466280    110000.0  \n",
              "466281     78000.0  \n",
              "466282     46000.0  \n",
              "466283     83000.0  \n",
              "466284     46000.0  \n",
              "\n",
              "[466285 rows x 13 columns]"
            ],
            "text/html": [
              "\n",
              "  <div id=\"df-b8467c85-31e3-4304-bee4-2dda5c391a90\">\n",
              "    <div class=\"colab-df-container\">\n",
              "      <div>\n",
              "<style scoped>\n",
              "    .dataframe tbody tr th:only-of-type {\n",
              "        vertical-align: middle;\n",
              "    }\n",
              "\n",
              "    .dataframe tbody tr th {\n",
              "        vertical-align: top;\n",
              "    }\n",
              "\n",
              "    .dataframe thead th {\n",
              "        text-align: right;\n",
              "    }\n",
              "</style>\n",
              "<table border=\"1\" class=\"dataframe\">\n",
              "  <thead>\n",
              "    <tr style=\"text-align: right;\">\n",
              "      <th></th>\n",
              "      <th>last_pymnt_d</th>\n",
              "      <th>revol_util</th>\n",
              "      <th>collections_12_mths_ex_med</th>\n",
              "      <th>last_credit_pull_d</th>\n",
              "      <th>inq_last_6mths</th>\n",
              "      <th>earliest_cr_line</th>\n",
              "      <th>delinq_2yrs</th>\n",
              "      <th>open_acc</th>\n",
              "      <th>pub_rec</th>\n",
              "      <th>acc_now_delinq</th>\n",
              "      <th>total_acc</th>\n",
              "      <th>title</th>\n",
              "      <th>annual_inc</th>\n",
              "    </tr>\n",
              "  </thead>\n",
              "  <tbody>\n",
              "    <tr>\n",
              "      <th>0</th>\n",
              "      <td>Jan-15</td>\n",
              "      <td>83.7</td>\n",
              "      <td>0.0</td>\n",
              "      <td>Jan-16</td>\n",
              "      <td>1.0</td>\n",
              "      <td>Jan-85</td>\n",
              "      <td>0.0</td>\n",
              "      <td>3.0</td>\n",
              "      <td>0.0</td>\n",
              "      <td>0.0</td>\n",
              "      <td>9.0</td>\n",
              "      <td>Computer</td>\n",
              "      <td>24000.0</td>\n",
              "    </tr>\n",
              "    <tr>\n",
              "      <th>1</th>\n",
              "      <td>Apr-13</td>\n",
              "      <td>9.4</td>\n",
              "      <td>0.0</td>\n",
              "      <td>Sep-13</td>\n",
              "      <td>5.0</td>\n",
              "      <td>Apr-99</td>\n",
              "      <td>0.0</td>\n",
              "      <td>3.0</td>\n",
              "      <td>0.0</td>\n",
              "      <td>0.0</td>\n",
              "      <td>4.0</td>\n",
              "      <td>bike</td>\n",
              "      <td>30000.0</td>\n",
              "    </tr>\n",
              "    <tr>\n",
              "      <th>2</th>\n",
              "      <td>Jun-14</td>\n",
              "      <td>98.5</td>\n",
              "      <td>0.0</td>\n",
              "      <td>Jan-16</td>\n",
              "      <td>2.0</td>\n",
              "      <td>Nov-01</td>\n",
              "      <td>0.0</td>\n",
              "      <td>2.0</td>\n",
              "      <td>0.0</td>\n",
              "      <td>0.0</td>\n",
              "      <td>10.0</td>\n",
              "      <td>real estate business</td>\n",
              "      <td>12252.0</td>\n",
              "    </tr>\n",
              "    <tr>\n",
              "      <th>3</th>\n",
              "      <td>Jan-15</td>\n",
              "      <td>21.0</td>\n",
              "      <td>0.0</td>\n",
              "      <td>Jan-15</td>\n",
              "      <td>1.0</td>\n",
              "      <td>Feb-96</td>\n",
              "      <td>0.0</td>\n",
              "      <td>10.0</td>\n",
              "      <td>0.0</td>\n",
              "      <td>0.0</td>\n",
              "      <td>37.0</td>\n",
              "      <td>personel</td>\n",
              "      <td>49200.0</td>\n",
              "    </tr>\n",
              "    <tr>\n",
              "      <th>4</th>\n",
              "      <td>Jan-16</td>\n",
              "      <td>53.9</td>\n",
              "      <td>0.0</td>\n",
              "      <td>Jan-16</td>\n",
              "      <td>0.0</td>\n",
              "      <td>Jan-96</td>\n",
              "      <td>0.0</td>\n",
              "      <td>15.0</td>\n",
              "      <td>0.0</td>\n",
              "      <td>0.0</td>\n",
              "      <td>38.0</td>\n",
              "      <td>Personal</td>\n",
              "      <td>80000.0</td>\n",
              "    </tr>\n",
              "    <tr>\n",
              "      <th>...</th>\n",
              "      <td>...</td>\n",
              "      <td>...</td>\n",
              "      <td>...</td>\n",
              "      <td>...</td>\n",
              "      <td>...</td>\n",
              "      <td>...</td>\n",
              "      <td>...</td>\n",
              "      <td>...</td>\n",
              "      <td>...</td>\n",
              "      <td>...</td>\n",
              "      <td>...</td>\n",
              "      <td>...</td>\n",
              "      <td>...</td>\n",
              "    </tr>\n",
              "    <tr>\n",
              "      <th>466280</th>\n",
              "      <td>Jan-16</td>\n",
              "      <td>77.6</td>\n",
              "      <td>0.0</td>\n",
              "      <td>Jan-16</td>\n",
              "      <td>2.0</td>\n",
              "      <td>Apr-03</td>\n",
              "      <td>0.0</td>\n",
              "      <td>18.0</td>\n",
              "      <td>0.0</td>\n",
              "      <td>0.0</td>\n",
              "      <td>36.0</td>\n",
              "      <td>Debt consolidation</td>\n",
              "      <td>110000.0</td>\n",
              "    </tr>\n",
              "    <tr>\n",
              "      <th>466281</th>\n",
              "      <td>Dec-14</td>\n",
              "      <td>46.3</td>\n",
              "      <td>0.0</td>\n",
              "      <td>Jan-16</td>\n",
              "      <td>5.0</td>\n",
              "      <td>Jun-97</td>\n",
              "      <td>0.0</td>\n",
              "      <td>18.0</td>\n",
              "      <td>1.0</td>\n",
              "      <td>0.0</td>\n",
              "      <td>30.0</td>\n",
              "      <td>Debt consolidation</td>\n",
              "      <td>78000.0</td>\n",
              "    </tr>\n",
              "    <tr>\n",
              "      <th>466282</th>\n",
              "      <td>Jan-16</td>\n",
              "      <td>51.1</td>\n",
              "      <td>0.0</td>\n",
              "      <td>Dec-15</td>\n",
              "      <td>2.0</td>\n",
              "      <td>Dec-01</td>\n",
              "      <td>0.0</td>\n",
              "      <td>18.0</td>\n",
              "      <td>0.0</td>\n",
              "      <td>0.0</td>\n",
              "      <td>43.0</td>\n",
              "      <td>Debt consolidation</td>\n",
              "      <td>46000.0</td>\n",
              "    </tr>\n",
              "    <tr>\n",
              "      <th>466283</th>\n",
              "      <td>Dec-14</td>\n",
              "      <td>21.5</td>\n",
              "      <td>0.0</td>\n",
              "      <td>Apr-15</td>\n",
              "      <td>1.0</td>\n",
              "      <td>Feb-03</td>\n",
              "      <td>3.0</td>\n",
              "      <td>21.0</td>\n",
              "      <td>0.0</td>\n",
              "      <td>0.0</td>\n",
              "      <td>27.0</td>\n",
              "      <td>Credit card refinancing</td>\n",
              "      <td>83000.0</td>\n",
              "    </tr>\n",
              "    <tr>\n",
              "      <th>466284</th>\n",
              "      <td>Jan-16</td>\n",
              "      <td>70.8</td>\n",
              "      <td>0.0</td>\n",
              "      <td>Jan-16</td>\n",
              "      <td>0.0</td>\n",
              "      <td>Feb-00</td>\n",
              "      <td>1.0</td>\n",
              "      <td>6.0</td>\n",
              "      <td>0.0</td>\n",
              "      <td>0.0</td>\n",
              "      <td>22.0</td>\n",
              "      <td>Other</td>\n",
              "      <td>46000.0</td>\n",
              "    </tr>\n",
              "  </tbody>\n",
              "</table>\n",
              "<p>466285 rows × 13 columns</p>\n",
              "</div>\n",
              "      <button class=\"colab-df-convert\" onclick=\"convertToInteractive('df-b8467c85-31e3-4304-bee4-2dda5c391a90')\"\n",
              "              title=\"Convert this dataframe to an interactive table.\"\n",
              "              style=\"display:none;\">\n",
              "        \n",
              "  <svg xmlns=\"http://www.w3.org/2000/svg\" height=\"24px\"viewBox=\"0 0 24 24\"\n",
              "       width=\"24px\">\n",
              "    <path d=\"M0 0h24v24H0V0z\" fill=\"none\"/>\n",
              "    <path d=\"M18.56 5.44l.94 2.06.94-2.06 2.06-.94-2.06-.94-.94-2.06-.94 2.06-2.06.94zm-11 1L8.5 8.5l.94-2.06 2.06-.94-2.06-.94L8.5 2.5l-.94 2.06-2.06.94zm10 10l.94 2.06.94-2.06 2.06-.94-2.06-.94-.94-2.06-.94 2.06-2.06.94z\"/><path d=\"M17.41 7.96l-1.37-1.37c-.4-.4-.92-.59-1.43-.59-.52 0-1.04.2-1.43.59L10.3 9.45l-7.72 7.72c-.78.78-.78 2.05 0 2.83L4 21.41c.39.39.9.59 1.41.59.51 0 1.02-.2 1.41-.59l7.78-7.78 2.81-2.81c.8-.78.8-2.07 0-2.86zM5.41 20L4 18.59l7.72-7.72 1.47 1.35L5.41 20z\"/>\n",
              "  </svg>\n",
              "      </button>\n",
              "      \n",
              "  <style>\n",
              "    .colab-df-container {\n",
              "      display:flex;\n",
              "      flex-wrap:wrap;\n",
              "      gap: 12px;\n",
              "    }\n",
              "\n",
              "    .colab-df-convert {\n",
              "      background-color: #E8F0FE;\n",
              "      border: none;\n",
              "      border-radius: 50%;\n",
              "      cursor: pointer;\n",
              "      display: none;\n",
              "      fill: #1967D2;\n",
              "      height: 32px;\n",
              "      padding: 0 0 0 0;\n",
              "      width: 32px;\n",
              "    }\n",
              "\n",
              "    .colab-df-convert:hover {\n",
              "      background-color: #E2EBFA;\n",
              "      box-shadow: 0px 1px 2px rgba(60, 64, 67, 0.3), 0px 1px 3px 1px rgba(60, 64, 67, 0.15);\n",
              "      fill: #174EA6;\n",
              "    }\n",
              "\n",
              "    [theme=dark] .colab-df-convert {\n",
              "      background-color: #3B4455;\n",
              "      fill: #D2E3FC;\n",
              "    }\n",
              "\n",
              "    [theme=dark] .colab-df-convert:hover {\n",
              "      background-color: #434B5C;\n",
              "      box-shadow: 0px 1px 3px 1px rgba(0, 0, 0, 0.15);\n",
              "      filter: drop-shadow(0px 1px 2px rgba(0, 0, 0, 0.3));\n",
              "      fill: #FFFFFF;\n",
              "    }\n",
              "  </style>\n",
              "\n",
              "      <script>\n",
              "        const buttonEl =\n",
              "          document.querySelector('#df-b8467c85-31e3-4304-bee4-2dda5c391a90 button.colab-df-convert');\n",
              "        buttonEl.style.display =\n",
              "          google.colab.kernel.accessAllowed ? 'block' : 'none';\n",
              "\n",
              "        async function convertToInteractive(key) {\n",
              "          const element = document.querySelector('#df-b8467c85-31e3-4304-bee4-2dda5c391a90');\n",
              "          const dataTable =\n",
              "            await google.colab.kernel.invokeFunction('convertToInteractive',\n",
              "                                                     [key], {});\n",
              "          if (!dataTable) return;\n",
              "\n",
              "          const docLinkHtml = 'Like what you see? Visit the ' +\n",
              "            '<a target=\"_blank\" href=https://colab.research.google.com/notebooks/data_table.ipynb>data table notebook</a>'\n",
              "            + ' to learn more about interactive tables.';\n",
              "          element.innerHTML = '';\n",
              "          dataTable['output_type'] = 'display_data';\n",
              "          await google.colab.output.renderOutput(dataTable, element);\n",
              "          const docLink = document.createElement('div');\n",
              "          docLink.innerHTML = docLinkHtml;\n",
              "          element.appendChild(docLink);\n",
              "        }\n",
              "      </script>\n",
              "    </div>\n",
              "  </div>\n",
              "  "
            ]
          },
          "metadata": {},
          "execution_count": 15
        }
      ]
    },
    {
      "cell_type": "code",
      "source": [
        "df_loan_clean[kolom_null].dtypes"
      ],
      "metadata": {
        "colab": {
          "base_uri": "https://localhost:8080/"
        },
        "id": "m4dR3MsZ7nko",
        "outputId": "63cf1410-9073-4b29-b58c-31083a5e7ee5"
      },
      "execution_count": 16,
      "outputs": [
        {
          "output_type": "execute_result",
          "data": {
            "text/plain": [
              "last_pymnt_d                   object\n",
              "revol_util                    float64\n",
              "collections_12_mths_ex_med    float64\n",
              "last_credit_pull_d             object\n",
              "inq_last_6mths                float64\n",
              "earliest_cr_line               object\n",
              "delinq_2yrs                   float64\n",
              "open_acc                      float64\n",
              "pub_rec                       float64\n",
              "acc_now_delinq                float64\n",
              "total_acc                     float64\n",
              "title                          object\n",
              "annual_inc                    float64\n",
              "dtype: object"
            ]
          },
          "metadata": {},
          "execution_count": 16
        }
      ]
    },
    {
      "cell_type": "code",
      "source": [
        "df_loan_clean[kolom_null].isnull().sum()"
      ],
      "metadata": {
        "colab": {
          "base_uri": "https://localhost:8080/"
        },
        "id": "T38zZohWK_2g",
        "outputId": "af137c7f-edd7-4181-d4df-7144ad35d8de"
      },
      "execution_count": 17,
      "outputs": [
        {
          "output_type": "execute_result",
          "data": {
            "text/plain": [
              "last_pymnt_d                  376\n",
              "revol_util                    340\n",
              "collections_12_mths_ex_med    145\n",
              "last_credit_pull_d             42\n",
              "inq_last_6mths                 29\n",
              "earliest_cr_line               29\n",
              "delinq_2yrs                    29\n",
              "open_acc                       29\n",
              "pub_rec                        29\n",
              "acc_now_delinq                 29\n",
              "total_acc                      29\n",
              "title                          20\n",
              "annual_inc                      4\n",
              "dtype: int64"
            ]
          },
          "metadata": {},
          "execution_count": 17
        }
      ]
    },
    {
      "cell_type": "markdown",
      "source": [
        "#### Kolom 'title'"
      ],
      "metadata": {
        "id": "xHJcTqkX-nw4"
      }
    },
    {
      "cell_type": "code",
      "source": [
        "df_loan_clean['title'].value_counts()"
      ],
      "metadata": {
        "colab": {
          "base_uri": "https://localhost:8080/"
        },
        "id": "ycCCgIAw75Uy",
        "outputId": "a3b3d080-5b76-4415-8c55-f32daa40d4da"
      },
      "execution_count": 18,
      "outputs": [
        {
          "output_type": "execute_result",
          "data": {
            "text/plain": [
              "Debt consolidation                   164075\n",
              "Credit card refinancing               62275\n",
              "Debt Consolidation                    15760\n",
              "Home improvement                      14849\n",
              "Other                                 12713\n",
              "                                      ...  \n",
              "Credit Card Clearance                     1\n",
              "credit repayment                          1\n",
              "medical bills/credit card payoff          1\n",
              "One Time Only Relief!                     1\n",
              "Paying off the car and some bills         1\n",
              "Name: title, Length: 63099, dtype: int64"
            ]
          },
          "metadata": {},
          "execution_count": 18
        }
      ]
    },
    {
      "cell_type": "code",
      "source": [
        "df_loan_clean['title'].mode()[0]"
      ],
      "metadata": {
        "colab": {
          "base_uri": "https://localhost:8080/",
          "height": 35
        },
        "id": "Zb-KyxLvRhlU",
        "outputId": "5d8e90f5-f350-4c7d-cbb5-62226c861835"
      },
      "execution_count": 19,
      "outputs": [
        {
          "output_type": "execute_result",
          "data": {
            "text/plain": [
              "'Debt consolidation'"
            ],
            "application/vnd.google.colaboratory.intrinsic+json": {
              "type": "string"
            }
          },
          "metadata": {},
          "execution_count": 19
        }
      ]
    },
    {
      "cell_type": "code",
      "source": [
        "df_loan_clean['title'].fillna(df_loan_clean['title'].mode()[0], inplace=True)\n",
        "df_loan_clean.shape"
      ],
      "metadata": {
        "colab": {
          "base_uri": "https://localhost:8080/"
        },
        "id": "wlg_Ux8t8QA3",
        "outputId": "b0a83f5c-27c0-41eb-cb8d-18796b1a8cb5"
      },
      "execution_count": 20,
      "outputs": [
        {
          "output_type": "execute_result",
          "data": {
            "text/plain": [
              "(466285, 48)"
            ]
          },
          "metadata": {},
          "execution_count": 20
        }
      ]
    },
    {
      "cell_type": "markdown",
      "source": [
        "#### Kolom Berupa Date"
      ],
      "metadata": {
        "id": "S0aiwDSw_ZZd"
      }
    },
    {
      "cell_type": "code",
      "source": [
        "kolom_date = ['issue_d', 'earliest_cr_line', 'last_pymnt_d', 'last_credit_pull_d']"
      ],
      "metadata": {
        "id": "5by-aqK0ALYu"
      },
      "execution_count": 21,
      "outputs": []
    },
    {
      "cell_type": "code",
      "source": [
        "df_loan_clean[kolom_date].isnull().sum()"
      ],
      "metadata": {
        "colab": {
          "base_uri": "https://localhost:8080/"
        },
        "id": "jfuk7bvTMKEg",
        "outputId": "df6f2a3e-1d5c-43f0-9fc4-8da68df785ed"
      },
      "execution_count": 22,
      "outputs": [
        {
          "output_type": "execute_result",
          "data": {
            "text/plain": [
              "issue_d                 0\n",
              "earliest_cr_line       29\n",
              "last_pymnt_d          376\n",
              "last_credit_pull_d     42\n",
              "dtype: int64"
            ]
          },
          "metadata": {},
          "execution_count": 22
        }
      ]
    },
    {
      "cell_type": "code",
      "source": [
        "df_loan_clean.dropna(subset = kolom_date, inplace=True)\n",
        "df_loan_clean[kolom_date].isnull().sum()"
      ],
      "metadata": {
        "colab": {
          "base_uri": "https://localhost:8080/"
        },
        "id": "ejCpUHILMQzR",
        "outputId": "511ac050-48c3-47dc-9d16-b065269a4853"
      },
      "execution_count": 23,
      "outputs": [
        {
          "output_type": "execute_result",
          "data": {
            "text/plain": [
              "issue_d               0\n",
              "earliest_cr_line      0\n",
              "last_pymnt_d          0\n",
              "last_credit_pull_d    0\n",
              "dtype: int64"
            ]
          },
          "metadata": {},
          "execution_count": 23
        }
      ]
    },
    {
      "cell_type": "code",
      "source": [
        "df_loan_clean.shape"
      ],
      "metadata": {
        "colab": {
          "base_uri": "https://localhost:8080/"
        },
        "id": "OsJjbZQRfKN2",
        "outputId": "461b035a-2dc8-48a2-a6dd-ccc64cfb6491"
      },
      "execution_count": 24,
      "outputs": [
        {
          "output_type": "execute_result",
          "data": {
            "text/plain": [
              "(465839, 48)"
            ]
          },
          "metadata": {},
          "execution_count": 24
        }
      ]
    },
    {
      "cell_type": "markdown",
      "source": [
        "#### Kolom Numerik Lainnya"
      ],
      "metadata": {
        "id": "gHbXwtV5OIJG"
      }
    },
    {
      "cell_type": "code",
      "source": [
        "df_loan_clean[kolom_null].isnull().sum()"
      ],
      "metadata": {
        "colab": {
          "base_uri": "https://localhost:8080/"
        },
        "id": "z4i5zwTlOLGt",
        "outputId": "699a20e6-69e3-421b-bfc0-cf7d62e6bb05"
      },
      "execution_count": 25,
      "outputs": [
        {
          "output_type": "execute_result",
          "data": {
            "text/plain": [
              "last_pymnt_d                    0\n",
              "revol_util                    305\n",
              "collections_12_mths_ex_med    115\n",
              "last_credit_pull_d              0\n",
              "inq_last_6mths                  0\n",
              "earliest_cr_line                0\n",
              "delinq_2yrs                     0\n",
              "open_acc                        0\n",
              "pub_rec                         0\n",
              "acc_now_delinq                  0\n",
              "total_acc                       0\n",
              "title                           0\n",
              "annual_inc                      0\n",
              "dtype: int64"
            ]
          },
          "metadata": {},
          "execution_count": 25
        }
      ]
    },
    {
      "cell_type": "code",
      "source": [
        "df_loan_clean[['revol_util', 'collections_12_mths_ex_med']] = df_loan_clean[['revol_util', 'collections_12_mths_ex_med']].fillna(df_loan_clean[['revol_util', 'collections_12_mths_ex_med']].median())\n",
        "df_loan_clean[kolom_null].isnull().sum()"
      ],
      "metadata": {
        "colab": {
          "base_uri": "https://localhost:8080/"
        },
        "id": "rl2ukmsxSOtq",
        "outputId": "12701e6d-534c-4872-9f4a-7201583e3455"
      },
      "execution_count": 26,
      "outputs": [
        {
          "output_type": "execute_result",
          "data": {
            "text/plain": [
              "last_pymnt_d                  0\n",
              "revol_util                    0\n",
              "collections_12_mths_ex_med    0\n",
              "last_credit_pull_d            0\n",
              "inq_last_6mths                0\n",
              "earliest_cr_line              0\n",
              "delinq_2yrs                   0\n",
              "open_acc                      0\n",
              "pub_rec                       0\n",
              "acc_now_delinq                0\n",
              "total_acc                     0\n",
              "title                         0\n",
              "annual_inc                    0\n",
              "dtype: int64"
            ]
          },
          "metadata": {},
          "execution_count": 26
        }
      ]
    },
    {
      "cell_type": "code",
      "source": [
        "df_loan_clean.reset_index(drop=True, inplace=True)\n",
        "df_loan_clean.shape"
      ],
      "metadata": {
        "colab": {
          "base_uri": "https://localhost:8080/"
        },
        "id": "GVGuBlE_cqeO",
        "outputId": "2871aff0-00f7-42a7-ae1e-d16c074c6e0a"
      },
      "execution_count": 27,
      "outputs": [
        {
          "output_type": "execute_result",
          "data": {
            "text/plain": [
              "(465839, 48)"
            ]
          },
          "metadata": {},
          "execution_count": 27
        }
      ]
    },
    {
      "cell_type": "markdown",
      "source": [
        "### Drop Kolom Nominal atau hanya 1 Value"
      ],
      "metadata": {
        "id": "082N7ocyTBR_"
      }
    },
    {
      "cell_type": "code",
      "source": [
        "df_loan_clean.dtypes"
      ],
      "metadata": {
        "colab": {
          "base_uri": "https://localhost:8080/"
        },
        "id": "VhNtVb_qTECO",
        "outputId": "82c3b8ee-a2c8-43be-bb0a-8c18c3267386"
      },
      "execution_count": 28,
      "outputs": [
        {
          "output_type": "execute_result",
          "data": {
            "text/plain": [
              "Unnamed: 0                      int64\n",
              "id                              int64\n",
              "member_id                       int64\n",
              "loan_amnt                       int64\n",
              "funded_amnt                     int64\n",
              "funded_amnt_inv               float64\n",
              "term                           object\n",
              "int_rate                      float64\n",
              "installment                   float64\n",
              "grade                          object\n",
              "sub_grade                      object\n",
              "home_ownership                 object\n",
              "annual_inc                    float64\n",
              "verification_status            object\n",
              "issue_d                        object\n",
              "loan_status                    object\n",
              "pymnt_plan                     object\n",
              "url                            object\n",
              "purpose                        object\n",
              "title                          object\n",
              "zip_code                       object\n",
              "addr_state                     object\n",
              "dti                           float64\n",
              "delinq_2yrs                   float64\n",
              "earliest_cr_line               object\n",
              "inq_last_6mths                float64\n",
              "open_acc                      float64\n",
              "pub_rec                       float64\n",
              "revol_bal                       int64\n",
              "revol_util                    float64\n",
              "total_acc                     float64\n",
              "initial_list_status            object\n",
              "out_prncp                     float64\n",
              "out_prncp_inv                 float64\n",
              "total_pymnt                   float64\n",
              "total_pymnt_inv               float64\n",
              "total_rec_prncp               float64\n",
              "total_rec_int                 float64\n",
              "total_rec_late_fee            float64\n",
              "recoveries                    float64\n",
              "collection_recovery_fee       float64\n",
              "last_pymnt_d                   object\n",
              "last_pymnt_amnt               float64\n",
              "last_credit_pull_d             object\n",
              "collections_12_mths_ex_med    float64\n",
              "policy_code                     int64\n",
              "application_type               object\n",
              "acc_now_delinq                float64\n",
              "dtype: object"
            ]
          },
          "metadata": {},
          "execution_count": 28
        }
      ]
    },
    {
      "cell_type": "code",
      "source": [
        "kolom_object = df_loan_clean.select_dtypes(object).columns\n",
        "df_loan_clean[kolom_object].head()"
      ],
      "metadata": {
        "colab": {
          "base_uri": "https://localhost:8080/",
          "height": 374
        },
        "id": "Vgm4ZPBHU-lV",
        "outputId": "b559f1dc-ab39-405e-fde1-9daf9aa6161a"
      },
      "execution_count": 29,
      "outputs": [
        {
          "output_type": "execute_result",
          "data": {
            "text/plain": [
              "         term grade sub_grade home_ownership verification_status issue_d  \\\n",
              "0   36 months     B        B2           RENT            Verified  Dec-11   \n",
              "1   60 months     C        C4           RENT     Source Verified  Dec-11   \n",
              "2   36 months     C        C5           RENT        Not Verified  Dec-11   \n",
              "3   36 months     C        C1           RENT     Source Verified  Dec-11   \n",
              "4   60 months     B        B5           RENT     Source Verified  Dec-11   \n",
              "\n",
              "   loan_status pymnt_plan                                                url  \\\n",
              "0   Fully Paid          n  https://www.lendingclub.com/browse/loanDetail....   \n",
              "1  Charged Off          n  https://www.lendingclub.com/browse/loanDetail....   \n",
              "2   Fully Paid          n  https://www.lendingclub.com/browse/loanDetail....   \n",
              "3   Fully Paid          n  https://www.lendingclub.com/browse/loanDetail....   \n",
              "4      Current          n  https://www.lendingclub.com/browse/loanDetail....   \n",
              "\n",
              "          purpose                 title zip_code addr_state earliest_cr_line  \\\n",
              "0     credit_card              Computer    860xx         AZ           Jan-85   \n",
              "1             car                  bike    309xx         GA           Apr-99   \n",
              "2  small_business  real estate business    606xx         IL           Nov-01   \n",
              "3           other              personel    917xx         CA           Feb-96   \n",
              "4           other              Personal    972xx         OR           Jan-96   \n",
              "\n",
              "  initial_list_status last_pymnt_d last_credit_pull_d application_type  \n",
              "0                   f       Jan-15             Jan-16       INDIVIDUAL  \n",
              "1                   f       Apr-13             Sep-13       INDIVIDUAL  \n",
              "2                   f       Jun-14             Jan-16       INDIVIDUAL  \n",
              "3                   f       Jan-15             Jan-15       INDIVIDUAL  \n",
              "4                   f       Jan-16             Jan-16       INDIVIDUAL  "
            ],
            "text/html": [
              "\n",
              "  <div id=\"df-cb4f5605-bfab-4af9-831f-a45e53fc2b66\">\n",
              "    <div class=\"colab-df-container\">\n",
              "      <div>\n",
              "<style scoped>\n",
              "    .dataframe tbody tr th:only-of-type {\n",
              "        vertical-align: middle;\n",
              "    }\n",
              "\n",
              "    .dataframe tbody tr th {\n",
              "        vertical-align: top;\n",
              "    }\n",
              "\n",
              "    .dataframe thead th {\n",
              "        text-align: right;\n",
              "    }\n",
              "</style>\n",
              "<table border=\"1\" class=\"dataframe\">\n",
              "  <thead>\n",
              "    <tr style=\"text-align: right;\">\n",
              "      <th></th>\n",
              "      <th>term</th>\n",
              "      <th>grade</th>\n",
              "      <th>sub_grade</th>\n",
              "      <th>home_ownership</th>\n",
              "      <th>verification_status</th>\n",
              "      <th>issue_d</th>\n",
              "      <th>loan_status</th>\n",
              "      <th>pymnt_plan</th>\n",
              "      <th>url</th>\n",
              "      <th>purpose</th>\n",
              "      <th>title</th>\n",
              "      <th>zip_code</th>\n",
              "      <th>addr_state</th>\n",
              "      <th>earliest_cr_line</th>\n",
              "      <th>initial_list_status</th>\n",
              "      <th>last_pymnt_d</th>\n",
              "      <th>last_credit_pull_d</th>\n",
              "      <th>application_type</th>\n",
              "    </tr>\n",
              "  </thead>\n",
              "  <tbody>\n",
              "    <tr>\n",
              "      <th>0</th>\n",
              "      <td>36 months</td>\n",
              "      <td>B</td>\n",
              "      <td>B2</td>\n",
              "      <td>RENT</td>\n",
              "      <td>Verified</td>\n",
              "      <td>Dec-11</td>\n",
              "      <td>Fully Paid</td>\n",
              "      <td>n</td>\n",
              "      <td>https://www.lendingclub.com/browse/loanDetail....</td>\n",
              "      <td>credit_card</td>\n",
              "      <td>Computer</td>\n",
              "      <td>860xx</td>\n",
              "      <td>AZ</td>\n",
              "      <td>Jan-85</td>\n",
              "      <td>f</td>\n",
              "      <td>Jan-15</td>\n",
              "      <td>Jan-16</td>\n",
              "      <td>INDIVIDUAL</td>\n",
              "    </tr>\n",
              "    <tr>\n",
              "      <th>1</th>\n",
              "      <td>60 months</td>\n",
              "      <td>C</td>\n",
              "      <td>C4</td>\n",
              "      <td>RENT</td>\n",
              "      <td>Source Verified</td>\n",
              "      <td>Dec-11</td>\n",
              "      <td>Charged Off</td>\n",
              "      <td>n</td>\n",
              "      <td>https://www.lendingclub.com/browse/loanDetail....</td>\n",
              "      <td>car</td>\n",
              "      <td>bike</td>\n",
              "      <td>309xx</td>\n",
              "      <td>GA</td>\n",
              "      <td>Apr-99</td>\n",
              "      <td>f</td>\n",
              "      <td>Apr-13</td>\n",
              "      <td>Sep-13</td>\n",
              "      <td>INDIVIDUAL</td>\n",
              "    </tr>\n",
              "    <tr>\n",
              "      <th>2</th>\n",
              "      <td>36 months</td>\n",
              "      <td>C</td>\n",
              "      <td>C5</td>\n",
              "      <td>RENT</td>\n",
              "      <td>Not Verified</td>\n",
              "      <td>Dec-11</td>\n",
              "      <td>Fully Paid</td>\n",
              "      <td>n</td>\n",
              "      <td>https://www.lendingclub.com/browse/loanDetail....</td>\n",
              "      <td>small_business</td>\n",
              "      <td>real estate business</td>\n",
              "      <td>606xx</td>\n",
              "      <td>IL</td>\n",
              "      <td>Nov-01</td>\n",
              "      <td>f</td>\n",
              "      <td>Jun-14</td>\n",
              "      <td>Jan-16</td>\n",
              "      <td>INDIVIDUAL</td>\n",
              "    </tr>\n",
              "    <tr>\n",
              "      <th>3</th>\n",
              "      <td>36 months</td>\n",
              "      <td>C</td>\n",
              "      <td>C1</td>\n",
              "      <td>RENT</td>\n",
              "      <td>Source Verified</td>\n",
              "      <td>Dec-11</td>\n",
              "      <td>Fully Paid</td>\n",
              "      <td>n</td>\n",
              "      <td>https://www.lendingclub.com/browse/loanDetail....</td>\n",
              "      <td>other</td>\n",
              "      <td>personel</td>\n",
              "      <td>917xx</td>\n",
              "      <td>CA</td>\n",
              "      <td>Feb-96</td>\n",
              "      <td>f</td>\n",
              "      <td>Jan-15</td>\n",
              "      <td>Jan-15</td>\n",
              "      <td>INDIVIDUAL</td>\n",
              "    </tr>\n",
              "    <tr>\n",
              "      <th>4</th>\n",
              "      <td>60 months</td>\n",
              "      <td>B</td>\n",
              "      <td>B5</td>\n",
              "      <td>RENT</td>\n",
              "      <td>Source Verified</td>\n",
              "      <td>Dec-11</td>\n",
              "      <td>Current</td>\n",
              "      <td>n</td>\n",
              "      <td>https://www.lendingclub.com/browse/loanDetail....</td>\n",
              "      <td>other</td>\n",
              "      <td>Personal</td>\n",
              "      <td>972xx</td>\n",
              "      <td>OR</td>\n",
              "      <td>Jan-96</td>\n",
              "      <td>f</td>\n",
              "      <td>Jan-16</td>\n",
              "      <td>Jan-16</td>\n",
              "      <td>INDIVIDUAL</td>\n",
              "    </tr>\n",
              "  </tbody>\n",
              "</table>\n",
              "</div>\n",
              "      <button class=\"colab-df-convert\" onclick=\"convertToInteractive('df-cb4f5605-bfab-4af9-831f-a45e53fc2b66')\"\n",
              "              title=\"Convert this dataframe to an interactive table.\"\n",
              "              style=\"display:none;\">\n",
              "        \n",
              "  <svg xmlns=\"http://www.w3.org/2000/svg\" height=\"24px\"viewBox=\"0 0 24 24\"\n",
              "       width=\"24px\">\n",
              "    <path d=\"M0 0h24v24H0V0z\" fill=\"none\"/>\n",
              "    <path d=\"M18.56 5.44l.94 2.06.94-2.06 2.06-.94-2.06-.94-.94-2.06-.94 2.06-2.06.94zm-11 1L8.5 8.5l.94-2.06 2.06-.94-2.06-.94L8.5 2.5l-.94 2.06-2.06.94zm10 10l.94 2.06.94-2.06 2.06-.94-2.06-.94-.94-2.06-.94 2.06-2.06.94z\"/><path d=\"M17.41 7.96l-1.37-1.37c-.4-.4-.92-.59-1.43-.59-.52 0-1.04.2-1.43.59L10.3 9.45l-7.72 7.72c-.78.78-.78 2.05 0 2.83L4 21.41c.39.39.9.59 1.41.59.51 0 1.02-.2 1.41-.59l7.78-7.78 2.81-2.81c.8-.78.8-2.07 0-2.86zM5.41 20L4 18.59l7.72-7.72 1.47 1.35L5.41 20z\"/>\n",
              "  </svg>\n",
              "      </button>\n",
              "      \n",
              "  <style>\n",
              "    .colab-df-container {\n",
              "      display:flex;\n",
              "      flex-wrap:wrap;\n",
              "      gap: 12px;\n",
              "    }\n",
              "\n",
              "    .colab-df-convert {\n",
              "      background-color: #E8F0FE;\n",
              "      border: none;\n",
              "      border-radius: 50%;\n",
              "      cursor: pointer;\n",
              "      display: none;\n",
              "      fill: #1967D2;\n",
              "      height: 32px;\n",
              "      padding: 0 0 0 0;\n",
              "      width: 32px;\n",
              "    }\n",
              "\n",
              "    .colab-df-convert:hover {\n",
              "      background-color: #E2EBFA;\n",
              "      box-shadow: 0px 1px 2px rgba(60, 64, 67, 0.3), 0px 1px 3px 1px rgba(60, 64, 67, 0.15);\n",
              "      fill: #174EA6;\n",
              "    }\n",
              "\n",
              "    [theme=dark] .colab-df-convert {\n",
              "      background-color: #3B4455;\n",
              "      fill: #D2E3FC;\n",
              "    }\n",
              "\n",
              "    [theme=dark] .colab-df-convert:hover {\n",
              "      background-color: #434B5C;\n",
              "      box-shadow: 0px 1px 3px 1px rgba(0, 0, 0, 0.15);\n",
              "      filter: drop-shadow(0px 1px 2px rgba(0, 0, 0, 0.3));\n",
              "      fill: #FFFFFF;\n",
              "    }\n",
              "  </style>\n",
              "\n",
              "      <script>\n",
              "        const buttonEl =\n",
              "          document.querySelector('#df-cb4f5605-bfab-4af9-831f-a45e53fc2b66 button.colab-df-convert');\n",
              "        buttonEl.style.display =\n",
              "          google.colab.kernel.accessAllowed ? 'block' : 'none';\n",
              "\n",
              "        async function convertToInteractive(key) {\n",
              "          const element = document.querySelector('#df-cb4f5605-bfab-4af9-831f-a45e53fc2b66');\n",
              "          const dataTable =\n",
              "            await google.colab.kernel.invokeFunction('convertToInteractive',\n",
              "                                                     [key], {});\n",
              "          if (!dataTable) return;\n",
              "\n",
              "          const docLinkHtml = 'Like what you see? Visit the ' +\n",
              "            '<a target=\"_blank\" href=https://colab.research.google.com/notebooks/data_table.ipynb>data table notebook</a>'\n",
              "            + ' to learn more about interactive tables.';\n",
              "          element.innerHTML = '';\n",
              "          dataTable['output_type'] = 'display_data';\n",
              "          await google.colab.output.renderOutput(dataTable, element);\n",
              "          const docLink = document.createElement('div');\n",
              "          docLink.innerHTML = docLinkHtml;\n",
              "          element.appendChild(docLink);\n",
              "        }\n",
              "      </script>\n",
              "    </div>\n",
              "  </div>\n",
              "  "
            ]
          },
          "metadata": {},
          "execution_count": 29
        }
      ]
    },
    {
      "cell_type": "code",
      "source": [
        "df_loan_clean[kolom_object].nunique()"
      ],
      "metadata": {
        "colab": {
          "base_uri": "https://localhost:8080/"
        },
        "id": "ZSSMJXDRVj4u",
        "outputId": "cca335cf-c11e-4955-bdd3-9cb0d667d490"
      },
      "execution_count": 30,
      "outputs": [
        {
          "output_type": "execute_result",
          "data": {
            "text/plain": [
              "term                        2\n",
              "grade                       7\n",
              "sub_grade                  35\n",
              "home_ownership              6\n",
              "verification_status         3\n",
              "issue_d                    91\n",
              "loan_status                 9\n",
              "pymnt_plan                  2\n",
              "url                    465839\n",
              "purpose                    14\n",
              "title                   63014\n",
              "zip_code                  888\n",
              "addr_state                 50\n",
              "earliest_cr_line          664\n",
              "initial_list_status         2\n",
              "last_pymnt_d               98\n",
              "last_credit_pull_d        103\n",
              "application_type            1\n",
              "dtype: int64"
            ]
          },
          "metadata": {},
          "execution_count": 30
        }
      ]
    },
    {
      "cell_type": "code",
      "source": [
        "df_loan_clean.drop(columns=['url', 'title', 'zip_code', 'application_type', 'addr_state'], inplace=True)\n",
        "kolom_object = df_loan_clean.select_dtypes(object).columns\n",
        "df_loan_clean[kolom_object].nunique()"
      ],
      "metadata": {
        "colab": {
          "base_uri": "https://localhost:8080/"
        },
        "id": "KQD4XDO9ZzYL",
        "outputId": "222fcab3-967d-4ab9-ce1e-93c851e66a76"
      },
      "execution_count": 31,
      "outputs": [
        {
          "output_type": "execute_result",
          "data": {
            "text/plain": [
              "term                     2\n",
              "grade                    7\n",
              "sub_grade               35\n",
              "home_ownership           6\n",
              "verification_status      3\n",
              "issue_d                 91\n",
              "loan_status              9\n",
              "pymnt_plan               2\n",
              "purpose                 14\n",
              "earliest_cr_line       664\n",
              "initial_list_status      2\n",
              "last_pymnt_d            98\n",
              "last_credit_pull_d     103\n",
              "dtype: int64"
            ]
          },
          "metadata": {},
          "execution_count": 31
        }
      ]
    },
    {
      "cell_type": "code",
      "source": [
        "df_loan_clean.shape"
      ],
      "metadata": {
        "colab": {
          "base_uri": "https://localhost:8080/"
        },
        "id": "eS5jtTMOf3HT",
        "outputId": "71da025d-6485-4600-d4b6-ea3f8b36acb3"
      },
      "execution_count": 32,
      "outputs": [
        {
          "output_type": "execute_result",
          "data": {
            "text/plain": [
              "(465839, 43)"
            ]
          },
          "metadata": {},
          "execution_count": 32
        }
      ]
    },
    {
      "cell_type": "markdown",
      "source": [
        "### Kolom Date Menjadi Numerik"
      ],
      "metadata": {
        "id": "uBibkggQbJWY"
      }
    },
    {
      "cell_type": "code",
      "source": [
        "df_loan_clean[kolom_date].tail()"
      ],
      "metadata": {
        "colab": {
          "base_uri": "https://localhost:8080/",
          "height": 206
        },
        "id": "mogQAV5B_eCr",
        "outputId": "caa021e7-395e-4e8c-a1a4-81852078151a"
      },
      "execution_count": 33,
      "outputs": [
        {
          "output_type": "execute_result",
          "data": {
            "text/plain": [
              "       issue_d earliest_cr_line last_pymnt_d last_credit_pull_d\n",
              "465834  Jan-14           Apr-03       Jan-16             Jan-16\n",
              "465835  Jan-14           Jun-97       Dec-14             Jan-16\n",
              "465836  Jan-14           Dec-01       Jan-16             Dec-15\n",
              "465837  Jan-14           Feb-03       Dec-14             Apr-15\n",
              "465838  Jan-14           Feb-00       Jan-16             Jan-16"
            ],
            "text/html": [
              "\n",
              "  <div id=\"df-306f26e9-2108-47c5-a9d7-293272c5679d\">\n",
              "    <div class=\"colab-df-container\">\n",
              "      <div>\n",
              "<style scoped>\n",
              "    .dataframe tbody tr th:only-of-type {\n",
              "        vertical-align: middle;\n",
              "    }\n",
              "\n",
              "    .dataframe tbody tr th {\n",
              "        vertical-align: top;\n",
              "    }\n",
              "\n",
              "    .dataframe thead th {\n",
              "        text-align: right;\n",
              "    }\n",
              "</style>\n",
              "<table border=\"1\" class=\"dataframe\">\n",
              "  <thead>\n",
              "    <tr style=\"text-align: right;\">\n",
              "      <th></th>\n",
              "      <th>issue_d</th>\n",
              "      <th>earliest_cr_line</th>\n",
              "      <th>last_pymnt_d</th>\n",
              "      <th>last_credit_pull_d</th>\n",
              "    </tr>\n",
              "  </thead>\n",
              "  <tbody>\n",
              "    <tr>\n",
              "      <th>465834</th>\n",
              "      <td>Jan-14</td>\n",
              "      <td>Apr-03</td>\n",
              "      <td>Jan-16</td>\n",
              "      <td>Jan-16</td>\n",
              "    </tr>\n",
              "    <tr>\n",
              "      <th>465835</th>\n",
              "      <td>Jan-14</td>\n",
              "      <td>Jun-97</td>\n",
              "      <td>Dec-14</td>\n",
              "      <td>Jan-16</td>\n",
              "    </tr>\n",
              "    <tr>\n",
              "      <th>465836</th>\n",
              "      <td>Jan-14</td>\n",
              "      <td>Dec-01</td>\n",
              "      <td>Jan-16</td>\n",
              "      <td>Dec-15</td>\n",
              "    </tr>\n",
              "    <tr>\n",
              "      <th>465837</th>\n",
              "      <td>Jan-14</td>\n",
              "      <td>Feb-03</td>\n",
              "      <td>Dec-14</td>\n",
              "      <td>Apr-15</td>\n",
              "    </tr>\n",
              "    <tr>\n",
              "      <th>465838</th>\n",
              "      <td>Jan-14</td>\n",
              "      <td>Feb-00</td>\n",
              "      <td>Jan-16</td>\n",
              "      <td>Jan-16</td>\n",
              "    </tr>\n",
              "  </tbody>\n",
              "</table>\n",
              "</div>\n",
              "      <button class=\"colab-df-convert\" onclick=\"convertToInteractive('df-306f26e9-2108-47c5-a9d7-293272c5679d')\"\n",
              "              title=\"Convert this dataframe to an interactive table.\"\n",
              "              style=\"display:none;\">\n",
              "        \n",
              "  <svg xmlns=\"http://www.w3.org/2000/svg\" height=\"24px\"viewBox=\"0 0 24 24\"\n",
              "       width=\"24px\">\n",
              "    <path d=\"M0 0h24v24H0V0z\" fill=\"none\"/>\n",
              "    <path d=\"M18.56 5.44l.94 2.06.94-2.06 2.06-.94-2.06-.94-.94-2.06-.94 2.06-2.06.94zm-11 1L8.5 8.5l.94-2.06 2.06-.94-2.06-.94L8.5 2.5l-.94 2.06-2.06.94zm10 10l.94 2.06.94-2.06 2.06-.94-2.06-.94-.94-2.06-.94 2.06-2.06.94z\"/><path d=\"M17.41 7.96l-1.37-1.37c-.4-.4-.92-.59-1.43-.59-.52 0-1.04.2-1.43.59L10.3 9.45l-7.72 7.72c-.78.78-.78 2.05 0 2.83L4 21.41c.39.39.9.59 1.41.59.51 0 1.02-.2 1.41-.59l7.78-7.78 2.81-2.81c.8-.78.8-2.07 0-2.86zM5.41 20L4 18.59l7.72-7.72 1.47 1.35L5.41 20z\"/>\n",
              "  </svg>\n",
              "      </button>\n",
              "      \n",
              "  <style>\n",
              "    .colab-df-container {\n",
              "      display:flex;\n",
              "      flex-wrap:wrap;\n",
              "      gap: 12px;\n",
              "    }\n",
              "\n",
              "    .colab-df-convert {\n",
              "      background-color: #E8F0FE;\n",
              "      border: none;\n",
              "      border-radius: 50%;\n",
              "      cursor: pointer;\n",
              "      display: none;\n",
              "      fill: #1967D2;\n",
              "      height: 32px;\n",
              "      padding: 0 0 0 0;\n",
              "      width: 32px;\n",
              "    }\n",
              "\n",
              "    .colab-df-convert:hover {\n",
              "      background-color: #E2EBFA;\n",
              "      box-shadow: 0px 1px 2px rgba(60, 64, 67, 0.3), 0px 1px 3px 1px rgba(60, 64, 67, 0.15);\n",
              "      fill: #174EA6;\n",
              "    }\n",
              "\n",
              "    [theme=dark] .colab-df-convert {\n",
              "      background-color: #3B4455;\n",
              "      fill: #D2E3FC;\n",
              "    }\n",
              "\n",
              "    [theme=dark] .colab-df-convert:hover {\n",
              "      background-color: #434B5C;\n",
              "      box-shadow: 0px 1px 3px 1px rgba(0, 0, 0, 0.15);\n",
              "      filter: drop-shadow(0px 1px 2px rgba(0, 0, 0, 0.3));\n",
              "      fill: #FFFFFF;\n",
              "    }\n",
              "  </style>\n",
              "\n",
              "      <script>\n",
              "        const buttonEl =\n",
              "          document.querySelector('#df-306f26e9-2108-47c5-a9d7-293272c5679d button.colab-df-convert');\n",
              "        buttonEl.style.display =\n",
              "          google.colab.kernel.accessAllowed ? 'block' : 'none';\n",
              "\n",
              "        async function convertToInteractive(key) {\n",
              "          const element = document.querySelector('#df-306f26e9-2108-47c5-a9d7-293272c5679d');\n",
              "          const dataTable =\n",
              "            await google.colab.kernel.invokeFunction('convertToInteractive',\n",
              "                                                     [key], {});\n",
              "          if (!dataTable) return;\n",
              "\n",
              "          const docLinkHtml = 'Like what you see? Visit the ' +\n",
              "            '<a target=\"_blank\" href=https://colab.research.google.com/notebooks/data_table.ipynb>data table notebook</a>'\n",
              "            + ' to learn more about interactive tables.';\n",
              "          element.innerHTML = '';\n",
              "          dataTable['output_type'] = 'display_data';\n",
              "          await google.colab.output.renderOutput(dataTable, element);\n",
              "          const docLink = document.createElement('div');\n",
              "          docLink.innerHTML = docLinkHtml;\n",
              "          element.appendChild(docLink);\n",
              "        }\n",
              "      </script>\n",
              "    </div>\n",
              "  </div>\n",
              "  "
            ]
          },
          "metadata": {},
          "execution_count": 33
        }
      ]
    },
    {
      "cell_type": "markdown",
      "source": [
        "Estimasi 30 detik"
      ],
      "metadata": {
        "id": "yFQXqsDbdII5"
      }
    },
    {
      "cell_type": "code",
      "source": [
        "new_issue_d = []\n",
        "new_earliest_cr_line = []\n",
        "new_last_pymnt_d = []\n",
        "new_last_credit_pull_d = []\n",
        "\n",
        "for i in range(df_loan_clean.shape[0]):\n",
        "  new_issue_d.append(dt.datetime.strptime(df_loan_clean['issue_d'][i], '%b-%y'))\n",
        "  new_earliest_cr_line.append(dt.datetime.strptime(df_loan_clean['earliest_cr_line'][i], '%b-%y'))\n",
        "  new_last_pymnt_d.append(dt.datetime.strptime(df_loan_clean['last_pymnt_d'][i], '%b-%y'))\n",
        "  new_last_credit_pull_d.append(dt.datetime.strptime(df_loan_clean['last_credit_pull_d'][i], '%b-%y'))"
      ],
      "metadata": {
        "id": "AICKUKw2Ds1r"
      },
      "execution_count": 34,
      "outputs": []
    },
    {
      "cell_type": "code",
      "source": [
        "waktu_sekarang = dt.datetime.now()\n",
        "waktu_sekarang"
      ],
      "metadata": {
        "colab": {
          "base_uri": "https://localhost:8080/"
        },
        "id": "8swWEnWQfnK9",
        "outputId": "26976bf6-78b0-4556-8695-3ff367e397dc"
      },
      "execution_count": 35,
      "outputs": [
        {
          "output_type": "execute_result",
          "data": {
            "text/plain": [
              "datetime.datetime(2022, 6, 5, 4, 23, 1, 59976)"
            ]
          },
          "metadata": {},
          "execution_count": 35
        }
      ]
    },
    {
      "cell_type": "code",
      "source": [
        "def selisih_bulan(sekarang, yang_dikurangi):\n",
        "  return (sekarang - yang_dikurangi).days//30"
      ],
      "metadata": {
        "id": "c4CZ0QmUL9sB"
      },
      "execution_count": 36,
      "outputs": []
    },
    {
      "cell_type": "code",
      "source": [
        "month_issue_d = []\n",
        "month_earliest_cr_line = []\n",
        "month_last_pymnt_d = []\n",
        "month_last_credit_pull_d = []\n",
        "\n",
        "for i in range(df_loan_clean.shape[0]):\n",
        "  month_issue_d.append(selisih_bulan(waktu_sekarang, new_issue_d[i]))\n",
        "  month_earliest_cr_line.append(selisih_bulan(waktu_sekarang, new_earliest_cr_line[i]))\n",
        "  month_last_pymnt_d.append(selisih_bulan(waktu_sekarang, new_last_pymnt_d[i]))\n",
        "  month_last_credit_pull_d.append(selisih_bulan(waktu_sekarang, new_last_credit_pull_d[i]))"
      ],
      "metadata": {
        "id": "g8NmN-ofdJug"
      },
      "execution_count": 37,
      "outputs": []
    },
    {
      "cell_type": "code",
      "source": [
        "df_loan_clean['issue_d'] = month_issue_d\n",
        "df_loan_clean['earliest_cr_line']= month_earliest_cr_line\n",
        "df_loan_clean['last_pymnt_d'] = month_last_pymnt_d\n",
        "df_loan_clean['last_credit_pull_d'] = month_last_credit_pull_d"
      ],
      "metadata": {
        "id": "RN6HSqr1MuZX"
      },
      "execution_count": 38,
      "outputs": []
    },
    {
      "cell_type": "code",
      "source": [
        "kolom_object = df_loan_clean.select_dtypes(object).columns\n",
        "df_loan_clean[kolom_object].nunique()"
      ],
      "metadata": {
        "colab": {
          "base_uri": "https://localhost:8080/"
        },
        "id": "nRcCZvS1NXqd",
        "outputId": "022a1c13-6b64-424e-84b4-f4c88557ef5c"
      },
      "execution_count": 39,
      "outputs": [
        {
          "output_type": "execute_result",
          "data": {
            "text/plain": [
              "term                    2\n",
              "grade                   7\n",
              "sub_grade              35\n",
              "home_ownership          6\n",
              "verification_status     3\n",
              "loan_status             9\n",
              "pymnt_plan              2\n",
              "purpose                14\n",
              "initial_list_status     2\n",
              "dtype: int64"
            ]
          },
          "metadata": {},
          "execution_count": 39
        }
      ]
    },
    {
      "cell_type": "code",
      "source": [
        "df_loan_clean.shape"
      ],
      "metadata": {
        "colab": {
          "base_uri": "https://localhost:8080/"
        },
        "id": "__dBe14UgcpK",
        "outputId": "2a7347ac-33ce-42af-e6ce-bf4a1150f73b"
      },
      "execution_count": 40,
      "outputs": [
        {
          "output_type": "execute_result",
          "data": {
            "text/plain": [
              "(465839, 43)"
            ]
          },
          "metadata": {},
          "execution_count": 40
        }
      ]
    },
    {
      "cell_type": "markdown",
      "source": [
        "### Label Target Encoder"
      ],
      "metadata": {
        "id": "0ih-80Dugru4"
      }
    },
    {
      "cell_type": "code",
      "source": [
        "le = LabelEncoder()\n",
        "le.fit(df_loan_clean['verification_status'])\n",
        "le.classes_"
      ],
      "metadata": {
        "colab": {
          "base_uri": "https://localhost:8080/"
        },
        "id": "3Wj2SF6Egx_C",
        "outputId": "35bc513c-c502-4e26-9d7c-ab69f3406a3f"
      },
      "execution_count": 41,
      "outputs": [
        {
          "output_type": "execute_result",
          "data": {
            "text/plain": [
              "array(['Not Verified', 'Source Verified', 'Verified'], dtype=object)"
            ]
          },
          "metadata": {},
          "execution_count": 41
        }
      ]
    },
    {
      "cell_type": "code",
      "source": [
        "new_verification_status = le.transform(df_loan_clean['verification_status'])\n",
        "new_verification_status"
      ],
      "metadata": {
        "colab": {
          "base_uri": "https://localhost:8080/"
        },
        "id": "TVfXLhDFhKRx",
        "outputId": "30e53a77-29e8-4e45-866c-786f294b8207"
      },
      "execution_count": 42,
      "outputs": [
        {
          "output_type": "execute_result",
          "data": {
            "text/plain": [
              "array([2, 1, 0, ..., 2, 2, 2])"
            ]
          },
          "metadata": {},
          "execution_count": 42
        }
      ]
    },
    {
      "cell_type": "code",
      "source": [
        "df_loan_clean['verification_status'] = new_verification_status\n",
        "df_loan_clean['verification_status']"
      ],
      "metadata": {
        "colab": {
          "base_uri": "https://localhost:8080/"
        },
        "id": "kQORW_6SDGHX",
        "outputId": "fd4aceb0-21a8-4921-aed9-f09a4729c208"
      },
      "execution_count": 43,
      "outputs": [
        {
          "output_type": "execute_result",
          "data": {
            "text/plain": [
              "0         2\n",
              "1         1\n",
              "2         0\n",
              "3         1\n",
              "4         1\n",
              "         ..\n",
              "465834    1\n",
              "465835    2\n",
              "465836    2\n",
              "465837    2\n",
              "465838    2\n",
              "Name: verification_status, Length: 465839, dtype: int64"
            ]
          },
          "metadata": {},
          "execution_count": 43
        }
      ]
    },
    {
      "cell_type": "code",
      "source": [
        "df_loan_clean.shape"
      ],
      "metadata": {
        "colab": {
          "base_uri": "https://localhost:8080/"
        },
        "id": "aLm6G_CchfSp",
        "outputId": "a86f0da9-8e39-4600-e585-5573568411cf"
      },
      "execution_count": 44,
      "outputs": [
        {
          "output_type": "execute_result",
          "data": {
            "text/plain": [
              "(465839, 43)"
            ]
          },
          "metadata": {},
          "execution_count": 44
        }
      ]
    },
    {
      "cell_type": "markdown",
      "source": [
        "### Drop Kolom Tidak Perlu (ID)"
      ],
      "metadata": {
        "id": "r8bTkNBciMRd"
      }
    },
    {
      "cell_type": "code",
      "source": [
        "df_loan_clean.drop(columns=['Unnamed: 0', 'id', 'member_id'], inplace=True)\n",
        "df_loan_clean.shape"
      ],
      "metadata": {
        "colab": {
          "base_uri": "https://localhost:8080/"
        },
        "id": "9HGCzUG1iaVB",
        "outputId": "6a23db68-ade0-4403-b958-97d2ad20e539"
      },
      "execution_count": 45,
      "outputs": [
        {
          "output_type": "execute_result",
          "data": {
            "text/plain": [
              "(465839, 40)"
            ]
          },
          "metadata": {},
          "execution_count": 45
        }
      ]
    },
    {
      "cell_type": "markdown",
      "source": [
        "### Mengubah Subgrade menjadi INT64"
      ],
      "metadata": {
        "id": "nihAfKXXNc5V"
      }
    },
    {
      "cell_type": "code",
      "source": [
        "new_sub_grade = []\n",
        "\n",
        "for i in range(df_loan_clean.shape[0]):\n",
        "  new_sub_grade.append(df_loan_clean['sub_grade'][i][1])\n",
        "\n",
        "# new_sub_grade"
      ],
      "metadata": {
        "id": "Bn3oUL4mNgu3"
      },
      "execution_count": 46,
      "outputs": []
    },
    {
      "cell_type": "code",
      "source": [
        "df_loan_clean['sub_grade'] = new_sub_grade\n",
        "df_loan_clean['sub_grade'].head()"
      ],
      "metadata": {
        "colab": {
          "base_uri": "https://localhost:8080/"
        },
        "id": "NzWWnucMQ5Zn",
        "outputId": "979d3442-a4ef-4d11-8b89-8456501764fa"
      },
      "execution_count": 47,
      "outputs": [
        {
          "output_type": "execute_result",
          "data": {
            "text/plain": [
              "0    2\n",
              "1    4\n",
              "2    5\n",
              "3    1\n",
              "4    5\n",
              "Name: sub_grade, dtype: object"
            ]
          },
          "metadata": {},
          "execution_count": 47
        }
      ]
    },
    {
      "cell_type": "code",
      "source": [
        "df_loan_clean.shape"
      ],
      "metadata": {
        "colab": {
          "base_uri": "https://localhost:8080/"
        },
        "id": "JnfGGulnivwS",
        "outputId": "c8f778a3-c2b1-4290-b2db-0c2e7cca6fc2"
      },
      "execution_count": 48,
      "outputs": [
        {
          "output_type": "execute_result",
          "data": {
            "text/plain": [
              "(465839, 40)"
            ]
          },
          "metadata": {},
          "execution_count": 48
        }
      ]
    },
    {
      "cell_type": "code",
      "source": [
        "df_loan_clean['sub_grade'].astype('int64')"
      ],
      "metadata": {
        "colab": {
          "base_uri": "https://localhost:8080/"
        },
        "id": "9yXg7ohVRx8v",
        "outputId": "1c5f748f-5d79-46b3-d00e-f279bafd6629"
      },
      "execution_count": 49,
      "outputs": [
        {
          "output_type": "execute_result",
          "data": {
            "text/plain": [
              "0         2\n",
              "1         4\n",
              "2         5\n",
              "3         1\n",
              "4         5\n",
              "         ..\n",
              "465834    2\n",
              "465835    5\n",
              "465836    1\n",
              "465837    4\n",
              "465838    3\n",
              "Name: sub_grade, Length: 465839, dtype: int64"
            ]
          },
          "metadata": {},
          "execution_count": 49
        }
      ]
    },
    {
      "cell_type": "markdown",
      "source": [
        "### Kolom Categorical Lainnya"
      ],
      "metadata": {
        "id": "3YwyZt1mi6M9"
      }
    },
    {
      "cell_type": "code",
      "source": [
        "kolom_object = df_loan_clean.select_dtypes(object).columns\n",
        "df_loan_clean[kolom_object].nunique()"
      ],
      "metadata": {
        "colab": {
          "base_uri": "https://localhost:8080/"
        },
        "id": "DazITIG6RFD-",
        "outputId": "03582831-0667-4db1-d29e-d879cbd1c683"
      },
      "execution_count": 50,
      "outputs": [
        {
          "output_type": "execute_result",
          "data": {
            "text/plain": [
              "term                    2\n",
              "grade                   7\n",
              "sub_grade               5\n",
              "home_ownership          6\n",
              "loan_status             9\n",
              "pymnt_plan              2\n",
              "purpose                14\n",
              "initial_list_status     2\n",
              "dtype: int64"
            ]
          },
          "metadata": {},
          "execution_count": 50
        }
      ]
    },
    {
      "cell_type": "code",
      "source": [
        "for i in range(0, len(kolom_object)):\n",
        "    plt.subplot(3, 3, i+1)\n",
        "    sns.countplot(df_loan_clean[kolom_object[i]], color='gray', orient='v')\n",
        "    plt.tight_layout()"
      ],
      "metadata": {
        "colab": {
          "base_uri": "https://localhost:8080/",
          "height": 585
        },
        "id": "dPzbZLcgjMY3",
        "outputId": "3ff40d63-9768-4b2c-8179-4489b81adc05"
      },
      "execution_count": 52,
      "outputs": [
        {
          "output_type": "display_data",
          "data": {
            "text/plain": [
              "<Figure size 1080x576 with 8 Axes>"
            ],
            "image/png": "[encoded data removed]"
          },
          "metadata": {}
        }
      ]
    },
    {
      "cell_type": "code",
      "source": [
        "df_loan_clean['home_ownership'].value_counts()"
      ],
      "metadata": {
        "colab": {
          "base_uri": "https://localhost:8080/"
        },
        "id": "gHIfx5vrHeaJ",
        "outputId": "54a19251-06fe-4e7e-95c1-deeb48b5ec2a"
      },
      "execution_count": 53,
      "outputs": [
        {
          "output_type": "execute_result",
          "data": {
            "text/plain": [
              "MORTGAGE    235748\n",
              "RENT        188208\n",
              "OWN          41654\n",
              "OTHER          182\n",
              "NONE            46\n",
              "ANY              1\n",
              "Name: home_ownership, dtype: int64"
            ]
          },
          "metadata": {},
          "execution_count": 53
        }
      ]
    },
    {
      "cell_type": "code",
      "source": [
        "df_loan_clean['pymnt_plan'].value_counts()"
      ],
      "metadata": {
        "colab": {
          "base_uri": "https://localhost:8080/"
        },
        "id": "wh_x5qpqHoTV",
        "outputId": "54b47de0-5982-4fcd-accd-07b0f7f9e466"
      },
      "execution_count": 54,
      "outputs": [
        {
          "output_type": "execute_result",
          "data": {
            "text/plain": [
              "n    465830\n",
              "y         9\n",
              "Name: pymnt_plan, dtype: int64"
            ]
          },
          "metadata": {},
          "execution_count": 54
        }
      ]
    },
    {
      "cell_type": "code",
      "source": [
        "df_loan_clean.drop(columns=['pymnt_plan'], inplace=True)\n",
        "df_loan_clean.shape"
      ],
      "metadata": {
        "colab": {
          "base_uri": "https://localhost:8080/"
        },
        "id": "jqsQiJ93IyCO",
        "outputId": "e6718dde-10d4-4df2-e79e-2b4b1c1c31af"
      },
      "execution_count": 55,
      "outputs": [
        {
          "output_type": "execute_result",
          "data": {
            "text/plain": [
              "(465839, 39)"
            ]
          },
          "metadata": {},
          "execution_count": 55
        }
      ]
    },
    {
      "cell_type": "code",
      "source": [
        "kolom_object = df_loan_clean.select_dtypes(object).columns\n",
        "df_loan_clean[kolom_object].nunique()"
      ],
      "metadata": {
        "colab": {
          "base_uri": "https://localhost:8080/"
        },
        "id": "FXCcWBInJA-_",
        "outputId": "206d6634-bf77-49be-841d-66a3f9204f32"
      },
      "execution_count": 56,
      "outputs": [
        {
          "output_type": "execute_result",
          "data": {
            "text/plain": [
              "term                    2\n",
              "grade                   7\n",
              "sub_grade               5\n",
              "home_ownership          6\n",
              "loan_status             9\n",
              "purpose                14\n",
              "initial_list_status     2\n",
              "dtype: int64"
            ]
          },
          "metadata": {},
          "execution_count": 56
        }
      ]
    },
    {
      "cell_type": "code",
      "source": [
        "hasil_encoding = pd.get_dummies(df_loan_clean[kolom_object])\n",
        "hasil_encoding"
      ],
      "metadata": {
        "colab": {
          "base_uri": "https://localhost:8080/",
          "height": 522
        },
        "id": "ldi6MD_IS5jv",
        "outputId": "237f0df1-aaaa-4022-b27d-24246dd8e10e"
      },
      "execution_count": 57,
      "outputs": [
        {
          "output_type": "execute_result",
          "data": {
            "text/plain": [
              "        term_ 36 months  term_ 60 months  grade_A  grade_B  grade_C  grade_D  \\\n",
              "0                     1                0        0        1        0        0   \n",
              "1                     0                1        0        0        1        0   \n",
              "2                     1                0        0        0        1        0   \n",
              "3                     1                0        0        0        1        0   \n",
              "4                     0                1        0        1        0        0   \n",
              "...                 ...              ...      ...      ...      ...      ...   \n",
              "465834                0                1        0        0        1        0   \n",
              "465835                0                1        0        0        0        1   \n",
              "465836                0                1        0        0        0        1   \n",
              "465837                1                0        1        0        0        0   \n",
              "465838                1                0        0        0        0        1   \n",
              "\n",
              "        grade_E  grade_F  grade_G  sub_grade_1  ...  purpose_major_purchase  \\\n",
              "0             0        0        0            0  ...                       0   \n",
              "1             0        0        0            0  ...                       0   \n",
              "2             0        0        0            0  ...                       0   \n",
              "3             0        0        0            1  ...                       0   \n",
              "4             0        0        0            0  ...                       0   \n",
              "...         ...      ...      ...          ...  ...                     ...   \n",
              "465834        0        0        0            0  ...                       0   \n",
              "465835        0        0        0            0  ...                       0   \n",
              "465836        0        0        0            1  ...                       0   \n",
              "465837        0        0        0            0  ...                       0   \n",
              "465838        0        0        0            0  ...                       0   \n",
              "\n",
              "        purpose_medical  purpose_moving  purpose_other  \\\n",
              "0                     0               0              0   \n",
              "1                     0               0              0   \n",
              "2                     0               0              0   \n",
              "3                     0               0              1   \n",
              "4                     0               0              1   \n",
              "...                 ...             ...            ...   \n",
              "465834                0               0              0   \n",
              "465835                0               0              0   \n",
              "465836                0               0              0   \n",
              "465837                0               0              0   \n",
              "465838                0               0              1   \n",
              "\n",
              "        purpose_renewable_energy  purpose_small_business  purpose_vacation  \\\n",
              "0                              0                       0                 0   \n",
              "1                              0                       0                 0   \n",
              "2                              0                       1                 0   \n",
              "3                              0                       0                 0   \n",
              "4                              0                       0                 0   \n",
              "...                          ...                     ...               ...   \n",
              "465834                         0                       0                 0   \n",
              "465835                         0                       0                 0   \n",
              "465836                         0                       0                 0   \n",
              "465837                         0                       0                 0   \n",
              "465838                         0                       0                 0   \n",
              "\n",
              "        purpose_wedding  initial_list_status_f  initial_list_status_w  \n",
              "0                     0                      1                      0  \n",
              "1                     0                      1                      0  \n",
              "2                     0                      1                      0  \n",
              "3                     0                      1                      0  \n",
              "4                     0                      1                      0  \n",
              "...                 ...                    ...                    ...  \n",
              "465834                0                      0                      1  \n",
              "465835                0                      1                      0  \n",
              "465836                0                      1                      0  \n",
              "465837                0                      0                      1  \n",
              "465838                0                      1                      0  \n",
              "\n",
              "[465839 rows x 45 columns]"
            ],
            "text/html": [
              "\n",
              "  <div id=\"df-0dcceb94-2f9f-4169-970d-93c1824759aa\">\n",
              "    <div class=\"colab-df-container\">\n",
              "      <div>\n",
              "<style scoped>\n",
              "    .dataframe tbody tr th:only-of-type {\n",
              "        vertical-align: middle;\n",
              "    }\n",
              "\n",
              "    .dataframe tbody tr th {\n",
              "        vertical-align: top;\n",
              "    }\n",
              "\n",
              "    .dataframe thead th {\n",
              "        text-align: right;\n",
              "    }\n",
              "</style>\n",
              "<table border=\"1\" class=\"dataframe\">\n",
              "  <thead>\n",
              "    <tr style=\"text-align: right;\">\n",
              "      <th></th>\n",
              "      <th>term_ 36 months</th>\n",
              "      <th>term_ 60 months</th>\n",
              "      <th>grade_A</th>\n",
              "      <th>grade_B</th>\n",
              "      <th>grade_C</th>\n",
              "      <th>grade_D</th>\n",
              "      <th>grade_E</th>\n",
              "      <th>grade_F</th>\n",
              "      <th>grade_G</th>\n",
              "      <th>sub_grade_1</th>\n",
              "      <th>...</th>\n",
              "      <th>purpose_major_purchase</th>\n",
              "      <th>purpose_medical</th>\n",
              "      <th>purpose_moving</th>\n",
              "      <th>purpose_other</th>\n",
              "      <th>purpose_renewable_energy</th>\n",
              "      <th>purpose_small_business</th>\n",
              "      <th>purpose_vacation</th>\n",
              "      <th>purpose_wedding</th>\n",
              "      <th>initial_list_status_f</th>\n",
              "      <th>initial_list_status_w</th>\n",
              "    </tr>\n",
              "  </thead>\n",
              "  <tbody>\n",
              "    <tr>\n",
              "      <th>0</th>\n",
              "      <td>1</td>\n",
              "      <td>0</td>\n",
              "      <td>0</td>\n",
              "      <td>1</td>\n",
              "      <td>0</td>\n",
              "      <td>0</td>\n",
              "      <td>0</td>\n",
              "      <td>0</td>\n",
              "      <td>0</td>\n",
              "      <td>0</td>\n",
              "      <td>...</td>\n",
              "      <td>0</td>\n",
              "      <td>0</td>\n",
              "      <td>0</td>\n",
              "      <td>0</td>\n",
              "      <td>0</td>\n",
              "      <td>0</td>\n",
              "      <td>0</td>\n",
              "      <td>0</td>\n",
              "      <td>1</td>\n",
              "      <td>0</td>\n",
              "    </tr>\n",
              "    <tr>\n",
              "      <th>1</th>\n",
              "      <td>0</td>\n",
              "      <td>1</td>\n",
              "      <td>0</td>\n",
              "      <td>0</td>\n",
              "      <td>1</td>\n",
              "      <td>0</td>\n",
              "      <td>0</td>\n",
              "      <td>0</td>\n",
              "      <td>0</td>\n",
              "      <td>0</td>\n",
              "      <td>...</td>\n",
              "      <td>0</td>\n",
              "      <td>0</td>\n",
              "      <td>0</td>\n",
              "      <td>0</td>\n",
              "      <td>0</td>\n",
              "      <td>0</td>\n",
              "      <td>0</td>\n",
              "      <td>0</td>\n",
              "      <td>1</td>\n",
              "      <td>0</td>\n",
              "    </tr>\n",
              "    <tr>\n",
              "      <th>2</th>\n",
              "      <td>1</td>\n",
              "      <td>0</td>\n",
              "      <td>0</td>\n",
              "      <td>0</td>\n",
              "      <td>1</td>\n",
              "      <td>0</td>\n",
              "      <td>0</td>\n",
              "      <td>0</td>\n",
              "      <td>0</td>\n",
              "      <td>0</td>\n",
              "      <td>...</td>\n",
              "      <td>0</td>\n",
              "      <td>0</td>\n",
              "      <td>0</td>\n",
              "      <td>0</td>\n",
              "      <td>0</td>\n",
              "      <td>1</td>\n",
              "      <td>0</td>\n",
              "      <td>0</td>\n",
              "      <td>1</td>\n",
              "      <td>0</td>\n",
              "    </tr>\n",
              "    <tr>\n",
              "      <th>3</th>\n",
              "      <td>1</td>\n",
              "      <td>0</td>\n",
              "      <td>0</td>\n",
              "      <td>0</td>\n",
              "      <td>1</td>\n",
              "      <td>0</td>\n",
              "      <td>0</td>\n",
              "      <td>0</td>\n",
              "      <td>0</td>\n",
              "      <td>1</td>\n",
              "      <td>...</td>\n",
              "      <td>0</td>\n",
              "      <td>0</td>\n",
              "      <td>0</td>\n",
              "      <td>1</td>\n",
              "      <td>0</td>\n",
              "      <td>0</td>\n",
              "      <td>0</td>\n",
              "      <td>0</td>\n",
              "      <td>1</td>\n",
              "      <td>0</td>\n",
              "    </tr>\n",
              "    <tr>\n",
              "      <th>4</th>\n",
              "      <td>0</td>\n",
              "      <td>1</td>\n",
              "      <td>0</td>\n",
              "      <td>1</td>\n",
              "      <td>0</td>\n",
              "      <td>0</td>\n",
              "      <td>0</td>\n",
              "      <td>0</td>\n",
              "      <td>0</td>\n",
              "      <td>0</td>\n",
              "      <td>...</td>\n",
              "      <td>0</td>\n",
              "      <td>0</td>\n",
              "      <td>0</td>\n",
              "      <td>1</td>\n",
              "      <td>0</td>\n",
              "      <td>0</td>\n",
              "      <td>0</td>\n",
              "      <td>0</td>\n",
              "      <td>1</td>\n",
              "      <td>0</td>\n",
              "    </tr>\n",
              "    <tr>\n",
              "      <th>...</th>\n",
              "      <td>...</td>\n",
              "      <td>...</td>\n",
              "      <td>...</td>\n",
              "      <td>...</td>\n",
              "      <td>...</td>\n",
              "      <td>...</td>\n",
              "      <td>...</td>\n",
              "      <td>...</td>\n",
              "      <td>...</td>\n",
              "      <td>...</td>\n",
              "      <td>...</td>\n",
              "      <td>...</td>\n",
              "      <td>...</td>\n",
              "      <td>...</td>\n",
              "      <td>...</td>\n",
              "      <td>...</td>\n",
              "      <td>...</td>\n",
              "      <td>...</td>\n",
              "      <td>...</td>\n",
              "      <td>...</td>\n",
              "      <td>...</td>\n",
              "    </tr>\n",
              "    <tr>\n",
              "      <th>465834</th>\n",
              "      <td>0</td>\n",
              "      <td>1</td>\n",
              "      <td>0</td>\n",
              "      <td>0</td>\n",
              "      <td>1</td>\n",
              "      <td>0</td>\n",
              "      <td>0</td>\n",
              "      <td>0</td>\n",
              "      <td>0</td>\n",
              "      <td>0</td>\n",
              "      <td>...</td>\n",
              "      <td>0</td>\n",
              "      <td>0</td>\n",
              "      <td>0</td>\n",
              "      <td>0</td>\n",
              "      <td>0</td>\n",
              "      <td>0</td>\n",
              "      <td>0</td>\n",
              "      <td>0</td>\n",
              "      <td>0</td>\n",
              "      <td>1</td>\n",
              "    </tr>\n",
              "    <tr>\n",
              "      <th>465835</th>\n",
              "      <td>0</td>\n",
              "      <td>1</td>\n",
              "      <td>0</td>\n",
              "      <td>0</td>\n",
              "      <td>0</td>\n",
              "      <td>1</td>\n",
              "      <td>0</td>\n",
              "      <td>0</td>\n",
              "      <td>0</td>\n",
              "      <td>0</td>\n",
              "      <td>...</td>\n",
              "      <td>0</td>\n",
              "      <td>0</td>\n",
              "      <td>0</td>\n",
              "      <td>0</td>\n",
              "      <td>0</td>\n",
              "      <td>0</td>\n",
              "      <td>0</td>\n",
              "      <td>0</td>\n",
              "      <td>1</td>\n",
              "      <td>0</td>\n",
              "    </tr>\n",
              "    <tr>\n",
              "      <th>465836</th>\n",
              "      <td>0</td>\n",
              "      <td>1</td>\n",
              "      <td>0</td>\n",
              "      <td>0</td>\n",
              "      <td>0</td>\n",
              "      <td>1</td>\n",
              "      <td>0</td>\n",
              "      <td>0</td>\n",
              "      <td>0</td>\n",
              "      <td>1</td>\n",
              "      <td>...</td>\n",
              "      <td>0</td>\n",
              "      <td>0</td>\n",
              "      <td>0</td>\n",
              "      <td>0</td>\n",
              "      <td>0</td>\n",
              "      <td>0</td>\n",
              "      <td>0</td>\n",
              "      <td>0</td>\n",
              "      <td>1</td>\n",
              "      <td>0</td>\n",
              "    </tr>\n",
              "    <tr>\n",
              "      <th>465837</th>\n",
              "      <td>1</td>\n",
              "      <td>0</td>\n",
              "      <td>1</td>\n",
              "      <td>0</td>\n",
              "      <td>0</td>\n",
              "      <td>0</td>\n",
              "      <td>0</td>\n",
              "      <td>0</td>\n",
              "      <td>0</td>\n",
              "      <td>0</td>\n",
              "      <td>...</td>\n",
              "      <td>0</td>\n",
              "      <td>0</td>\n",
              "      <td>0</td>\n",
              "      <td>0</td>\n",
              "      <td>0</td>\n",
              "      <td>0</td>\n",
              "      <td>0</td>\n",
              "      <td>0</td>\n",
              "      <td>0</td>\n",
              "      <td>1</td>\n",
              "    </tr>\n",
              "    <tr>\n",
              "      <th>465838</th>\n",
              "      <td>1</td>\n",
              "      <td>0</td>\n",
              "      <td>0</td>\n",
              "      <td>0</td>\n",
              "      <td>0</td>\n",
              "      <td>1</td>\n",
              "      <td>0</td>\n",
              "      <td>0</td>\n",
              "      <td>0</td>\n",
              "      <td>0</td>\n",
              "      <td>...</td>\n",
              "      <td>0</td>\n",
              "      <td>0</td>\n",
              "      <td>0</td>\n",
              "      <td>1</td>\n",
              "      <td>0</td>\n",
              "      <td>0</td>\n",
              "      <td>0</td>\n",
              "      <td>0</td>\n",
              "      <td>1</td>\n",
              "      <td>0</td>\n",
              "    </tr>\n",
              "  </tbody>\n",
              "</table>\n",
              "<p>465839 rows × 45 columns</p>\n",
              "</div>\n",
              "      <button class=\"colab-df-convert\" onclick=\"convertToInteractive('df-0dcceb94-2f9f-4169-970d-93c1824759aa')\"\n",
              "              title=\"Convert this dataframe to an interactive table.\"\n",
              "              style=\"display:none;\">\n",
              "        \n",
              "  <svg xmlns=\"http://www.w3.org/2000/svg\" height=\"24px\"viewBox=\"0 0 24 24\"\n",
              "       width=\"24px\">\n",
              "    <path d=\"M0 0h24v24H0V0z\" fill=\"none\"/>\n",
              "    <path d=\"M18.56 5.44l.94 2.06.94-2.06 2.06-.94-2.06-.94-.94-2.06-.94 2.06-2.06.94zm-11 1L8.5 8.5l.94-2.06 2.06-.94-2.06-.94L8.5 2.5l-.94 2.06-2.06.94zm10 10l.94 2.06.94-2.06 2.06-.94-2.06-.94-.94-2.06-.94 2.06-2.06.94z\"/><path d=\"M17.41 7.96l-1.37-1.37c-.4-.4-.92-.59-1.43-.59-.52 0-1.04.2-1.43.59L10.3 9.45l-7.72 7.72c-.78.78-.78 2.05 0 2.83L4 21.41c.39.39.9.59 1.41.59.51 0 1.02-.2 1.41-.59l7.78-7.78 2.81-2.81c.8-.78.8-2.07 0-2.86zM5.41 20L4 18.59l7.72-7.72 1.47 1.35L5.41 20z\"/>\n",
              "  </svg>\n",
              "      </button>\n",
              "      \n",
              "  <style>\n",
              "    .colab-df-container {\n",
              "      display:flex;\n",
              "      flex-wrap:wrap;\n",
              "      gap: 12px;\n",
              "    }\n",
              "\n",
              "    .colab-df-convert {\n",
              "      background-color: #E8F0FE;\n",
              "      border: none;\n",
              "      border-radius: 50%;\n",
              "      cursor: pointer;\n",
              "      display: none;\n",
              "      fill: #1967D2;\n",
              "      height: 32px;\n",
              "      padding: 0 0 0 0;\n",
              "      width: 32px;\n",
              "    }\n",
              "\n",
              "    .colab-df-convert:hover {\n",
              "      background-color: #E2EBFA;\n",
              "      box-shadow: 0px 1px 2px rgba(60, 64, 67, 0.3), 0px 1px 3px 1px rgba(60, 64, 67, 0.15);\n",
              "      fill: #174EA6;\n",
              "    }\n",
              "\n",
              "    [theme=dark] .colab-df-convert {\n",
              "      background-color: #3B4455;\n",
              "      fill: #D2E3FC;\n",
              "    }\n",
              "\n",
              "    [theme=dark] .colab-df-convert:hover {\n",
              "      background-color: #434B5C;\n",
              "      box-shadow: 0px 1px 3px 1px rgba(0, 0, 0, 0.15);\n",
              "      filter: drop-shadow(0px 1px 2px rgba(0, 0, 0, 0.3));\n",
              "      fill: #FFFFFF;\n",
              "    }\n",
              "  </style>\n",
              "\n",
              "      <script>\n",
              "        const buttonEl =\n",
              "          document.querySelector('#df-0dcceb94-2f9f-4169-970d-93c1824759aa button.colab-df-convert');\n",
              "        buttonEl.style.display =\n",
              "          google.colab.kernel.accessAllowed ? 'block' : 'none';\n",
              "\n",
              "        async function convertToInteractive(key) {\n",
              "          const element = document.querySelector('#df-0dcceb94-2f9f-4169-970d-93c1824759aa');\n",
              "          const dataTable =\n",
              "            await google.colab.kernel.invokeFunction('convertToInteractive',\n",
              "                                                     [key], {});\n",
              "          if (!dataTable) return;\n",
              "\n",
              "          const docLinkHtml = 'Like what you see? Visit the ' +\n",
              "            '<a target=\"_blank\" href=https://colab.research.google.com/notebooks/data_table.ipynb>data table notebook</a>'\n",
              "            + ' to learn more about interactive tables.';\n",
              "          element.innerHTML = '';\n",
              "          dataTable['output_type'] = 'display_data';\n",
              "          await google.colab.output.renderOutput(dataTable, element);\n",
              "          const docLink = document.createElement('div');\n",
              "          docLink.innerHTML = docLinkHtml;\n",
              "          element.appendChild(docLink);\n",
              "        }\n",
              "      </script>\n",
              "    </div>\n",
              "  </div>\n",
              "  "
            ]
          },
          "metadata": {},
          "execution_count": 57
        }
      ]
    },
    {
      "cell_type": "code",
      "source": [
        "hasil_encoding.shape"
      ],
      "metadata": {
        "colab": {
          "base_uri": "https://localhost:8080/"
        },
        "id": "bAaD8pkgkXLL",
        "outputId": "ce09abdd-848f-471d-9d5d-a8c1ef24e539"
      },
      "execution_count": 58,
      "outputs": [
        {
          "output_type": "execute_result",
          "data": {
            "text/plain": [
              "(465839, 45)"
            ]
          },
          "metadata": {},
          "execution_count": 58
        }
      ]
    },
    {
      "cell_type": "code",
      "source": [
        "len(kolom_object)"
      ],
      "metadata": {
        "colab": {
          "base_uri": "https://localhost:8080/"
        },
        "id": "pWS1qsb8koPz",
        "outputId": "6097a7ef-4443-4a1d-9520-05c0d3121eb8"
      },
      "execution_count": 59,
      "outputs": [
        {
          "output_type": "execute_result",
          "data": {
            "text/plain": [
              "7"
            ]
          },
          "metadata": {},
          "execution_count": 59
        }
      ]
    },
    {
      "cell_type": "code",
      "source": [
        "df_loan_clean = pd.concat([df_loan_clean, hasil_encoding], axis=1)\n",
        "df_loan_clean.drop(columns=kolom_object, inplace=True)\n",
        "df_loan_clean.shape"
      ],
      "metadata": {
        "colab": {
          "base_uri": "https://localhost:8080/"
        },
        "id": "WyA9A69wUD17",
        "outputId": "9f78dd92-bd5e-416e-c259-ad05230324c3"
      },
      "execution_count": 60,
      "outputs": [
        {
          "output_type": "execute_result",
          "data": {
            "text/plain": [
              "(465839, 77)"
            ]
          },
          "metadata": {},
          "execution_count": 60
        }
      ]
    },
    {
      "cell_type": "markdown",
      "source": [
        "Catatan : Jumlah Fitur tetap 39 walaupun jumlah kolom menjadi 77 karena hasil One Hot Encoding, karena 77 (banyak kolom sekarang) - 45 (kolom one hot encoding) + 7 (kolom sebelum one hot encoding) = 39"
      ],
      "metadata": {
        "id": "oT_FZAS7kxYI"
      }
    },
    {
      "cell_type": "markdown",
      "source": [
        "## Data Exploration"
      ],
      "metadata": {
        "id": "Fe53RjwMWxeQ"
      }
    },
    {
      "cell_type": "code",
      "source": [
        "for tipe in df_loan_clean.dtypes.items():\n",
        "  print(tipe)"
      ],
      "metadata": {
        "colab": {
          "base_uri": "https://localhost:8080/"
        },
        "id": "qWy2tRn0Uw1S",
        "outputId": "efc2f85c-ab03-4656-c959-83fc6c0f019a"
      },
      "execution_count": 61,
      "outputs": [
        {
          "output_type": "stream",
          "name": "stdout",
          "text": [
            "('loan_amnt', dtype('int64'))\n",
            "('funded_amnt', dtype('int64'))\n",
            "('funded_amnt_inv', dtype('float64'))\n",
            "('int_rate', dtype('float64'))\n",
            "('installment', dtype('float64'))\n",
            "('annual_inc', dtype('float64'))\n",
            "('verification_status', dtype('int64'))\n",
            "('issue_d', dtype('int64'))\n",
            "('dti', dtype('float64'))\n",
            "('delinq_2yrs', dtype('float64'))\n",
            "('earliest_cr_line', dtype('int64'))\n",
            "('inq_last_6mths', dtype('float64'))\n",
            "('open_acc', dtype('float64'))\n",
            "('pub_rec', dtype('float64'))\n",
            "('revol_bal', dtype('int64'))\n",
            "('revol_util', dtype('float64'))\n",
            "('total_acc', dtype('float64'))\n",
            "('out_prncp', dtype('float64'))\n",
            "('out_prncp_inv', dtype('float64'))\n",
            "('total_pymnt', dtype('float64'))\n",
            "('total_pymnt_inv', dtype('float64'))\n",
            "('total_rec_prncp', dtype('float64'))\n",
            "('total_rec_int', dtype('float64'))\n",
            "('total_rec_late_fee', dtype('float64'))\n",
            "('recoveries', dtype('float64'))\n",
            "('collection_recovery_fee', dtype('float64'))\n",
            "('last_pymnt_d', dtype('int64'))\n",
            "('last_pymnt_amnt', dtype('float64'))\n",
            "('last_credit_pull_d', dtype('int64'))\n",
            "('collections_12_mths_ex_med', dtype('float64'))\n",
            "('policy_code', dtype('int64'))\n",
            "('acc_now_delinq', dtype('float64'))\n",
            "('term_ 36 months', dtype('uint8'))\n",
            "('term_ 60 months', dtype('uint8'))\n",
            "('grade_A', dtype('uint8'))\n",
            "('grade_B', dtype('uint8'))\n",
            "('grade_C', dtype('uint8'))\n",
            "('grade_D', dtype('uint8'))\n",
            "('grade_E', dtype('uint8'))\n",
            "('grade_F', dtype('uint8'))\n",
            "('grade_G', dtype('uint8'))\n",
            "('sub_grade_1', dtype('uint8'))\n",
            "('sub_grade_2', dtype('uint8'))\n",
            "('sub_grade_3', dtype('uint8'))\n",
            "('sub_grade_4', dtype('uint8'))\n",
            "('sub_grade_5', dtype('uint8'))\n",
            "('home_ownership_ANY', dtype('uint8'))\n",
            "('home_ownership_MORTGAGE', dtype('uint8'))\n",
            "('home_ownership_NONE', dtype('uint8'))\n",
            "('home_ownership_OTHER', dtype('uint8'))\n",
            "('home_ownership_OWN', dtype('uint8'))\n",
            "('home_ownership_RENT', dtype('uint8'))\n",
            "('loan_status_Charged Off', dtype('uint8'))\n",
            "('loan_status_Current', dtype('uint8'))\n",
            "('loan_status_Default', dtype('uint8'))\n",
            "('loan_status_Does not meet the credit policy. Status:Charged Off', dtype('uint8'))\n",
            "('loan_status_Does not meet the credit policy. Status:Fully Paid', dtype('uint8'))\n",
            "('loan_status_Fully Paid', dtype('uint8'))\n",
            "('loan_status_In Grace Period', dtype('uint8'))\n",
            "('loan_status_Late (16-30 days)', dtype('uint8'))\n",
            "('loan_status_Late (31-120 days)', dtype('uint8'))\n",
            "('purpose_car', dtype('uint8'))\n",
            "('purpose_credit_card', dtype('uint8'))\n",
            "('purpose_debt_consolidation', dtype('uint8'))\n",
            "('purpose_educational', dtype('uint8'))\n",
            "('purpose_home_improvement', dtype('uint8'))\n",
            "('purpose_house', dtype('uint8'))\n",
            "('purpose_major_purchase', dtype('uint8'))\n",
            "('purpose_medical', dtype('uint8'))\n",
            "('purpose_moving', dtype('uint8'))\n",
            "('purpose_other', dtype('uint8'))\n",
            "('purpose_renewable_energy', dtype('uint8'))\n",
            "('purpose_small_business', dtype('uint8'))\n",
            "('purpose_vacation', dtype('uint8'))\n",
            "('purpose_wedding', dtype('uint8'))\n",
            "('initial_list_status_f', dtype('uint8'))\n",
            "('initial_list_status_w', dtype('uint8'))\n"
          ]
        }
      ]
    },
    {
      "cell_type": "code",
      "source": [
        "kolom_int64 = df_loan_clean.select_dtypes('int64').columns\n",
        "kolom_float64 = df_loan_clean.select_dtypes('float64').columns\n",
        "\n",
        "print(len(kolom_int64), len(kolom_float64))"
      ],
      "metadata": {
        "colab": {
          "base_uri": "https://localhost:8080/"
        },
        "id": "HvYvOW9PW3ft",
        "outputId": "77244097-f9a3-4ffd-b577-131edc470a0e"
      },
      "execution_count": 62,
      "outputs": [
        {
          "output_type": "stream",
          "name": "stdout",
          "text": [
            "9 23\n"
          ]
        }
      ]
    },
    {
      "cell_type": "markdown",
      "source": [
        "### Kolom INT64"
      ],
      "metadata": {
        "id": "3N6NNiykcvxz"
      }
    },
    {
      "cell_type": "code",
      "source": [
        "for i in range(0, len(kolom_int64)):\n",
        "    plt.subplot(3, 3, i+1)\n",
        "    sns.distplot(df_loan_clean[kolom_int64[i]], color='gray')\n",
        "    plt.tight_layout()"
      ],
      "metadata": {
        "colab": {
          "base_uri": "https://localhost:8080/",
          "height": 585
        },
        "id": "D3uA0PmnYJpc",
        "outputId": "f93ac8d8-ab9b-4c90-af47-bd368f2c4125"
      },
      "execution_count": 63,
      "outputs": [
        {
          "output_type": "display_data",
          "data": {
            "text/plain": [
              "<Figure size 1080x576 with 9 Axes>"
            ],
            "image/png": "[encoded data removed]"
          },
          "metadata": {}
        }
      ]
    },
    {
      "cell_type": "code",
      "source": [
        "for i in range(0, len(kolom_int64)):\n",
        "    plt.subplot(1, len(kolom_int64), i+1)\n",
        "    sns.boxplot(y=df_loan_clean[kolom_int64[i]], color='gray', orient='v')\n",
        "    plt.tight_layout()"
      ],
      "metadata": {
        "colab": {
          "base_uri": "https://localhost:8080/",
          "height": 585
        },
        "id": "xUK4FBPOZdsq",
        "outputId": "c1d1f4f0-eb59-44a4-d8ec-33f787b90452"
      },
      "execution_count": 64,
      "outputs": [
        {
          "output_type": "display_data",
          "data": {
            "text/plain": [
              "<Figure size 1080x576 with 9 Axes>"
            ],
            "image/png": "[encoded data removed]"
          },
          "metadata": {}
        }
      ]
    },
    {
      "cell_type": "code",
      "source": [
        "df_loan_clean['policy_code'].value_counts()"
      ],
      "metadata": {
        "colab": {
          "base_uri": "https://localhost:8080/"
        },
        "id": "hvzLAsOLZ2sN",
        "outputId": "19fbb116-c87b-4afd-ab5a-c4a631fa9fe6"
      },
      "execution_count": 65,
      "outputs": [
        {
          "output_type": "execute_result",
          "data": {
            "text/plain": [
              "1    465839\n",
              "Name: policy_code, dtype: int64"
            ]
          },
          "metadata": {},
          "execution_count": 65
        }
      ]
    },
    {
      "cell_type": "code",
      "source": [
        "df_loan_clean.drop(columns=['policy_code'], inplace=True)\n",
        "df_loan_clean.shape"
      ],
      "metadata": {
        "colab": {
          "base_uri": "https://localhost:8080/"
        },
        "id": "0OSLrBY0sEZv",
        "outputId": "1ffa7252-07cf-4d23-c3d0-c444634d5087"
      },
      "execution_count": 66,
      "outputs": [
        {
          "output_type": "execute_result",
          "data": {
            "text/plain": [
              "(465839, 76)"
            ]
          },
          "metadata": {},
          "execution_count": 66
        }
      ]
    },
    {
      "cell_type": "code",
      "source": [
        "new_earliest_cr_line = np.where(df_loan_clean['earliest_cr_line'] < 0, 0, df_loan_clean['earliest_cr_line'])\n",
        "new_earliest_cr_line"
      ],
      "metadata": {
        "colab": {
          "base_uri": "https://localhost:8080/"
        },
        "id": "0OzHHCMZnOYv",
        "outputId": "ca5e5802-e506-4330-9c14-7bc8027bc1fc"
      },
      "execution_count": 67,
      "outputs": [
        {
          "output_type": "execute_result",
          "data": {
            "text/plain": [
              "array([455, 282, 250, ..., 249, 235, 272])"
            ]
          },
          "metadata": {},
          "execution_count": 67
        }
      ]
    },
    {
      "cell_type": "code",
      "source": [
        "df_loan_clean['earliest_cr_line'][df_loan_clean['earliest_cr_line'] < 0].count()"
      ],
      "metadata": {
        "colab": {
          "base_uri": "https://localhost:8080/"
        },
        "id": "TUq-dqs2m4P8",
        "outputId": "e2536383-a5ec-47c7-db1c-c1e29077f519"
      },
      "execution_count": 68,
      "outputs": [
        {
          "output_type": "execute_result",
          "data": {
            "text/plain": [
              "1167"
            ]
          },
          "metadata": {},
          "execution_count": 68
        }
      ]
    },
    {
      "cell_type": "code",
      "source": [
        "df_loan_clean['earliest_cr_line'] = new_earliest_cr_line\n",
        "df_loan_clean.shape"
      ],
      "metadata": {
        "colab": {
          "base_uri": "https://localhost:8080/"
        },
        "id": "KHwB-VQnnrpa",
        "outputId": "3d25ca75-1805-46c1-bcdd-c0075a6e8323"
      },
      "execution_count": 69,
      "outputs": [
        {
          "output_type": "execute_result",
          "data": {
            "text/plain": [
              "(465839, 76)"
            ]
          },
          "metadata": {},
          "execution_count": 69
        }
      ]
    },
    {
      "cell_type": "markdown",
      "source": [
        "### Kolom Float 64"
      ],
      "metadata": {
        "id": "wpV3TCBgcy_P"
      }
    },
    {
      "cell_type": "code",
      "source": [
        "for i in range(0, len(kolom_float64)):\n",
        "    plt.subplot(4, 6, i+1)\n",
        "    sns.distplot(df_loan_clean[kolom_float64[i]], color='gray')\n",
        "    plt.tight_layout()"
      ],
      "metadata": {
        "colab": {
          "base_uri": "https://localhost:8080/",
          "height": 585
        },
        "id": "WDSAYDjMc3Bb",
        "outputId": "75ab96c4-803c-4986-b39b-545785e63b71"
      },
      "execution_count": 70,
      "outputs": [
        {
          "output_type": "display_data",
          "data": {
            "text/plain": [
              "<Figure size 1080x576 with 23 Axes>"
            ],
            "image/png": "[encoded data removed]"
          },
          "metadata": {}
        }
      ]
    },
    {
      "cell_type": "code",
      "source": [
        "for i in range(0, len(kolom_float64)):\n",
        "    plt.subplot(2, 12, i+1)\n",
        "    sns.boxplot(y=df_loan_clean[kolom_float64[i]], color='gray', orient='v')\n",
        "    plt.tight_layout()"
      ],
      "metadata": {
        "colab": {
          "base_uri": "https://localhost:8080/",
          "height": 585
        },
        "id": "UeCEKkMPtLOd",
        "outputId": "dde0b7a1-b9ee-4e2f-857d-b93a83ddd662"
      },
      "execution_count": 72,
      "outputs": [
        {
          "output_type": "display_data",
          "data": {
            "text/plain": [
              "<Figure size 1080x576 with 23 Axes>"
            ],
            "image/png": "[encoded data removed]"
          },
          "metadata": {}
        }
      ]
    },
    {
      "cell_type": "markdown",
      "source": [
        "## Seleksi Fitur"
      ],
      "metadata": {
        "id": "zlwZ2jojtwsx"
      }
    },
    {
      "cell_type": "code",
      "source": [
        "df_loan_clean['verification_status_label'] = new_verification_status\n",
        "df_loan_clean.drop(columns=['verification_status'], inplace=True)\n",
        "df_loan_clean.shape"
      ],
      "metadata": {
        "id": "JKfZISHl19es",
        "colab": {
          "base_uri": "https://localhost:8080/"
        },
        "outputId": "5b10ac30-6e44-487a-d751-3d821dedde58"
      },
      "execution_count": 73,
      "outputs": [
        {
          "output_type": "execute_result",
          "data": {
            "text/plain": [
              "(465839, 76)"
            ]
          },
          "metadata": {},
          "execution_count": 73
        }
      ]
    },
    {
      "cell_type": "code",
      "source": [
        "df_loan_clean"
      ],
      "metadata": {
        "colab": {
          "base_uri": "https://localhost:8080/",
          "height": 488
        },
        "id": "uWuMfbyG2O3y",
        "outputId": "220f69bb-c965-486c-866d-64e19782648e"
      },
      "execution_count": 74,
      "outputs": [
        {
          "output_type": "execute_result",
          "data": {
            "text/plain": [
              "        loan_amnt  funded_amnt  funded_amnt_inv  int_rate  installment  \\\n",
              "0            5000         5000           4975.0     10.65       162.87   \n",
              "1            2500         2500           2500.0     15.27        59.83   \n",
              "2            2400         2400           2400.0     15.96        84.33   \n",
              "3           10000        10000          10000.0     13.49       339.31   \n",
              "4            3000         3000           3000.0     12.69        67.79   \n",
              "...           ...          ...              ...       ...          ...   \n",
              "465834      18400        18400          18400.0     14.47       432.64   \n",
              "465835      22000        22000          22000.0     19.97       582.50   \n",
              "465836      20700        20700          20700.0     16.99       514.34   \n",
              "465837       2000         2000           2000.0      7.90        62.59   \n",
              "465838      10000        10000           9975.0     19.20       367.58   \n",
              "\n",
              "        annual_inc  issue_d    dti  delinq_2yrs  earliest_cr_line  ...  \\\n",
              "0          24000.0      127  27.65          0.0               455  ...   \n",
              "1          30000.0      127   1.00          0.0               282  ...   \n",
              "2          12252.0      127   8.72          0.0               250  ...   \n",
              "3          49200.0      127  20.00          0.0               320  ...   \n",
              "4          80000.0      127  17.94          0.0               321  ...   \n",
              "...            ...      ...    ...          ...               ...  ...   \n",
              "465834    110000.0      102  19.85          0.0               233  ...   \n",
              "465835     78000.0      102  18.45          0.0               304  ...   \n",
              "465836     46000.0      102  25.65          0.0               249  ...   \n",
              "465837     83000.0      102   5.39          3.0               235  ...   \n",
              "465838     46000.0      102  22.78          1.0               272  ...   \n",
              "\n",
              "        purpose_medical  purpose_moving  purpose_other  \\\n",
              "0                     0               0              0   \n",
              "1                     0               0              0   \n",
              "2                     0               0              0   \n",
              "3                     0               0              1   \n",
              "4                     0               0              1   \n",
              "...                 ...             ...            ...   \n",
              "465834                0               0              0   \n",
              "465835                0               0              0   \n",
              "465836                0               0              0   \n",
              "465837                0               0              0   \n",
              "465838                0               0              1   \n",
              "\n",
              "        purpose_renewable_energy  purpose_small_business  purpose_vacation  \\\n",
              "0                              0                       0                 0   \n",
              "1                              0                       0                 0   \n",
              "2                              0                       1                 0   \n",
              "3                              0                       0                 0   \n",
              "4                              0                       0                 0   \n",
              "...                          ...                     ...               ...   \n",
              "465834                         0                       0                 0   \n",
              "465835                         0                       0                 0   \n",
              "465836                         0                       0                 0   \n",
              "465837                         0                       0                 0   \n",
              "465838                         0                       0                 0   \n",
              "\n",
              "        purpose_wedding  initial_list_status_f  initial_list_status_w  \\\n",
              "0                     0                      1                      0   \n",
              "1                     0                      1                      0   \n",
              "2                     0                      1                      0   \n",
              "3                     0                      1                      0   \n",
              "4                     0                      1                      0   \n",
              "...                 ...                    ...                    ...   \n",
              "465834                0                      0                      1   \n",
              "465835                0                      1                      0   \n",
              "465836                0                      1                      0   \n",
              "465837                0                      0                      1   \n",
              "465838                0                      1                      0   \n",
              "\n",
              "        verification_status_label  \n",
              "0                               2  \n",
              "1                               1  \n",
              "2                               0  \n",
              "3                               1  \n",
              "4                               1  \n",
              "...                           ...  \n",
              "465834                          1  \n",
              "465835                          2  \n",
              "465836                          2  \n",
              "465837                          2  \n",
              "465838                          2  \n",
              "\n",
              "[465839 rows x 76 columns]"
            ],
            "text/html": [
              "\n",
              "  <div id=\"df-0dd19997-ffd6-41cf-bfd2-7e5402a79c80\">\n",
              "    <div class=\"colab-df-container\">\n",
              "      <div>\n",
              "<style scoped>\n",
              "    .dataframe tbody tr th:only-of-type {\n",
              "        vertical-align: middle;\n",
              "    }\n",
              "\n",
              "    .dataframe tbody tr th {\n",
              "        vertical-align: top;\n",
              "    }\n",
              "\n",
              "    .dataframe thead th {\n",
              "        text-align: right;\n",
              "    }\n",
              "</style>\n",
              "<table border=\"1\" class=\"dataframe\">\n",
              "  <thead>\n",
              "    <tr style=\"text-align: right;\">\n",
              "      <th></th>\n",
              "      <th>loan_amnt</th>\n",
              "      <th>funded_amnt</th>\n",
              "      <th>funded_amnt_inv</th>\n",
              "      <th>int_rate</th>\n",
              "      <th>installment</th>\n",
              "      <th>annual_inc</th>\n",
              "      <th>issue_d</th>\n",
              "      <th>dti</th>\n",
              "      <th>delinq_2yrs</th>\n",
              "      <th>earliest_cr_line</th>\n",
              "      <th>...</th>\n",
              "      <th>purpose_medical</th>\n",
              "      <th>purpose_moving</th>\n",
              "      <th>purpose_other</th>\n",
              "      <th>purpose_renewable_energy</th>\n",
              "      <th>purpose_small_business</th>\n",
              "      <th>purpose_vacation</th>\n",
              "      <th>purpose_wedding</th>\n",
              "      <th>initial_list_status_f</th>\n",
              "      <th>initial_list_status_w</th>\n",
              "      <th>verification_status_label</th>\n",
              "    </tr>\n",
              "  </thead>\n",
              "  <tbody>\n",
              "    <tr>\n",
              "      <th>0</th>\n",
              "      <td>5000</td>\n",
              "      <td>5000</td>\n",
              "      <td>4975.0</td>\n",
              "      <td>10.65</td>\n",
              "      <td>162.87</td>\n",
              "      <td>24000.0</td>\n",
              "      <td>127</td>\n",
              "      <td>27.65</td>\n",
              "      <td>0.0</td>\n",
              "      <td>455</td>\n",
              "      <td>...</td>\n",
              "      <td>0</td>\n",
              "      <td>0</td>\n",
              "      <td>0</td>\n",
              "      <td>0</td>\n",
              "      <td>0</td>\n",
              "      <td>0</td>\n",
              "      <td>0</td>\n",
              "      <td>1</td>\n",
              "      <td>0</td>\n",
              "      <td>2</td>\n",
              "    </tr>\n",
              "    <tr>\n",
              "      <th>1</th>\n",
              "      <td>2500</td>\n",
              "      <td>2500</td>\n",
              "      <td>2500.0</td>\n",
              "      <td>15.27</td>\n",
              "      <td>59.83</td>\n",
              "      <td>30000.0</td>\n",
              "      <td>127</td>\n",
              "      <td>1.00</td>\n",
              "      <td>0.0</td>\n",
              "      <td>282</td>\n",
              "      <td>...</td>\n",
              "      <td>0</td>\n",
              "      <td>0</td>\n",
              "      <td>0</td>\n",
              "      <td>0</td>\n",
              "      <td>0</td>\n",
              "      <td>0</td>\n",
              "      <td>0</td>\n",
              "      <td>1</td>\n",
              "      <td>0</td>\n",
              "      <td>1</td>\n",
              "    </tr>\n",
              "    <tr>\n",
              "      <th>2</th>\n",
              "      <td>2400</td>\n",
              "      <td>2400</td>\n",
              "      <td>2400.0</td>\n",
              "      <td>15.96</td>\n",
              "      <td>84.33</td>\n",
              "      <td>12252.0</td>\n",
              "      <td>127</td>\n",
              "      <td>8.72</td>\n",
              "      <td>0.0</td>\n",
              "      <td>250</td>\n",
              "      <td>...</td>\n",
              "      <td>0</td>\n",
              "      <td>0</td>\n",
              "      <td>0</td>\n",
              "      <td>0</td>\n",
              "      <td>1</td>\n",
              "      <td>0</td>\n",
              "      <td>0</td>\n",
              "      <td>1</td>\n",
              "      <td>0</td>\n",
              "      <td>0</td>\n",
              "    </tr>\n",
              "    <tr>\n",
              "      <th>3</th>\n",
              "      <td>10000</td>\n",
              "      <td>10000</td>\n",
              "      <td>10000.0</td>\n",
              "      <td>13.49</td>\n",
              "      <td>339.31</td>\n",
              "      <td>49200.0</td>\n",
              "      <td>127</td>\n",
              "      <td>20.00</td>\n",
              "      <td>0.0</td>\n",
              "      <td>320</td>\n",
              "      <td>...</td>\n",
              "      <td>0</td>\n",
              "      <td>0</td>\n",
              "      <td>1</td>\n",
              "      <td>0</td>\n",
              "      <td>0</td>\n",
              "      <td>0</td>\n",
              "      <td>0</td>\n",
              "      <td>1</td>\n",
              "      <td>0</td>\n",
              "      <td>1</td>\n",
              "    </tr>\n",
              "    <tr>\n",
              "      <th>4</th>\n",
              "      <td>3000</td>\n",
              "      <td>3000</td>\n",
              "      <td>3000.0</td>\n",
              "      <td>12.69</td>\n",
              "      <td>67.79</td>\n",
              "      <td>80000.0</td>\n",
              "      <td>127</td>\n",
              "      <td>17.94</td>\n",
              "      <td>0.0</td>\n",
              "      <td>321</td>\n",
              "      <td>...</td>\n",
              "      <td>0</td>\n",
              "      <td>0</td>\n",
              "      <td>1</td>\n",
              "      <td>0</td>\n",
              "      <td>0</td>\n",
              "      <td>0</td>\n",
              "      <td>0</td>\n",
              "      <td>1</td>\n",
              "      <td>0</td>\n",
              "      <td>1</td>\n",
              "    </tr>\n",
              "    <tr>\n",
              "      <th>...</th>\n",
              "      <td>...</td>\n",
              "      <td>...</td>\n",
              "      <td>...</td>\n",
              "      <td>...</td>\n",
              "      <td>...</td>\n",
              "      <td>...</td>\n",
              "      <td>...</td>\n",
              "      <td>...</td>\n",
              "      <td>...</td>\n",
              "      <td>...</td>\n",
              "      <td>...</td>\n",
              "      <td>...</td>\n",
              "      <td>...</td>\n",
              "      <td>...</td>\n",
              "      <td>...</td>\n",
              "      <td>...</td>\n",
              "      <td>...</td>\n",
              "      <td>...</td>\n",
              "      <td>...</td>\n",
              "      <td>...</td>\n",
              "      <td>...</td>\n",
              "    </tr>\n",
              "    <tr>\n",
              "      <th>465834</th>\n",
              "      <td>18400</td>\n",
              "      <td>18400</td>\n",
              "      <td>18400.0</td>\n",
              "      <td>14.47</td>\n",
              "      <td>432.64</td>\n",
              "      <td>110000.0</td>\n",
              "      <td>102</td>\n",
              "      <td>19.85</td>\n",
              "      <td>0.0</td>\n",
              "      <td>233</td>\n",
              "      <td>...</td>\n",
              "      <td>0</td>\n",
              "      <td>0</td>\n",
              "      <td>0</td>\n",
              "      <td>0</td>\n",
              "      <td>0</td>\n",
              "      <td>0</td>\n",
              "      <td>0</td>\n",
              "      <td>0</td>\n",
              "      <td>1</td>\n",
              "      <td>1</td>\n",
              "    </tr>\n",
              "    <tr>\n",
              "      <th>465835</th>\n",
              "      <td>22000</td>\n",
              "      <td>22000</td>\n",
              "      <td>22000.0</td>\n",
              "      <td>19.97</td>\n",
              "      <td>582.50</td>\n",
              "      <td>78000.0</td>\n",
              "      <td>102</td>\n",
              "      <td>18.45</td>\n",
              "      <td>0.0</td>\n",
              "      <td>304</td>\n",
              "      <td>...</td>\n",
              "      <td>0</td>\n",
              "      <td>0</td>\n",
              "      <td>0</td>\n",
              "      <td>0</td>\n",
              "      <td>0</td>\n",
              "      <td>0</td>\n",
              "      <td>0</td>\n",
              "      <td>1</td>\n",
              "      <td>0</td>\n",
              "      <td>2</td>\n",
              "    </tr>\n",
              "    <tr>\n",
              "      <th>465836</th>\n",
              "      <td>20700</td>\n",
              "      <td>20700</td>\n",
              "      <td>20700.0</td>\n",
              "      <td>16.99</td>\n",
              "      <td>514.34</td>\n",
              "      <td>46000.0</td>\n",
              "      <td>102</td>\n",
              "      <td>25.65</td>\n",
              "      <td>0.0</td>\n",
              "      <td>249</td>\n",
              "      <td>...</td>\n",
              "      <td>0</td>\n",
              "      <td>0</td>\n",
              "      <td>0</td>\n",
              "      <td>0</td>\n",
              "      <td>0</td>\n",
              "      <td>0</td>\n",
              "      <td>0</td>\n",
              "      <td>1</td>\n",
              "      <td>0</td>\n",
              "      <td>2</td>\n",
              "    </tr>\n",
              "    <tr>\n",
              "      <th>465837</th>\n",
              "      <td>2000</td>\n",
              "      <td>2000</td>\n",
              "      <td>2000.0</td>\n",
              "      <td>7.90</td>\n",
              "      <td>62.59</td>\n",
              "      <td>83000.0</td>\n",
              "      <td>102</td>\n",
              "      <td>5.39</td>\n",
              "      <td>3.0</td>\n",
              "      <td>235</td>\n",
              "      <td>...</td>\n",
              "      <td>0</td>\n",
              "      <td>0</td>\n",
              "      <td>0</td>\n",
              "      <td>0</td>\n",
              "      <td>0</td>\n",
              "      <td>0</td>\n",
              "      <td>0</td>\n",
              "      <td>0</td>\n",
              "      <td>1</td>\n",
              "      <td>2</td>\n",
              "    </tr>\n",
              "    <tr>\n",
              "      <th>465838</th>\n",
              "      <td>10000</td>\n",
              "      <td>10000</td>\n",
              "      <td>9975.0</td>\n",
              "      <td>19.20</td>\n",
              "      <td>367.58</td>\n",
              "      <td>46000.0</td>\n",
              "      <td>102</td>\n",
              "      <td>22.78</td>\n",
              "      <td>1.0</td>\n",
              "      <td>272</td>\n",
              "      <td>...</td>\n",
              "      <td>0</td>\n",
              "      <td>0</td>\n",
              "      <td>1</td>\n",
              "      <td>0</td>\n",
              "      <td>0</td>\n",
              "      <td>0</td>\n",
              "      <td>0</td>\n",
              "      <td>1</td>\n",
              "      <td>0</td>\n",
              "      <td>2</td>\n",
              "    </tr>\n",
              "  </tbody>\n",
              "</table>\n",
              "<p>465839 rows × 76 columns</p>\n",
              "</div>\n",
              "      <button class=\"colab-df-convert\" onclick=\"convertToInteractive('df-0dd19997-ffd6-41cf-bfd2-7e5402a79c80')\"\n",
              "              title=\"Convert this dataframe to an interactive table.\"\n",
              "              style=\"display:none;\">\n",
              "        \n",
              "  <svg xmlns=\"http://www.w3.org/2000/svg\" height=\"24px\"viewBox=\"0 0 24 24\"\n",
              "       width=\"24px\">\n",
              "    <path d=\"M0 0h24v24H0V0z\" fill=\"none\"/>\n",
              "    <path d=\"M18.56 5.44l.94 2.06.94-2.06 2.06-.94-2.06-.94-.94-2.06-.94 2.06-2.06.94zm-11 1L8.5 8.5l.94-2.06 2.06-.94-2.06-.94L8.5 2.5l-.94 2.06-2.06.94zm10 10l.94 2.06.94-2.06 2.06-.94-2.06-.94-.94-2.06-.94 2.06-2.06.94z\"/><path d=\"M17.41 7.96l-1.37-1.37c-.4-.4-.92-.59-1.43-.59-.52 0-1.04.2-1.43.59L10.3 9.45l-7.72 7.72c-.78.78-.78 2.05 0 2.83L4 21.41c.39.39.9.59 1.41.59.51 0 1.02-.2 1.41-.59l7.78-7.78 2.81-2.81c.8-.78.8-2.07 0-2.86zM5.41 20L4 18.59l7.72-7.72 1.47 1.35L5.41 20z\"/>\n",
              "  </svg>\n",
              "      </button>\n",
              "      \n",
              "  <style>\n",
              "    .colab-df-container {\n",
              "      display:flex;\n",
              "      flex-wrap:wrap;\n",
              "      gap: 12px;\n",
              "    }\n",
              "\n",
              "    .colab-df-convert {\n",
              "      background-color: #E8F0FE;\n",
              "      border: none;\n",
              "      border-radius: 50%;\n",
              "      cursor: pointer;\n",
              "      display: none;\n",
              "      fill: #1967D2;\n",
              "      height: 32px;\n",
              "      padding: 0 0 0 0;\n",
              "      width: 32px;\n",
              "    }\n",
              "\n",
              "    .colab-df-convert:hover {\n",
              "      background-color: #E2EBFA;\n",
              "      box-shadow: 0px 1px 2px rgba(60, 64, 67, 0.3), 0px 1px 3px 1px rgba(60, 64, 67, 0.15);\n",
              "      fill: #174EA6;\n",
              "    }\n",
              "\n",
              "    [theme=dark] .colab-df-convert {\n",
              "      background-color: #3B4455;\n",
              "      fill: #D2E3FC;\n",
              "    }\n",
              "\n",
              "    [theme=dark] .colab-df-convert:hover {\n",
              "      background-color: #434B5C;\n",
              "      box-shadow: 0px 1px 3px 1px rgba(0, 0, 0, 0.15);\n",
              "      filter: drop-shadow(0px 1px 2px rgba(0, 0, 0, 0.3));\n",
              "      fill: #FFFFFF;\n",
              "    }\n",
              "  </style>\n",
              "\n",
              "      <script>\n",
              "        const buttonEl =\n",
              "          document.querySelector('#df-0dd19997-ffd6-41cf-bfd2-7e5402a79c80 button.colab-df-convert');\n",
              "        buttonEl.style.display =\n",
              "          google.colab.kernel.accessAllowed ? 'block' : 'none';\n",
              "\n",
              "        async function convertToInteractive(key) {\n",
              "          const element = document.querySelector('#df-0dd19997-ffd6-41cf-bfd2-7e5402a79c80');\n",
              "          const dataTable =\n",
              "            await google.colab.kernel.invokeFunction('convertToInteractive',\n",
              "                                                     [key], {});\n",
              "          if (!dataTable) return;\n",
              "\n",
              "          const docLinkHtml = 'Like what you see? Visit the ' +\n",
              "            '<a target=\"_blank\" href=https://colab.research.google.com/notebooks/data_table.ipynb>data table notebook</a>'\n",
              "            + ' to learn more about interactive tables.';\n",
              "          element.innerHTML = '';\n",
              "          dataTable['output_type'] = 'display_data';\n",
              "          await google.colab.output.renderOutput(dataTable, element);\n",
              "          const docLink = document.createElement('div');\n",
              "          docLink.innerHTML = docLinkHtml;\n",
              "          element.appendChild(docLink);\n",
              "        }\n",
              "      </script>\n",
              "    </div>\n",
              "  </div>\n",
              "  "
            ]
          },
          "metadata": {},
          "execution_count": 74
        }
      ]
    },
    {
      "cell_type": "code",
      "source": [
        "X = df_loan_clean.iloc[:,:-1]\n",
        "X.head()"
      ],
      "metadata": {
        "colab": {
          "base_uri": "https://localhost:8080/",
          "height": 300
        },
        "id": "QWWRQQlsuSfs",
        "outputId": "3e40dcc2-7d16-4a0e-8bf4-533e85630579"
      },
      "execution_count": 75,
      "outputs": [
        {
          "output_type": "execute_result",
          "data": {
            "text/plain": [
              "   loan_amnt  funded_amnt  funded_amnt_inv  int_rate  installment  annual_inc  \\\n",
              "0       5000         5000           4975.0     10.65       162.87     24000.0   \n",
              "1       2500         2500           2500.0     15.27        59.83     30000.0   \n",
              "2       2400         2400           2400.0     15.96        84.33     12252.0   \n",
              "3      10000        10000          10000.0     13.49       339.31     49200.0   \n",
              "4       3000         3000           3000.0     12.69        67.79     80000.0   \n",
              "\n",
              "   issue_d    dti  delinq_2yrs  earliest_cr_line  ...  purpose_major_purchase  \\\n",
              "0      127  27.65          0.0               455  ...                       0   \n",
              "1      127   1.00          0.0               282  ...                       0   \n",
              "2      127   8.72          0.0               250  ...                       0   \n",
              "3      127  20.00          0.0               320  ...                       0   \n",
              "4      127  17.94          0.0               321  ...                       0   \n",
              "\n",
              "   purpose_medical  purpose_moving  purpose_other  purpose_renewable_energy  \\\n",
              "0                0               0              0                         0   \n",
              "1                0               0              0                         0   \n",
              "2                0               0              0                         0   \n",
              "3                0               0              1                         0   \n",
              "4                0               0              1                         0   \n",
              "\n",
              "   purpose_small_business  purpose_vacation  purpose_wedding  \\\n",
              "0                       0                 0                0   \n",
              "1                       0                 0                0   \n",
              "2                       1                 0                0   \n",
              "3                       0                 0                0   \n",
              "4                       0                 0                0   \n",
              "\n",
              "   initial_list_status_f  initial_list_status_w  \n",
              "0                      1                      0  \n",
              "1                      1                      0  \n",
              "2                      1                      0  \n",
              "3                      1                      0  \n",
              "4                      1                      0  \n",
              "\n",
              "[5 rows x 75 columns]"
            ],
            "text/html": [
              "\n",
              "  <div id=\"df-8d76adf4-af9c-441d-a679-9f0441d1d342\">\n",
              "    <div class=\"colab-df-container\">\n",
              "      <div>\n",
              "<style scoped>\n",
              "    .dataframe tbody tr th:only-of-type {\n",
              "        vertical-align: middle;\n",
              "    }\n",
              "\n",
              "    .dataframe tbody tr th {\n",
              "        vertical-align: top;\n",
              "    }\n",
              "\n",
              "    .dataframe thead th {\n",
              "        text-align: right;\n",
              "    }\n",
              "</style>\n",
              "<table border=\"1\" class=\"dataframe\">\n",
              "  <thead>\n",
              "    <tr style=\"text-align: right;\">\n",
              "      <th></th>\n",
              "      <th>loan_amnt</th>\n",
              "      <th>funded_amnt</th>\n",
              "      <th>funded_amnt_inv</th>\n",
              "      <th>int_rate</th>\n",
              "      <th>installment</th>\n",
              "      <th>annual_inc</th>\n",
              "      <th>issue_d</th>\n",
              "      <th>dti</th>\n",
              "      <th>delinq_2yrs</th>\n",
              "      <th>earliest_cr_line</th>\n",
              "      <th>...</th>\n",
              "      <th>purpose_major_purchase</th>\n",
              "      <th>purpose_medical</th>\n",
              "      <th>purpose_moving</th>\n",
              "      <th>purpose_other</th>\n",
              "      <th>purpose_renewable_energy</th>\n",
              "      <th>purpose_small_business</th>\n",
              "      <th>purpose_vacation</th>\n",
              "      <th>purpose_wedding</th>\n",
              "      <th>initial_list_status_f</th>\n",
              "      <th>initial_list_status_w</th>\n",
              "    </tr>\n",
              "  </thead>\n",
              "  <tbody>\n",
              "    <tr>\n",
              "      <th>0</th>\n",
              "      <td>5000</td>\n",
              "      <td>5000</td>\n",
              "      <td>4975.0</td>\n",
              "      <td>10.65</td>\n",
              "      <td>162.87</td>\n",
              "      <td>24000.0</td>\n",
              "      <td>127</td>\n",
              "      <td>27.65</td>\n",
              "      <td>0.0</td>\n",
              "      <td>455</td>\n",
              "      <td>...</td>\n",
              "      <td>0</td>\n",
              "      <td>0</td>\n",
              "      <td>0</td>\n",
              "      <td>0</td>\n",
              "      <td>0</td>\n",
              "      <td>0</td>\n",
              "      <td>0</td>\n",
              "      <td>0</td>\n",
              "      <td>1</td>\n",
              "      <td>0</td>\n",
              "    </tr>\n",
              "    <tr>\n",
              "      <th>1</th>\n",
              "      <td>2500</td>\n",
              "      <td>2500</td>\n",
              "      <td>2500.0</td>\n",
              "      <td>15.27</td>\n",
              "      <td>59.83</td>\n",
              "      <td>30000.0</td>\n",
              "      <td>127</td>\n",
              "      <td>1.00</td>\n",
              "      <td>0.0</td>\n",
              "      <td>282</td>\n",
              "      <td>...</td>\n",
              "      <td>0</td>\n",
              "      <td>0</td>\n",
              "      <td>0</td>\n",
              "      <td>0</td>\n",
              "      <td>0</td>\n",
              "      <td>0</td>\n",
              "      <td>0</td>\n",
              "      <td>0</td>\n",
              "      <td>1</td>\n",
              "      <td>0</td>\n",
              "    </tr>\n",
              "    <tr>\n",
              "      <th>2</th>\n",
              "      <td>2400</td>\n",
              "      <td>2400</td>\n",
              "      <td>2400.0</td>\n",
              "      <td>15.96</td>\n",
              "      <td>84.33</td>\n",
              "      <td>12252.0</td>\n",
              "      <td>127</td>\n",
              "      <td>8.72</td>\n",
              "      <td>0.0</td>\n",
              "      <td>250</td>\n",
              "      <td>...</td>\n",
              "      <td>0</td>\n",
              "      <td>0</td>\n",
              "      <td>0</td>\n",
              "      <td>0</td>\n",
              "      <td>0</td>\n",
              "      <td>1</td>\n",
              "      <td>0</td>\n",
              "      <td>0</td>\n",
              "      <td>1</td>\n",
              "      <td>0</td>\n",
              "    </tr>\n",
              "    <tr>\n",
              "      <th>3</th>\n",
              "      <td>10000</td>\n",
              "      <td>10000</td>\n",
              "      <td>10000.0</td>\n",
              "      <td>13.49</td>\n",
              "      <td>339.31</td>\n",
              "      <td>49200.0</td>\n",
              "      <td>127</td>\n",
              "      <td>20.00</td>\n",
              "      <td>0.0</td>\n",
              "      <td>320</td>\n",
              "      <td>...</td>\n",
              "      <td>0</td>\n",
              "      <td>0</td>\n",
              "      <td>0</td>\n",
              "      <td>1</td>\n",
              "      <td>0</td>\n",
              "      <td>0</td>\n",
              "      <td>0</td>\n",
              "      <td>0</td>\n",
              "      <td>1</td>\n",
              "      <td>0</td>\n",
              "    </tr>\n",
              "    <tr>\n",
              "      <th>4</th>\n",
              "      <td>3000</td>\n",
              "      <td>3000</td>\n",
              "      <td>3000.0</td>\n",
              "      <td>12.69</td>\n",
              "      <td>67.79</td>\n",
              "      <td>80000.0</td>\n",
              "      <td>127</td>\n",
              "      <td>17.94</td>\n",
              "      <td>0.0</td>\n",
              "      <td>321</td>\n",
              "      <td>...</td>\n",
              "      <td>0</td>\n",
              "      <td>0</td>\n",
              "      <td>0</td>\n",
              "      <td>1</td>\n",
              "      <td>0</td>\n",
              "      <td>0</td>\n",
              "      <td>0</td>\n",
              "      <td>0</td>\n",
              "      <td>1</td>\n",
              "      <td>0</td>\n",
              "    </tr>\n",
              "  </tbody>\n",
              "</table>\n",
              "<p>5 rows × 75 columns</p>\n",
              "</div>\n",
              "      <button class=\"colab-df-convert\" onclick=\"convertToInteractive('df-8d76adf4-af9c-441d-a679-9f0441d1d342')\"\n",
              "              title=\"Convert this dataframe to an interactive table.\"\n",
              "              style=\"display:none;\">\n",
              "        \n",
              "  <svg xmlns=\"http://www.w3.org/2000/svg\" height=\"24px\"viewBox=\"0 0 24 24\"\n",
              "       width=\"24px\">\n",
              "    <path d=\"M0 0h24v24H0V0z\" fill=\"none\"/>\n",
              "    <path d=\"M18.56 5.44l.94 2.06.94-2.06 2.06-.94-2.06-.94-.94-2.06-.94 2.06-2.06.94zm-11 1L8.5 8.5l.94-2.06 2.06-.94-2.06-.94L8.5 2.5l-.94 2.06-2.06.94zm10 10l.94 2.06.94-2.06 2.06-.94-2.06-.94-.94-2.06-.94 2.06-2.06.94z\"/><path d=\"M17.41 7.96l-1.37-1.37c-.4-.4-.92-.59-1.43-.59-.52 0-1.04.2-1.43.59L10.3 9.45l-7.72 7.72c-.78.78-.78 2.05 0 2.83L4 21.41c.39.39.9.59 1.41.59.51 0 1.02-.2 1.41-.59l7.78-7.78 2.81-2.81c.8-.78.8-2.07 0-2.86zM5.41 20L4 18.59l7.72-7.72 1.47 1.35L5.41 20z\"/>\n",
              "  </svg>\n",
              "      </button>\n",
              "      \n",
              "  <style>\n",
              "    .colab-df-container {\n",
              "      display:flex;\n",
              "      flex-wrap:wrap;\n",
              "      gap: 12px;\n",
              "    }\n",
              "\n",
              "    .colab-df-convert {\n",
              "      background-color: #E8F0FE;\n",
              "      border: none;\n",
              "      border-radius: 50%;\n",
              "      cursor: pointer;\n",
              "      display: none;\n",
              "      fill: #1967D2;\n",
              "      height: 32px;\n",
              "      padding: 0 0 0 0;\n",
              "      width: 32px;\n",
              "    }\n",
              "\n",
              "    .colab-df-convert:hover {\n",
              "      background-color: #E2EBFA;\n",
              "      box-shadow: 0px 1px 2px rgba(60, 64, 67, 0.3), 0px 1px 3px 1px rgba(60, 64, 67, 0.15);\n",
              "      fill: #174EA6;\n",
              "    }\n",
              "\n",
              "    [theme=dark] .colab-df-convert {\n",
              "      background-color: #3B4455;\n",
              "      fill: #D2E3FC;\n",
              "    }\n",
              "\n",
              "    [theme=dark] .colab-df-convert:hover {\n",
              "      background-color: #434B5C;\n",
              "      box-shadow: 0px 1px 3px 1px rgba(0, 0, 0, 0.15);\n",
              "      filter: drop-shadow(0px 1px 2px rgba(0, 0, 0, 0.3));\n",
              "      fill: #FFFFFF;\n",
              "    }\n",
              "  </style>\n",
              "\n",
              "      <script>\n",
              "        const buttonEl =\n",
              "          document.querySelector('#df-8d76adf4-af9c-441d-a679-9f0441d1d342 button.colab-df-convert');\n",
              "        buttonEl.style.display =\n",
              "          google.colab.kernel.accessAllowed ? 'block' : 'none';\n",
              "\n",
              "        async function convertToInteractive(key) {\n",
              "          const element = document.querySelector('#df-8d76adf4-af9c-441d-a679-9f0441d1d342');\n",
              "          const dataTable =\n",
              "            await google.colab.kernel.invokeFunction('convertToInteractive',\n",
              "                                                     [key], {});\n",
              "          if (!dataTable) return;\n",
              "\n",
              "          const docLinkHtml = 'Like what you see? Visit the ' +\n",
              "            '<a target=\"_blank\" href=https://colab.research.google.com/notebooks/data_table.ipynb>data table notebook</a>'\n",
              "            + ' to learn more about interactive tables.';\n",
              "          element.innerHTML = '';\n",
              "          dataTable['output_type'] = 'display_data';\n",
              "          await google.colab.output.renderOutput(dataTable, element);\n",
              "          const docLink = document.createElement('div');\n",
              "          docLink.innerHTML = docLinkHtml;\n",
              "          element.appendChild(docLink);\n",
              "        }\n",
              "      </script>\n",
              "    </div>\n",
              "  </div>\n",
              "  "
            ]
          },
          "metadata": {},
          "execution_count": 75
        }
      ]
    },
    {
      "cell_type": "code",
      "source": [
        "y = df_loan_clean.iloc[:,-1]\n",
        "y.head()"
      ],
      "metadata": {
        "colab": {
          "base_uri": "https://localhost:8080/"
        },
        "id": "n6MtXHzsuhyr",
        "outputId": "cca48705-f0dc-45cc-9542-62ae84405d01"
      },
      "execution_count": 76,
      "outputs": [
        {
          "output_type": "execute_result",
          "data": {
            "text/plain": [
              "0    2\n",
              "1    1\n",
              "2    0\n",
              "3    1\n",
              "4    1\n",
              "Name: verification_status_label, dtype: int64"
            ]
          },
          "metadata": {},
          "execution_count": 76
        }
      ]
    },
    {
      "cell_type": "markdown",
      "source": [
        "Estimasi 3 Menit"
      ],
      "metadata": {
        "id": "TNoEPt3KSD14"
      }
    },
    {
      "cell_type": "code",
      "source": [
        "et = ExtraTreesClassifier()\n",
        "et = et.fit(X, y)"
      ],
      "metadata": {
        "id": "UKIf_tfHMn1z"
      },
      "execution_count": 118,
      "outputs": []
    },
    {
      "cell_type": "code",
      "source": [
        "top_fitur = pd.Series(et.feature_importances_, index=X.columns)\n",
        "top_10 = top_fitur.sort_values(ascending=False).head(10)\n",
        "top_10"
      ],
      "metadata": {
        "colab": {
          "base_uri": "https://localhost:8080/"
        },
        "id": "S_4KTN7HNd9x",
        "outputId": "519e637c-9eea-472b-fcc3-9f7dd876a9bc"
      },
      "execution_count": 123,
      "outputs": [
        {
          "output_type": "execute_result",
          "data": {
            "text/plain": [
              "issue_d            0.046552\n",
              "dti                0.042107\n",
              "funded_amnt_inv    0.040502\n",
              "total_rec_int      0.038746\n",
              "loan_amnt          0.037295\n",
              "total_pymnt_inv    0.037177\n",
              "total_pymnt        0.036725\n",
              "funded_amnt        0.036209\n",
              "annual_inc         0.035587\n",
              "installment        0.034777\n",
              "dtype: float64"
            ]
          },
          "metadata": {},
          "execution_count": 123
        }
      ]
    },
    {
      "cell_type": "code",
      "source": [
        "fitur_terpilih = list(top_10.index)\n",
        "fitur_terpilih.append('verification_status_label')\n",
        "fitur_terpilih"
      ],
      "metadata": {
        "colab": {
          "base_uri": "https://localhost:8080/"
        },
        "id": "fdid5HPdSReG",
        "outputId": "f88f4a1f-e42c-4ba6-dead-e88334432980"
      },
      "execution_count": 124,
      "outputs": [
        {
          "output_type": "execute_result",
          "data": {
            "text/plain": [
              "['issue_d',\n",
              " 'dti',\n",
              " 'funded_amnt_inv',\n",
              " 'total_rec_int',\n",
              " 'loan_amnt',\n",
              " 'total_pymnt_inv',\n",
              " 'total_pymnt',\n",
              " 'funded_amnt',\n",
              " 'annual_inc',\n",
              " 'installment',\n",
              " 'verification_status_label']"
            ]
          },
          "metadata": {},
          "execution_count": 124
        }
      ]
    },
    {
      "cell_type": "code",
      "source": [
        "df_loan_model = df_loan_clean[fitur_terpilih]\n",
        "df_loan_model.head()"
      ],
      "metadata": {
        "colab": {
          "base_uri": "https://localhost:8080/",
          "height": 206
        },
        "id": "CE_jKyxnSvxX",
        "outputId": "6c8774c2-26c5-4274-cdf1-abe0f95f6b63"
      },
      "execution_count": 125,
      "outputs": [
        {
          "output_type": "execute_result",
          "data": {
            "text/plain": [
              "   issue_d    dti  funded_amnt_inv  total_rec_int  loan_amnt  total_pymnt_inv  \\\n",
              "0      127  27.65           4975.0         861.07       5000          5831.78   \n",
              "1      127   1.00           2500.0         435.17       2500          1008.71   \n",
              "2      127   8.72           2400.0         603.65       2400          3003.65   \n",
              "3      127  20.00          10000.0        2209.33      10000         12226.30   \n",
              "4      127  17.94           3000.0        1009.07       3000          3242.17   \n",
              "\n",
              "    total_pymnt  funded_amnt  annual_inc  installment  \\\n",
              "0   5861.071414         5000     24000.0       162.87   \n",
              "1   1008.710000         2500     30000.0        59.83   \n",
              "2   3003.653644         2400     12252.0        84.33   \n",
              "3  12226.302210        10000     49200.0       339.31   \n",
              "4   3242.170000         3000     80000.0        67.79   \n",
              "\n",
              "   verification_status_label  \n",
              "0                          2  \n",
              "1                          1  \n",
              "2                          0  \n",
              "3                          1  \n",
              "4                          1  "
            ],
            "text/html": [
              "\n",
              "  <div id=\"df-1521aa2d-6347-489d-91bc-9b085609811e\">\n",
              "    <div class=\"colab-df-container\">\n",
              "      <div>\n",
              "<style scoped>\n",
              "    .dataframe tbody tr th:only-of-type {\n",
              "        vertical-align: middle;\n",
              "    }\n",
              "\n",
              "    .dataframe tbody tr th {\n",
              "        vertical-align: top;\n",
              "    }\n",
              "\n",
              "    .dataframe thead th {\n",
              "        text-align: right;\n",
              "    }\n",
              "</style>\n",
              "<table border=\"1\" class=\"dataframe\">\n",
              "  <thead>\n",
              "    <tr style=\"text-align: right;\">\n",
              "      <th></th>\n",
              "      <th>issue_d</th>\n",
              "      <th>dti</th>\n",
              "      <th>funded_amnt_inv</th>\n",
              "      <th>total_rec_int</th>\n",
              "      <th>loan_amnt</th>\n",
              "      <th>total_pymnt_inv</th>\n",
              "      <th>total_pymnt</th>\n",
              "      <th>funded_amnt</th>\n",
              "      <th>annual_inc</th>\n",
              "      <th>installment</th>\n",
              "      <th>verification_status_label</th>\n",
              "    </tr>\n",
              "  </thead>\n",
              "  <tbody>\n",
              "    <tr>\n",
              "      <th>0</th>\n",
              "      <td>127</td>\n",
              "      <td>27.65</td>\n",
              "      <td>4975.0</td>\n",
              "      <td>861.07</td>\n",
              "      <td>5000</td>\n",
              "      <td>5831.78</td>\n",
              "      <td>5861.071414</td>\n",
              "      <td>5000</td>\n",
              "      <td>24000.0</td>\n",
              "      <td>162.87</td>\n",
              "      <td>2</td>\n",
              "    </tr>\n",
              "    <tr>\n",
              "      <th>1</th>\n",
              "      <td>127</td>\n",
              "      <td>1.00</td>\n",
              "      <td>2500.0</td>\n",
              "      <td>435.17</td>\n",
              "      <td>2500</td>\n",
              "      <td>1008.71</td>\n",
              "      <td>1008.710000</td>\n",
              "      <td>2500</td>\n",
              "      <td>30000.0</td>\n",
              "      <td>59.83</td>\n",
              "      <td>1</td>\n",
              "    </tr>\n",
              "    <tr>\n",
              "      <th>2</th>\n",
              "      <td>127</td>\n",
              "      <td>8.72</td>\n",
              "      <td>2400.0</td>\n",
              "      <td>603.65</td>\n",
              "      <td>2400</td>\n",
              "      <td>3003.65</td>\n",
              "      <td>3003.653644</td>\n",
              "      <td>2400</td>\n",
              "      <td>12252.0</td>\n",
              "      <td>84.33</td>\n",
              "      <td>0</td>\n",
              "    </tr>\n",
              "    <tr>\n",
              "      <th>3</th>\n",
              "      <td>127</td>\n",
              "      <td>20.00</td>\n",
              "      <td>10000.0</td>\n",
              "      <td>2209.33</td>\n",
              "      <td>10000</td>\n",
              "      <td>12226.30</td>\n",
              "      <td>12226.302210</td>\n",
              "      <td>10000</td>\n",
              "      <td>49200.0</td>\n",
              "      <td>339.31</td>\n",
              "      <td>1</td>\n",
              "    </tr>\n",
              "    <tr>\n",
              "      <th>4</th>\n",
              "      <td>127</td>\n",
              "      <td>17.94</td>\n",
              "      <td>3000.0</td>\n",
              "      <td>1009.07</td>\n",
              "      <td>3000</td>\n",
              "      <td>3242.17</td>\n",
              "      <td>3242.170000</td>\n",
              "      <td>3000</td>\n",
              "      <td>80000.0</td>\n",
              "      <td>67.79</td>\n",
              "      <td>1</td>\n",
              "    </tr>\n",
              "  </tbody>\n",
              "</table>\n",
              "</div>\n",
              "      <button class=\"colab-df-convert\" onclick=\"convertToInteractive('df-1521aa2d-6347-489d-91bc-9b085609811e')\"\n",
              "              title=\"Convert this dataframe to an interactive table.\"\n",
              "              style=\"display:none;\">\n",
              "        \n",
              "  <svg xmlns=\"http://www.w3.org/2000/svg\" height=\"24px\"viewBox=\"0 0 24 24\"\n",
              "       width=\"24px\">\n",
              "    <path d=\"M0 0h24v24H0V0z\" fill=\"none\"/>\n",
              "    <path d=\"M18.56 5.44l.94 2.06.94-2.06 2.06-.94-2.06-.94-.94-2.06-.94 2.06-2.06.94zm-11 1L8.5 8.5l.94-2.06 2.06-.94-2.06-.94L8.5 2.5l-.94 2.06-2.06.94zm10 10l.94 2.06.94-2.06 2.06-.94-2.06-.94-.94-2.06-.94 2.06-2.06.94z\"/><path d=\"M17.41 7.96l-1.37-1.37c-.4-.4-.92-.59-1.43-.59-.52 0-1.04.2-1.43.59L10.3 9.45l-7.72 7.72c-.78.78-.78 2.05 0 2.83L4 21.41c.39.39.9.59 1.41.59.51 0 1.02-.2 1.41-.59l7.78-7.78 2.81-2.81c.8-.78.8-2.07 0-2.86zM5.41 20L4 18.59l7.72-7.72 1.47 1.35L5.41 20z\"/>\n",
              "  </svg>\n",
              "      </button>\n",
              "      \n",
              "  <style>\n",
              "    .colab-df-container {\n",
              "      display:flex;\n",
              "      flex-wrap:wrap;\n",
              "      gap: 12px;\n",
              "    }\n",
              "\n",
              "    .colab-df-convert {\n",
              "      background-color: #E8F0FE;\n",
              "      border: none;\n",
              "      border-radius: 50%;\n",
              "      cursor: pointer;\n",
              "      display: none;\n",
              "      fill: #1967D2;\n",
              "      height: 32px;\n",
              "      padding: 0 0 0 0;\n",
              "      width: 32px;\n",
              "    }\n",
              "\n",
              "    .colab-df-convert:hover {\n",
              "      background-color: #E2EBFA;\n",
              "      box-shadow: 0px 1px 2px rgba(60, 64, 67, 0.3), 0px 1px 3px 1px rgba(60, 64, 67, 0.15);\n",
              "      fill: #174EA6;\n",
              "    }\n",
              "\n",
              "    [theme=dark] .colab-df-convert {\n",
              "      background-color: #3B4455;\n",
              "      fill: #D2E3FC;\n",
              "    }\n",
              "\n",
              "    [theme=dark] .colab-df-convert:hover {\n",
              "      background-color: #434B5C;\n",
              "      box-shadow: 0px 1px 3px 1px rgba(0, 0, 0, 0.15);\n",
              "      filter: drop-shadow(0px 1px 2px rgba(0, 0, 0, 0.3));\n",
              "      fill: #FFFFFF;\n",
              "    }\n",
              "  </style>\n",
              "\n",
              "      <script>\n",
              "        const buttonEl =\n",
              "          document.querySelector('#df-1521aa2d-6347-489d-91bc-9b085609811e button.colab-df-convert');\n",
              "        buttonEl.style.display =\n",
              "          google.colab.kernel.accessAllowed ? 'block' : 'none';\n",
              "\n",
              "        async function convertToInteractive(key) {\n",
              "          const element = document.querySelector('#df-1521aa2d-6347-489d-91bc-9b085609811e');\n",
              "          const dataTable =\n",
              "            await google.colab.kernel.invokeFunction('convertToInteractive',\n",
              "                                                     [key], {});\n",
              "          if (!dataTable) return;\n",
              "\n",
              "          const docLinkHtml = 'Like what you see? Visit the ' +\n",
              "            '<a target=\"_blank\" href=https://colab.research.google.com/notebooks/data_table.ipynb>data table notebook</a>'\n",
              "            + ' to learn more about interactive tables.';\n",
              "          element.innerHTML = '';\n",
              "          dataTable['output_type'] = 'display_data';\n",
              "          await google.colab.output.renderOutput(dataTable, element);\n",
              "          const docLink = document.createElement('div');\n",
              "          docLink.innerHTML = docLinkHtml;\n",
              "          element.appendChild(docLink);\n",
              "        }\n",
              "      </script>\n",
              "    </div>\n",
              "  </div>\n",
              "  "
            ]
          },
          "metadata": {},
          "execution_count": 125
        }
      ]
    },
    {
      "cell_type": "code",
      "source": [
        "plt.barh(y=top_10.index, width=top_10.values, color='royalblue')\n",
        "plt.title('Fitur yang terpilih')\n",
        "plt.xlabel('Nilai Importance')\n",
        "plt.ylabel('Nama Fitur')\n",
        "plt.show()"
      ],
      "metadata": {
        "colab": {
          "base_uri": "https://localhost:8080/",
          "height": 517
        },
        "id": "vi56uiGiTNN5",
        "outputId": "37e377d5-3512-4518-ac05-ed1a487d88a6"
      },
      "execution_count": 130,
      "outputs": [
        {
          "output_type": "display_data",
          "data": {
            "text/plain": [
              "<Figure size 1080x576 with 1 Axes>"
            ],
            "image/png": "[encoded data removed]"
          },
          "metadata": {}
        }
      ]
    },
    {
      "cell_type": "code",
      "source": [
        "for i in range(0, len(df_loan_model.columns)):\n",
        "    plt.subplot(4, 3, i+1)\n",
        "    sns.distplot(df_loan_clean[df_loan_model.columns[i]], color='gray')\n",
        "    plt.tight_layout()"
      ],
      "metadata": {
        "colab": {
          "base_uri": "https://localhost:8080/",
          "height": 585
        },
        "id": "6_bonIiGTwVr",
        "outputId": "ec6bc75b-4ff5-41f3-ffd5-2b3855bd02a0"
      },
      "execution_count": 131,
      "outputs": [
        {
          "output_type": "display_data",
          "data": {
            "text/plain": [
              "<Figure size 1080x576 with 11 Axes>"
            ],
            "image/png": "[encoded data removed]"
          },
          "metadata": {}
        }
      ]
    },
    {
      "cell_type": "code",
      "source": [
        "df_loan_model.describe()"
      ],
      "metadata": {
        "colab": {
          "base_uri": "https://localhost:8080/",
          "height": 364
        },
        "id": "zwtoaQPNUYQY",
        "outputId": "39689c31-33ff-40d2-e239-d9063a7d4edd"
      },
      "execution_count": 132,
      "outputs": [
        {
          "output_type": "execute_result",
          "data": {
            "text/plain": [
              "             issue_d            dti  funded_amnt_inv  total_rec_int  \\\n",
              "count  465839.000000  465839.000000    465839.000000  465839.000000   \n",
              "mean      106.326986      17.220698     14226.100041    2590.972330   \n",
              "std        14.531153       7.850309      8296.712432    2483.803614   \n",
              "min        91.000000       0.000000         0.000000       0.000000   \n",
              "25%        96.000000      11.360000      8000.000000     959.250000   \n",
              "50%       102.000000      16.870000     12000.000000    1820.460000   \n",
              "75%       112.000000      22.780000     19950.000000    3306.210000   \n",
              "max       182.000000      39.990000     35000.000000   24205.620000   \n",
              "\n",
              "           loan_amnt  total_pymnt_inv    total_pymnt    funded_amnt  \\\n",
              "count  465839.000000    465839.000000  465839.000000  465839.000000   \n",
              "mean    14320.476602     11479.193154   11549.816666   14294.980240   \n",
              "std      8285.668357      8251.880469    8263.516980    8273.522954   \n",
              "min       500.000000         0.000000      33.730000     500.000000   \n",
              "25%      8000.000000      5506.720000    5561.985000    8000.000000   \n",
              "50%     12000.000000      9362.100000    9426.240000   12000.000000   \n",
              "75%     20000.000000     15238.340000   15315.640000   20000.000000   \n",
              "max     35000.000000     57777.580000   57777.579870   35000.000000   \n",
              "\n",
              "         annual_inc    installment  verification_status_label  \n",
              "count  4.658390e+05  465839.000000              465839.000000  \n",
              "mean   7.328680e+04     432.142731                   1.042639  \n",
              "std    5.497357e+04     243.454642                   0.822484  \n",
              "min    1.896000e+03      15.670000                   0.000000  \n",
              "25%    4.500000e+04     256.820000                   0.000000  \n",
              "50%    6.300000e+04     380.110000                   1.000000  \n",
              "75%    8.900000e+04     566.660000                   2.000000  \n",
              "max    7.500000e+06    1409.990000                   2.000000  "
            ],
            "text/html": [
              "\n",
              "  <div id=\"df-b7cebbb7-1790-4ae5-b2fb-8dfe1f730a09\">\n",
              "    <div class=\"colab-df-container\">\n",
              "      <div>\n",
              "<style scoped>\n",
              "    .dataframe tbody tr th:only-of-type {\n",
              "        vertical-align: middle;\n",
              "    }\n",
              "\n",
              "    .dataframe tbody tr th {\n",
              "        vertical-align: top;\n",
              "    }\n",
              "\n",
              "    .dataframe thead th {\n",
              "        text-align: right;\n",
              "    }\n",
              "</style>\n",
              "<table border=\"1\" class=\"dataframe\">\n",
              "  <thead>\n",
              "    <tr style=\"text-align: right;\">\n",
              "      <th></th>\n",
              "      <th>issue_d</th>\n",
              "      <th>dti</th>\n",
              "      <th>funded_amnt_inv</th>\n",
              "      <th>total_rec_int</th>\n",
              "      <th>loan_amnt</th>\n",
              "      <th>total_pymnt_inv</th>\n",
              "      <th>total_pymnt</th>\n",
              "      <th>funded_amnt</th>\n",
              "      <th>annual_inc</th>\n",
              "      <th>installment</th>\n",
              "      <th>verification_status_label</th>\n",
              "    </tr>\n",
              "  </thead>\n",
              "  <tbody>\n",
              "    <tr>\n",
              "      <th>count</th>\n",
              "      <td>465839.000000</td>\n",
              "      <td>465839.000000</td>\n",
              "      <td>465839.000000</td>\n",
              "      <td>465839.000000</td>\n",
              "      <td>465839.000000</td>\n",
              "      <td>465839.000000</td>\n",
              "      <td>465839.000000</td>\n",
              "      <td>465839.000000</td>\n",
              "      <td>4.658390e+05</td>\n",
              "      <td>465839.000000</td>\n",
              "      <td>465839.000000</td>\n",
              "    </tr>\n",
              "    <tr>\n",
              "      <th>mean</th>\n",
              "      <td>106.326986</td>\n",
              "      <td>17.220698</td>\n",
              "      <td>14226.100041</td>\n",
              "      <td>2590.972330</td>\n",
              "      <td>14320.476602</td>\n",
              "      <td>11479.193154</td>\n",
              "      <td>11549.816666</td>\n",
              "      <td>14294.980240</td>\n",
              "      <td>7.328680e+04</td>\n",
              "      <td>432.142731</td>\n",
              "      <td>1.042639</td>\n",
              "    </tr>\n",
              "    <tr>\n",
              "      <th>std</th>\n",
              "      <td>14.531153</td>\n",
              "      <td>7.850309</td>\n",
              "      <td>8296.712432</td>\n",
              "      <td>2483.803614</td>\n",
              "      <td>8285.668357</td>\n",
              "      <td>8251.880469</td>\n",
              "      <td>8263.516980</td>\n",
              "      <td>8273.522954</td>\n",
              "      <td>5.497357e+04</td>\n",
              "      <td>243.454642</td>\n",
              "      <td>0.822484</td>\n",
              "    </tr>\n",
              "    <tr>\n",
              "      <th>min</th>\n",
              "      <td>91.000000</td>\n",
              "      <td>0.000000</td>\n",
              "      <td>0.000000</td>\n",
              "      <td>0.000000</td>\n",
              "      <td>500.000000</td>\n",
              "      <td>0.000000</td>\n",
              "      <td>33.730000</td>\n",
              "      <td>500.000000</td>\n",
              "      <td>1.896000e+03</td>\n",
              "      <td>15.670000</td>\n",
              "      <td>0.000000</td>\n",
              "    </tr>\n",
              "    <tr>\n",
              "      <th>25%</th>\n",
              "      <td>96.000000</td>\n",
              "      <td>11.360000</td>\n",
              "      <td>8000.000000</td>\n",
              "      <td>959.250000</td>\n",
              "      <td>8000.000000</td>\n",
              "      <td>5506.720000</td>\n",
              "      <td>5561.985000</td>\n",
              "      <td>8000.000000</td>\n",
              "      <td>4.500000e+04</td>\n",
              "      <td>256.820000</td>\n",
              "      <td>0.000000</td>\n",
              "    </tr>\n",
              "    <tr>\n",
              "      <th>50%</th>\n",
              "      <td>102.000000</td>\n",
              "      <td>16.870000</td>\n",
              "      <td>12000.000000</td>\n",
              "      <td>1820.460000</td>\n",
              "      <td>12000.000000</td>\n",
              "      <td>9362.100000</td>\n",
              "      <td>9426.240000</td>\n",
              "      <td>12000.000000</td>\n",
              "      <td>6.300000e+04</td>\n",
              "      <td>380.110000</td>\n",
              "      <td>1.000000</td>\n",
              "    </tr>\n",
              "    <tr>\n",
              "      <th>75%</th>\n",
              "      <td>112.000000</td>\n",
              "      <td>22.780000</td>\n",
              "      <td>19950.000000</td>\n",
              "      <td>3306.210000</td>\n",
              "      <td>20000.000000</td>\n",
              "      <td>15238.340000</td>\n",
              "      <td>15315.640000</td>\n",
              "      <td>20000.000000</td>\n",
              "      <td>8.900000e+04</td>\n",
              "      <td>566.660000</td>\n",
              "      <td>2.000000</td>\n",
              "    </tr>\n",
              "    <tr>\n",
              "      <th>max</th>\n",
              "      <td>182.000000</td>\n",
              "      <td>39.990000</td>\n",
              "      <td>35000.000000</td>\n",
              "      <td>24205.620000</td>\n",
              "      <td>35000.000000</td>\n",
              "      <td>57777.580000</td>\n",
              "      <td>57777.579870</td>\n",
              "      <td>35000.000000</td>\n",
              "      <td>7.500000e+06</td>\n",
              "      <td>1409.990000</td>\n",
              "      <td>2.000000</td>\n",
              "    </tr>\n",
              "  </tbody>\n",
              "</table>\n",
              "</div>\n",
              "      <button class=\"colab-df-convert\" onclick=\"convertToInteractive('df-b7cebbb7-1790-4ae5-b2fb-8dfe1f730a09')\"\n",
              "              title=\"Convert this dataframe to an interactive table.\"\n",
              "              style=\"display:none;\">\n",
              "        \n",
              "  <svg xmlns=\"http://www.w3.org/2000/svg\" height=\"24px\"viewBox=\"0 0 24 24\"\n",
              "       width=\"24px\">\n",
              "    <path d=\"M0 0h24v24H0V0z\" fill=\"none\"/>\n",
              "    <path d=\"M18.56 5.44l.94 2.06.94-2.06 2.06-.94-2.06-.94-.94-2.06-.94 2.06-2.06.94zm-11 1L8.5 8.5l.94-2.06 2.06-.94-2.06-.94L8.5 2.5l-.94 2.06-2.06.94zm10 10l.94 2.06.94-2.06 2.06-.94-2.06-.94-.94-2.06-.94 2.06-2.06.94z\"/><path d=\"M17.41 7.96l-1.37-1.37c-.4-.4-.92-.59-1.43-.59-.52 0-1.04.2-1.43.59L10.3 9.45l-7.72 7.72c-.78.78-.78 2.05 0 2.83L4 21.41c.39.39.9.59 1.41.59.51 0 1.02-.2 1.41-.59l7.78-7.78 2.81-2.81c.8-.78.8-2.07 0-2.86zM5.41 20L4 18.59l7.72-7.72 1.47 1.35L5.41 20z\"/>\n",
              "  </svg>\n",
              "      </button>\n",
              "      \n",
              "  <style>\n",
              "    .colab-df-container {\n",
              "      display:flex;\n",
              "      flex-wrap:wrap;\n",
              "      gap: 12px;\n",
              "    }\n",
              "\n",
              "    .colab-df-convert {\n",
              "      background-color: #E8F0FE;\n",
              "      border: none;\n",
              "      border-radius: 50%;\n",
              "      cursor: pointer;\n",
              "      display: none;\n",
              "      fill: #1967D2;\n",
              "      height: 32px;\n",
              "      padding: 0 0 0 0;\n",
              "      width: 32px;\n",
              "    }\n",
              "\n",
              "    .colab-df-convert:hover {\n",
              "      background-color: #E2EBFA;\n",
              "      box-shadow: 0px 1px 2px rgba(60, 64, 67, 0.3), 0px 1px 3px 1px rgba(60, 64, 67, 0.15);\n",
              "      fill: #174EA6;\n",
              "    }\n",
              "\n",
              "    [theme=dark] .colab-df-convert {\n",
              "      background-color: #3B4455;\n",
              "      fill: #D2E3FC;\n",
              "    }\n",
              "\n",
              "    [theme=dark] .colab-df-convert:hover {\n",
              "      background-color: #434B5C;\n",
              "      box-shadow: 0px 1px 3px 1px rgba(0, 0, 0, 0.15);\n",
              "      filter: drop-shadow(0px 1px 2px rgba(0, 0, 0, 0.3));\n",
              "      fill: #FFFFFF;\n",
              "    }\n",
              "  </style>\n",
              "\n",
              "      <script>\n",
              "        const buttonEl =\n",
              "          document.querySelector('#df-b7cebbb7-1790-4ae5-b2fb-8dfe1f730a09 button.colab-df-convert');\n",
              "        buttonEl.style.display =\n",
              "          google.colab.kernel.accessAllowed ? 'block' : 'none';\n",
              "\n",
              "        async function convertToInteractive(key) {\n",
              "          const element = document.querySelector('#df-b7cebbb7-1790-4ae5-b2fb-8dfe1f730a09');\n",
              "          const dataTable =\n",
              "            await google.colab.kernel.invokeFunction('convertToInteractive',\n",
              "                                                     [key], {});\n",
              "          if (!dataTable) return;\n",
              "\n",
              "          const docLinkHtml = 'Like what you see? Visit the ' +\n",
              "            '<a target=\"_blank\" href=https://colab.research.google.com/notebooks/data_table.ipynb>data table notebook</a>'\n",
              "            + ' to learn more about interactive tables.';\n",
              "          element.innerHTML = '';\n",
              "          dataTable['output_type'] = 'display_data';\n",
              "          await google.colab.output.renderOutput(dataTable, element);\n",
              "          const docLink = document.createElement('div');\n",
              "          docLink.innerHTML = docLinkHtml;\n",
              "          element.appendChild(docLink);\n",
              "        }\n",
              "      </script>\n",
              "    </div>\n",
              "  </div>\n",
              "  "
            ]
          },
          "metadata": {},
          "execution_count": 132
        }
      ]
    },
    {
      "cell_type": "code",
      "source": [
        "plt.pie(y.value_counts(), autopct='%1.1f%%')\n",
        "plt.title('Verfication_status_label')\n",
        "plt.legend(le.classes_)\n",
        "plt.show()"
      ],
      "metadata": {
        "colab": {
          "base_uri": "https://localhost:8080/",
          "height": 483
        },
        "id": "JcL9XDeXV6ux",
        "outputId": "aec959a0-c3a6-4ba1-9516-da15075890dc"
      },
      "execution_count": 145,
      "outputs": [
        {
          "output_type": "display_data",
          "data": {
            "text/plain": [
              "<Figure size 1080x576 with 1 Axes>"
            ],
            "image/png": "[encoded data removed]"
          },
          "metadata": {}
        }
      ]
    },
    {
      "cell_type": "markdown",
      "source": [
        "## Pembangunan Model"
      ],
      "metadata": {
        "id": "YaIGcRnJUrUa"
      }
    },
    {
      "cell_type": "code",
      "source": [
        "X = df_loan_model.iloc[:,:-1]\n",
        "X.head()"
      ],
      "metadata": {
        "colab": {
          "base_uri": "https://localhost:8080/",
          "height": 206
        },
        "outputId": "f0bca77e-5bb9-45ce-f488-d84d568c7a1a",
        "id": "l6qmaDPZVPGV"
      },
      "execution_count": 135,
      "outputs": [
        {
          "output_type": "execute_result",
          "data": {
            "text/plain": [
              "   issue_d    dti  funded_amnt_inv  total_rec_int  loan_amnt  total_pymnt_inv  \\\n",
              "0      127  27.65           4975.0         861.07       5000          5831.78   \n",
              "1      127   1.00           2500.0         435.17       2500          1008.71   \n",
              "2      127   8.72           2400.0         603.65       2400          3003.65   \n",
              "3      127  20.00          10000.0        2209.33      10000         12226.30   \n",
              "4      127  17.94           3000.0        1009.07       3000          3242.17   \n",
              "\n",
              "    total_pymnt  funded_amnt  annual_inc  installment  \n",
              "0   5861.071414         5000     24000.0       162.87  \n",
              "1   1008.710000         2500     30000.0        59.83  \n",
              "2   3003.653644         2400     12252.0        84.33  \n",
              "3  12226.302210        10000     49200.0       339.31  \n",
              "4   3242.170000         3000     80000.0        67.79  "
            ],
            "text/html": [
              "\n",
              "  <div id=\"df-404cd295-b454-495c-8899-d2ebb0880c36\">\n",
              "    <div class=\"colab-df-container\">\n",
              "      <div>\n",
              "<style scoped>\n",
              "    .dataframe tbody tr th:only-of-type {\n",
              "        vertical-align: middle;\n",
              "    }\n",
              "\n",
              "    .dataframe tbody tr th {\n",
              "        vertical-align: top;\n",
              "    }\n",
              "\n",
              "    .dataframe thead th {\n",
              "        text-align: right;\n",
              "    }\n",
              "</style>\n",
              "<table border=\"1\" class=\"dataframe\">\n",
              "  <thead>\n",
              "    <tr style=\"text-align: right;\">\n",
              "      <th></th>\n",
              "      <th>issue_d</th>\n",
              "      <th>dti</th>\n",
              "      <th>funded_amnt_inv</th>\n",
              "      <th>total_rec_int</th>\n",
              "      <th>loan_amnt</th>\n",
              "      <th>total_pymnt_inv</th>\n",
              "      <th>total_pymnt</th>\n",
              "      <th>funded_amnt</th>\n",
              "      <th>annual_inc</th>\n",
              "      <th>installment</th>\n",
              "    </tr>\n",
              "  </thead>\n",
              "  <tbody>\n",
              "    <tr>\n",
              "      <th>0</th>\n",
              "      <td>127</td>\n",
              "      <td>27.65</td>\n",
              "      <td>4975.0</td>\n",
              "      <td>861.07</td>\n",
              "      <td>5000</td>\n",
              "      <td>5831.78</td>\n",
              "      <td>5861.071414</td>\n",
              "      <td>5000</td>\n",
              "      <td>24000.0</td>\n",
              "      <td>162.87</td>\n",
              "    </tr>\n",
              "    <tr>\n",
              "      <th>1</th>\n",
              "      <td>127</td>\n",
              "      <td>1.00</td>\n",
              "      <td>2500.0</td>\n",
              "      <td>435.17</td>\n",
              "      <td>2500</td>\n",
              "      <td>1008.71</td>\n",
              "      <td>1008.710000</td>\n",
              "      <td>2500</td>\n",
              "      <td>30000.0</td>\n",
              "      <td>59.83</td>\n",
              "    </tr>\n",
              "    <tr>\n",
              "      <th>2</th>\n",
              "      <td>127</td>\n",
              "      <td>8.72</td>\n",
              "      <td>2400.0</td>\n",
              "      <td>603.65</td>\n",
              "      <td>2400</td>\n",
              "      <td>3003.65</td>\n",
              "      <td>3003.653644</td>\n",
              "      <td>2400</td>\n",
              "      <td>12252.0</td>\n",
              "      <td>84.33</td>\n",
              "    </tr>\n",
              "    <tr>\n",
              "      <th>3</th>\n",
              "      <td>127</td>\n",
              "      <td>20.00</td>\n",
              "      <td>10000.0</td>\n",
              "      <td>2209.33</td>\n",
              "      <td>10000</td>\n",
              "      <td>12226.30</td>\n",
              "      <td>12226.302210</td>\n",
              "      <td>10000</td>\n",
              "      <td>49200.0</td>\n",
              "      <td>339.31</td>\n",
              "    </tr>\n",
              "    <tr>\n",
              "      <th>4</th>\n",
              "      <td>127</td>\n",
              "      <td>17.94</td>\n",
              "      <td>3000.0</td>\n",
              "      <td>1009.07</td>\n",
              "      <td>3000</td>\n",
              "      <td>3242.17</td>\n",
              "      <td>3242.170000</td>\n",
              "      <td>3000</td>\n",
              "      <td>80000.0</td>\n",
              "      <td>67.79</td>\n",
              "    </tr>\n",
              "  </tbody>\n",
              "</table>\n",
              "</div>\n",
              "      <button class=\"colab-df-convert\" onclick=\"convertToInteractive('df-404cd295-b454-495c-8899-d2ebb0880c36')\"\n",
              "              title=\"Convert this dataframe to an interactive table.\"\n",
              "              style=\"display:none;\">\n",
              "        \n",
              "  <svg xmlns=\"http://www.w3.org/2000/svg\" height=\"24px\"viewBox=\"0 0 24 24\"\n",
              "       width=\"24px\">\n",
              "    <path d=\"M0 0h24v24H0V0z\" fill=\"none\"/>\n",
              "    <path d=\"M18.56 5.44l.94 2.06.94-2.06 2.06-.94-2.06-.94-.94-2.06-.94 2.06-2.06.94zm-11 1L8.5 8.5l.94-2.06 2.06-.94-2.06-.94L8.5 2.5l-.94 2.06-2.06.94zm10 10l.94 2.06.94-2.06 2.06-.94-2.06-.94-.94-2.06-.94 2.06-2.06.94z\"/><path d=\"M17.41 7.96l-1.37-1.37c-.4-.4-.92-.59-1.43-.59-.52 0-1.04.2-1.43.59L10.3 9.45l-7.72 7.72c-.78.78-.78 2.05 0 2.83L4 21.41c.39.39.9.59 1.41.59.51 0 1.02-.2 1.41-.59l7.78-7.78 2.81-2.81c.8-.78.8-2.07 0-2.86zM5.41 20L4 18.59l7.72-7.72 1.47 1.35L5.41 20z\"/>\n",
              "  </svg>\n",
              "      </button>\n",
              "      \n",
              "  <style>\n",
              "    .colab-df-container {\n",
              "      display:flex;\n",
              "      flex-wrap:wrap;\n",
              "      gap: 12px;\n",
              "    }\n",
              "\n",
              "    .colab-df-convert {\n",
              "      background-color: #E8F0FE;\n",
              "      border: none;\n",
              "      border-radius: 50%;\n",
              "      cursor: pointer;\n",
              "      display: none;\n",
              "      fill: #1967D2;\n",
              "      height: 32px;\n",
              "      padding: 0 0 0 0;\n",
              "      width: 32px;\n",
              "    }\n",
              "\n",
              "    .colab-df-convert:hover {\n",
              "      background-color: #E2EBFA;\n",
              "      box-shadow: 0px 1px 2px rgba(60, 64, 67, 0.3), 0px 1px 3px 1px rgba(60, 64, 67, 0.15);\n",
              "      fill: #174EA6;\n",
              "    }\n",
              "\n",
              "    [theme=dark] .colab-df-convert {\n",
              "      background-color: #3B4455;\n",
              "      fill: #D2E3FC;\n",
              "    }\n",
              "\n",
              "    [theme=dark] .colab-df-convert:hover {\n",
              "      background-color: #434B5C;\n",
              "      box-shadow: 0px 1px 3px 1px rgba(0, 0, 0, 0.15);\n",
              "      filter: drop-shadow(0px 1px 2px rgba(0, 0, 0, 0.3));\n",
              "      fill: #FFFFFF;\n",
              "    }\n",
              "  </style>\n",
              "\n",
              "      <script>\n",
              "        const buttonEl =\n",
              "          document.querySelector('#df-404cd295-b454-495c-8899-d2ebb0880c36 button.colab-df-convert');\n",
              "        buttonEl.style.display =\n",
              "          google.colab.kernel.accessAllowed ? 'block' : 'none';\n",
              "\n",
              "        async function convertToInteractive(key) {\n",
              "          const element = document.querySelector('#df-404cd295-b454-495c-8899-d2ebb0880c36');\n",
              "          const dataTable =\n",
              "            await google.colab.kernel.invokeFunction('convertToInteractive',\n",
              "                                                     [key], {});\n",
              "          if (!dataTable) return;\n",
              "\n",
              "          const docLinkHtml = 'Like what you see? Visit the ' +\n",
              "            '<a target=\"_blank\" href=https://colab.research.google.com/notebooks/data_table.ipynb>data table notebook</a>'\n",
              "            + ' to learn more about interactive tables.';\n",
              "          element.innerHTML = '';\n",
              "          dataTable['output_type'] = 'display_data';\n",
              "          await google.colab.output.renderOutput(dataTable, element);\n",
              "          const docLink = document.createElement('div');\n",
              "          docLink.innerHTML = docLinkHtml;\n",
              "          element.appendChild(docLink);\n",
              "        }\n",
              "      </script>\n",
              "    </div>\n",
              "  </div>\n",
              "  "
            ]
          },
          "metadata": {},
          "execution_count": 135
        }
      ]
    },
    {
      "cell_type": "code",
      "source": [
        "y = df_loan_model.iloc[:,-1]\n",
        "y.head()"
      ],
      "metadata": {
        "colab": {
          "base_uri": "https://localhost:8080/"
        },
        "outputId": "59c5bd42-96da-4537-b8db-429adfdd723b",
        "id": "x3W43U-SVPGW"
      },
      "execution_count": 136,
      "outputs": [
        {
          "output_type": "execute_result",
          "data": {
            "text/plain": [
              "0    2\n",
              "1    1\n",
              "2    0\n",
              "3    1\n",
              "4    1\n",
              "Name: verification_status_label, dtype: int64"
            ]
          },
          "metadata": {},
          "execution_count": 136
        }
      ]
    },
    {
      "cell_type": "code",
      "source": [
        "X_train, X_test, y_train, y_test = train_test_split(X, y, test_size=0.3, train_size=0.7, stratify=y)"
      ],
      "metadata": {
        "id": "OZaj4ewuVWoP"
      },
      "execution_count": 137,
      "outputs": []
    },
    {
      "cell_type": "code",
      "source": [
        "hgb = HistGradientBoostingClassifier()\n",
        "hgb_acc = cross_val_score(hgb, X_train, y_train, scoring=\"accuracy\", cv=5)\n",
        "print(\"Akurasi masing-masing = \", hgb_acc)\n",
        "print(\"Rata-rata = \", hgb_acc.mean())"
      ],
      "metadata": {
        "colab": {
          "base_uri": "https://localhost:8080/"
        },
        "id": "43_iZP57XY8B",
        "outputId": "65069e84-20c0-4f13-f42e-fc3f62ec7ef5"
      },
      "execution_count": 148,
      "outputs": [
        {
          "output_type": "stream",
          "name": "stdout",
          "text": [
            "Akurasi masing-masing =  [0.58391855 0.58459321 0.58762286 0.5838815  0.58512351]\n",
            "Rata-rata =  0.5850279267314946\n"
          ]
        }
      ]
    },
    {
      "cell_type": "markdown",
      "source": [
        "### Evaluasi dengan Data Test"
      ],
      "metadata": {
        "id": "vm1gTE8zZHxt"
      }
    },
    {
      "cell_type": "code",
      "source": [
        "hgb_fit = hgb.fit(X_train, y_train)"
      ],
      "metadata": {
        "id": "gPvnSSxzZLjh"
      },
      "execution_count": 152,
      "outputs": []
    },
    {
      "cell_type": "code",
      "source": [
        "hgb_prediksi = hgb.predict(X_test)"
      ],
      "metadata": {
        "id": "ljO_Sn62Zpye"
      },
      "execution_count": 153,
      "outputs": []
    },
    {
      "cell_type": "code",
      "source": [
        "print(classification_report(y_test, hgb_prediksi, target_names=le.classes_))"
      ],
      "metadata": {
        "colab": {
          "base_uri": "https://localhost:8080/"
        },
        "id": "OsBe9gz6aHnB",
        "outputId": "04c841b9-eddc-41e2-ec79-78c0f6a19a70"
      },
      "execution_count": 160,
      "outputs": [
        {
          "output_type": "stream",
          "name": "stdout",
          "text": [
            "                 precision    recall  f1-score   support\n",
            "\n",
            "   Not Verified       0.55      0.76      0.63     44417\n",
            "Source Verified       0.56      0.45      0.50     44959\n",
            "       Verified       0.67      0.55      0.61     50376\n",
            "\n",
            "       accuracy                           0.58    139752\n",
            "      macro avg       0.59      0.59      0.58    139752\n",
            "   weighted avg       0.59      0.58      0.58    139752\n",
            "\n"
          ]
        }
      ]
    },
    {
      "cell_type": "code",
      "source": [
        "cf_matrix = confusion_matrix(y_test, hgb_prediksi).transpose()\n",
        "cf_matrix"
      ],
      "metadata": {
        "colab": {
          "base_uri": "https://localhost:8080/"
        },
        "id": "Ps1iFrGxbSdH",
        "outputId": "2453ce0a-f9cf-4537-d56f-7e68dd726aa4"
      },
      "execution_count": 163,
      "outputs": [
        {
          "output_type": "execute_result",
          "data": {
            "text/plain": [
              "array([[33598, 14798, 13246],\n",
              "       [ 6822, 20181,  9172],\n",
              "       [ 3997,  9980, 27958]])"
            ]
          },
          "metadata": {},
          "execution_count": 163
        }
      ]
    },
    {
      "cell_type": "code",
      "source": [
        "plt.figure(figsize=(15,8))\n",
        "ax = plt.subplot()\n",
        "sns.heatmap(cf_matrix, annot=True, fmt='g', cmap='Blues', ax=ax)\n",
        "ax.set_title('Confusion Matrix RF1') "
      ],
      "metadata": {
        "colab": {
          "base_uri": "https://localhost:8080/",
          "height": 517
        },
        "id": "jM4G406nbupm",
        "outputId": "d265b38c-b242-4784-9508-a4dc54c77d20"
      },
      "execution_count": 165,
      "outputs": [
        {
          "output_type": "execute_result",
          "data": {
            "text/plain": [
              "Text(0.5, 1.0, 'Confusion Matrix RF1')"
            ]
          },
          "metadata": {},
          "execution_count": 165
        },
        {
          "output_type": "display_data",
          "data": {
            "text/plain": [
              "<Figure size 1080x576 with 2 Axes>"
            ],
            "image/png": "[encoded data removed]"
          },
          "metadata": {
            "needs_background": "light"
          }
        }
      ]
    },
    {
      "cell_type": "markdown",
      "source": [
        "## Visualisasi Proses"
      ],
      "metadata": {
        "id": "-Zelahzicja6"
      }
    },
    {
      "cell_type": "code",
      "source": [
        "df_loan.shape"
      ],
      "metadata": {
        "colab": {
          "base_uri": "https://localhost:8080/"
        },
        "id": "2j157UUScx0N",
        "outputId": "05467362-b679-46d8-a857-21ed5f3fd6f0"
      },
      "execution_count": 166,
      "outputs": [
        {
          "output_type": "execute_result",
          "data": {
            "text/plain": [
              "(466285, 75)"
            ]
          },
          "metadata": {},
          "execution_count": 166
        }
      ]
    },
    {
      "cell_type": "code",
      "source": [
        "n_fitur = [74, 47, 46, 42, 39, 38, 37, 10]\n",
        "n_data = [466285, 466285, 465839, 465839, 465839, 465839, 465839, 465839]"
      ],
      "metadata": {
        "id": "ZRwYzVCyftSW"
      },
      "execution_count": 183,
      "outputs": []
    },
    {
      "cell_type": "code",
      "source": [
        "plt.scatter(x=n_data, y=n_fitur, s=300)\n",
        "plt.title('Ukuran Dataframe dari setiap proses')\n",
        "plt.xlabel('Banyak Data')\n",
        "plt.ylabel('Banyak Fitur (Dikurangi Label)')\n",
        "plt.show()"
      ],
      "metadata": {
        "colab": {
          "base_uri": "https://localhost:8080/",
          "height": 517
        },
        "id": "w1r8RnQLhHop",
        "outputId": "8f1d1659-b8c2-4aa0-8455-e130b24eab75"
      },
      "execution_count": 184,
      "outputs": [
        {
          "output_type": "display_data",
          "data": {
            "text/plain": [
              "<Figure size 1080x576 with 1 Axes>"
            ],
            "image/png": "[encoded data removed]"
          },
          "metadata": {}
        }
      ]
    },
    {
      "cell_type": "code",
      "source": [
        "print(\"Banyak Data yang dipakai = \", n_data[-1]/n_data[0]*100, '%')\n",
        "print(\"Banyak Fitur yang dipakai = \", n_fitur[-1]/n_fitur[0]*100, '%')"
      ],
      "metadata": {
        "colab": {
          "base_uri": "https://localhost:8080/"
        },
        "id": "XCoqB7W4oNBj",
        "outputId": "2676c70b-8269-4a89-ec30-5f5e9137065b"
      },
      "execution_count": 187,
      "outputs": [
        {
          "output_type": "stream",
          "name": "stdout",
          "text": [
            "Banyak Data yang dipakai =  99.90435034367393 %\n",
            "Banyak Fitur yang dipakai =  13.513513513513514 %\n"
          ]
        }
      ]
    }
  ]
}